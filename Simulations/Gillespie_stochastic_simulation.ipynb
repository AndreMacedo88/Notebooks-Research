{
 "cells": [
  {
   "cell_type": "code",
   "execution_count": 1,
   "metadata": {},
   "outputs": [],
   "source": [
    "import numpy as np\n"
   ]
  },
  {
   "cell_type": "markdown",
   "metadata": {},
   "source": [
    "# Engine"
   ]
  },
  {
   "cell_type": "code",
   "execution_count": null,
   "metadata": {},
   "outputs": [],
   "source": [
    "def exponential(lambda_, t):\n",
    "    return lambda_* np.exp(-lambda_ * t)"
   ]
  },
  {
   "cell_type": "code",
   "execution_count": null,
   "metadata": {},
   "outputs": [],
   "source": [
    "def simulation(L, T, LT, k_bind, k_dissociate, t_end=1, n_steps=100):\n",
    "    r_bind = k_bind * L * T\n",
    "    r_dissociate = k_dissociate * LT\n",
    "\n",
    "    r_total = r_bind + r_dissociate\n",
    "    p_LT = r_bind / r_total\n",
    "    p_L_T = r_dissociate / r_total\n",
    "\n",
    "    t = 0\n",
    "    "
   ]
  },
  {
   "cell_type": "markdown",
   "metadata": {},
   "source": [
    "# Simulate with physiological constants"
   ]
  },
  {
   "cell_type": "code",
   "execution_count": null,
   "metadata": {},
   "outputs": [],
   "source": [
    "k_bind = 0.0146\n",
    "k_dissociate = 35\n",
    "\n",
    "L = 10000\n",
    "T = 7000\n",
    "LT = 0"
   ]
  }
 ],
 "metadata": {
  "kernelspec": {
   "display_name": "stats",
   "language": "python",
   "name": "python3"
  },
  "language_info": {
   "codemirror_mode": {
    "name": "ipython",
    "version": 3
   },
   "file_extension": ".py",
   "mimetype": "text/x-python",
   "name": "python",
   "nbconvert_exporter": "python",
   "pygments_lexer": "ipython3",
   "version": "3.12.2"
  }
 },
 "nbformat": 4,
 "nbformat_minor": 2
}
