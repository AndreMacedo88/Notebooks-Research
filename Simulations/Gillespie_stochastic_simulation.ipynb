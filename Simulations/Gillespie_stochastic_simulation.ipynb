{
 "cells": [
  {
   "cell_type": "code",
   "execution_count": 6,
   "metadata": {},
   "outputs": [],
   "source": [
    "import numpy as np\n",
    "import scipy.stats as stats\n",
    "import seaborn as sns"
   ]
  },
  {
   "cell_type": "markdown",
   "metadata": {},
   "source": [
    "# Engine"
   ]
  },
  {
   "cell_type": "markdown",
   "metadata": {},
   "source": [
    "## Exponential function"
   ]
  },
  {
   "cell_type": "code",
   "execution_count": 7,
   "metadata": {},
   "outputs": [],
   "source": [
    "def pexp(lambda_, x):\n",
    "    \"\"\" PDF for exponential distribution\n",
    "\n",
    "    Args:\n",
    "        lambda_ (int): the rate\n",
    "        x (int): the random variable. Intuitively, for example the time that has passed \n",
    "        since the previous event\n",
    "\n",
    "    Returns:\n",
    "        float: the probability density at that x. Intuitively,\n",
    "        for example the probability of having an event at time x\n",
    "    \"\"\"\n",
    "    return lambda_* np.exp(-lambda_ * x)\n",
    "\n",
    "def dexp(lambda_, x):\n",
    "    \"\"\" CDF for exponential distribution\n",
    "\n",
    "    Args:\n",
    "        lambda_ (int): the rate\n",
    "        x (int): the random variable. Intuitively, for example the time that has passed \n",
    "        since the previous event\n",
    "\n",
    "    Returns:\n",
    "        float: the cumulative probability of all values between 0 and x,\n",
    "        inclusive. \n",
    "        Intuitively, for example the probability of having an event \n",
    "        at any time before and including x\n",
    "    \"\"\"\n",
    "    return -1 * np.exp(-lambda_ * x)\n",
    "\n",
    "def qexp(lambda_, p):\n",
    "    \"\"\"Quantile function for the exponential distribution\n",
    "    The result of the quantile is the exponential distributed random variable that has \n",
    "    probability `p` or less.\n",
    "    It can be interpreted as the 'cumulative function' for the probabilities and \n",
    "    therefore, the inverse of the cumulative distribution of a exponentially \n",
    "    distributed random value.\n",
    "\n",
    "    Args:\n",
    "        lambda_ (int): the rate\n",
    "        p (float): the probability to evaluate the quantile\n",
    "        \n",
    "    Returns:\n",
    "        float: the quantile, or inverse cumulative distribution, at p\n",
    "    \"\"\"\n",
    "    return (-1/lambda_) * np.log(1-p)\n",
    "\n",
    "\n",
    "def rexp(lambda_):\n",
    "    \"\"\" Draws a value from the exponential distribution.\n",
    "    Drawing will be done through the Inverse Transform sampling Method.\n",
    "    So we want to find a number x for which FX(x) = U; where X is a \n",
    "    random variable (exponential variable in this case) and U is a \n",
    "    uniform random variable and FX its distribution function \n",
    "    (exponential distribution in this case). So this means that to find x\n",
    "    (the goal of this whole function) we need to solve for x = F^(-1)_x(U).\n",
    "    \n",
    "    So the steps are:\n",
    "    - calculate the inverse of the exponential CDF: F^(-1)_x\n",
    "    - draw a uniform random probability U (from the interval [0,1], of course)\n",
    "    - calculate x = F^(-1)_x(U)\n",
    "\n",
    "    Args:\n",
    "        lambda_ (int): the rate\n",
    "\n",
    "    Returns:\n",
    "        float: a random exponential variable\n",
    "    \"\"\"\n",
    "    u = np.random.uniform(low=0, high=1, size=1)\n",
    "    t = qexp(lambda_=lambda_, p=u)\n",
    "    return t.item()"
   ]
  },
  {
   "cell_type": "markdown",
   "metadata": {},
   "source": [
    "## Test exponential random variable generation"
   ]
  },
  {
   "cell_type": "code",
   "execution_count": 8,
   "metadata": {},
   "outputs": [
    {
     "name": "stderr",
     "output_type": "stream",
     "text": [
      "d:\\anaconda3\\envs\\stats\\Lib\\site-packages\\seaborn\\_oldcore.py:1119: FutureWarning: use_inf_as_na option is deprecated and will be removed in a future version. Convert inf values to NaN before operating instead.\n",
      "  with pd.option_context('mode.use_inf_as_na', True):\n"
     ]
    },
    {
     "data": {
      "text/plain": [
       "KstestResult(statistic=0.2737194448369725, pvalue=1.0693401989623529e-66, statistic_location=1.4555134503506002, statistic_sign=-1)"
      ]
     },
     "execution_count": 8,
     "metadata": {},
     "output_type": "execute_result"
    },
    {
     "data": {
      "image/png": "[encoded data removed]",
      "text/plain": [
       "<Figure size 640x480 with 1 Axes>"
      ]
     },
     "metadata": {},
     "output_type": "display_data"
    }
   ],
   "source": [
    "to_test = [rexp(0.5) for i in range(1000)]\n",
    "sns.histplot(to_test)\n",
    "stats.kstest(to_test, \"expon\")"
   ]
  },
  {
   "cell_type": "code",
   "execution_count": 9,
   "metadata": {},
   "outputs": [
    {
     "name": "stderr",
     "output_type": "stream",
     "text": [
      "d:\\anaconda3\\envs\\stats\\Lib\\site-packages\\seaborn\\_oldcore.py:1119: FutureWarning: use_inf_as_na option is deprecated and will be removed in a future version. Convert inf values to NaN before operating instead.\n",
      "  with pd.option_context('mode.use_inf_as_na', True):\n",
      "d:\\anaconda3\\envs\\stats\\Lib\\site-packages\\seaborn\\_oldcore.py:1119: FutureWarning: use_inf_as_na option is deprecated and will be removed in a future version. Convert inf values to NaN before operating instead.\n",
      "  with pd.option_context('mode.use_inf_as_na', True):\n"
     ]
    },
    {
     "data": {
      "text/plain": [
       "KstestResult(statistic=0.03, pvalue=0.7593695685682871, statistic_location=2.370920522896573, statistic_sign=-1)"
      ]
     },
     "execution_count": 9,
     "metadata": {},
     "output_type": "execute_result"
    },
    {
     "data": {
      "image/png": "[encoded data removed]",
      "text/plain": [
       "<Figure size 640x480 with 1 Axes>"
      ]
     },
     "metadata": {},
     "output_type": "display_data"
    }
   ],
   "source": [
    "r = stats.expon.rvs(size=1000, scale=1/0.5)\n",
    "sns.histplot(r)\n",
    "sns.histplot(to_test)\n",
    "stats.kstest(to_test, r)"
   ]
  },
  {
   "cell_type": "markdown",
   "metadata": {},
   "source": [
    "## Simulation engine"
   ]
  },
  {
   "cell_type": "code",
   "execution_count": null,
   "metadata": {},
   "outputs": [],
   "source": [
    "def gillespie_simulation(L, T, LT, k_bind, k_dissociate, t_vec, cycles, steps):\n",
    "    for i in range(cycles):\n",
    "        for j in range(steps):\n",
    "            # Calculate partial reaction rates\n",
    "            r_bind = k_bind * L[i, j] * T[i, j]\n",
    "            r_dissociate = k_dissociate * LT[i, j]\n",
    "\n",
    "            # Calculate global reaction rate\n",
    "            r_total = r_bind + r_dissociate\n",
    "\n",
    "            # Calculate probabilities of each reaction\n",
    "            p_LT = r_bind / r_total\n",
    "            # p_L_T = r_dissociate / r_total  # only one of these 2 are needed\n",
    "\n",
    "            # Calculate time to next reaction\n",
    "            time_next_reaction = rexp(lambda_=r_total)\n",
    "            t_vec[i, j+1] = t_vec[i, j] + time_next_reaction\n",
    "            \n",
    "            # Select which reaction occured\n",
    "            u = np.random.uniform(low=0, high=1, size=1)\n",
    "\n",
    "            if u < p_LT:\n",
    "                L[i, j+1] = L[i, j] - 1\n",
    "                T[i, j+1] = T[i, j] - 1\n",
    "                LT[i, j+1] = LT[i, j] + 1\n",
    "            else:\n",
    "                L[i, j+1] = L[i, j] + 1\n",
    "                T[i, j+1] = T[i, j] + 1\n",
    "                LT[i, j+1] = LT[i, j] - 1\n",
    "                \n",
    "    return L, T, LT, t_vec\n"
   ]
  },
  {
   "cell_type": "markdown",
   "metadata": {},
   "source": [
    "# Simulate with physiological constants"
   ]
  },
  {
   "cell_type": "code",
   "execution_count": 10,
   "metadata": {},
   "outputs": [],
   "source": [
    "# Fix model parameters\n",
    "k_bind = 0.0146\n",
    "k_dissociate = 35\n",
    "\n",
    "L0 = 10000\n",
    "T0 = 7000\n",
    "LT0 = 0\n",
    "\n",
    "steps = 25    # Number of reactions per trajectory\n",
    "cycles = 1  # Number of trajectories iterated over\n",
    "\n",
    "# Set up holder arrays\n",
    "t = np.zeros((cycles, steps+1))\n",
    "L = np.zeros((cycles, steps+1))\n",
    "T = np.zeros((cycles, steps+1))\n",
    "LT = np.zeros((cycles, steps+1))\n",
    "\n",
    "# Store initial conditions\n",
    "L[:, 0] = L0\n",
    "T[:, 0] = T0\n",
    "LT[:, 0] = LT0\n"
   ]
  }
 ],
 "metadata": {
  "kernelspec": {
   "display_name": "stats",
   "language": "python",
   "name": "python3"
  },
  "language_info": {
   "codemirror_mode": {
    "name": "ipython",
    "version": 3
   },
   "file_extension": ".py",
   "mimetype": "text/x-python",
   "name": "python",
   "nbconvert_exporter": "python",
   "pygments_lexer": "ipython3",
   "version": "3.12.2"
  }
 },
 "nbformat": 4,
 "nbformat_minor": 2
}
