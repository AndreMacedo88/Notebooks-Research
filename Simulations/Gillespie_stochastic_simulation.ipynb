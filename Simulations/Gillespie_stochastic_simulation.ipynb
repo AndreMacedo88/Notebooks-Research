{
 "cells": [
  {
   "cell_type": "code",
   "execution_count": 12,
   "metadata": {},
   "outputs": [],
   "source": [
    "import numpy as np\n",
    "import scipy.stats as stats\n",
    "import seaborn as sns"
   ]
  },
  {
   "cell_type": "markdown",
   "metadata": {},
   "source": [
    "# Engine"
   ]
  },
  {
   "cell_type": "code",
   "execution_count": 4,
   "metadata": {},
   "outputs": [],
   "source": [
    "def pexp(lambda_, x):\n",
    "    \"\"\" PDF for exponential distribution\n",
    "\n",
    "    Args:\n",
    "        lambda_ (int): the rate\n",
    "        x (int): the x value of the distribution. Intuitively,\n",
    "        for example the time that has passed since the previous event\n",
    "\n",
    "    Returns:\n",
    "        float: the probability density at that x. Intuitively,\n",
    "        for example the probability of having an event at time x\n",
    "    \"\"\"\n",
    "    return lambda_* np.exp(-lambda_ * x)\n",
    "\n",
    "def dexp(lambda_, x):\n",
    "    \"\"\" CDF for exponential distribution\n",
    "\n",
    "    Args:\n",
    "        lambda_ (int): the rate\n",
    "        x (int): the x value of the distribution. Intuitively,\n",
    "        for example the time that has passed since the previous event\n",
    "\n",
    "    Returns:\n",
    "        float: the cumulative probability of all values between 0 and x,\n",
    "        inclusive. \n",
    "        Intuitively, for example the probability of having an event \n",
    "        at any time before and including x\n",
    "    \"\"\"\n",
    "    return -1 * np.exp(-lambda_ * x)\n",
    "\n",
    "def rexp(lambda_):\n",
    "    \"\"\" Draw values from the exponential distribution\n",
    "    This will be done througn the Inverse Transform sampling Method.\n",
    "    So we want to find a number x for which FX(x) = U; where X is a \n",
    "    random variable (exponential variable in this case) and U is a \n",
    "    uniform random variable and FX its distribution function \n",
    "    (exponential distribution in this case). So this means that to find x\n",
    "    (the goal of this whole function) we need to solve for x = F^(-1)_x(U).\n",
    "    \n",
    "    So the steps are:\n",
    "    - calculate the inverse of the exponential CDF: F^(-1)_x\n",
    "    - draw a uniform random probability U (from the interval [0,1], of course)\n",
    "    - calculate x = F^(-1)_x(U)\n",
    "\n",
    "    Args:\n",
    "        lambda_ (int): the rate\n",
    "\n",
    "    Returns:\n",
    "        float: a random exponential variable\n",
    "    \"\"\"\n",
    "    u = np.random.uniform(low=0, high=1, size=1)\n",
    "    t = (-1/lambda_) * np.log(u)\n",
    "    return t.item()"
   ]
  },
  {
   "cell_type": "code",
   "execution_count": 24,
   "metadata": {},
   "outputs": [
    {
     "name": "stderr",
     "output_type": "stream",
     "text": [
      "d:\\anaconda3\\envs\\stats\\Lib\\site-packages\\seaborn\\_oldcore.py:1119: FutureWarning: use_inf_as_na option is deprecated and will be removed in a future version. Convert inf values to NaN before operating instead.\n",
      "  with pd.option_context('mode.use_inf_as_na', True):\n"
     ]
    },
    {
     "data": {
      "text/plain": [
       "KstestResult(statistic=0.26102504628613077, pvalue=1.3389744970669008e-60, statistic_location=1.0907186643156108, statistic_sign=-1)"
      ]
     },
     "execution_count": 24,
     "metadata": {},
     "output_type": "execute_result"
    },
    {
     "data": {
      "image/png": "[encoded data removed]",
      "text/plain": [
       "<Figure size 640x480 with 1 Axes>"
      ]
     },
     "metadata": {},
     "output_type": "display_data"
    }
   ],
   "source": [
    "to_test = [rexp(0.5) for i in range(1000)]\n",
    "sns.histplot(to_test)\n",
    "stats.kstest(to_test, \"expon\")"
   ]
  },
  {
   "cell_type": "code",
   "execution_count": 28,
   "metadata": {},
   "outputs": [
    {
     "name": "stderr",
     "output_type": "stream",
     "text": [
      "d:\\anaconda3\\envs\\stats\\Lib\\site-packages\\seaborn\\_oldcore.py:1119: FutureWarning: use_inf_as_na option is deprecated and will be removed in a future version. Convert inf values to NaN before operating instead.\n",
      "  with pd.option_context('mode.use_inf_as_na', True):\n",
      "d:\\anaconda3\\envs\\stats\\Lib\\site-packages\\seaborn\\_oldcore.py:1119: FutureWarning: use_inf_as_na option is deprecated and will be removed in a future version. Convert inf values to NaN before operating instead.\n",
      "  with pd.option_context('mode.use_inf_as_na', True):\n"
     ]
    },
    {
     "data": {
      "text/plain": [
       "KstestResult(statistic=0.047, pvalue=0.21939649929677082, statistic_location=1.110624173968146, statistic_sign=-1)"
      ]
     },
     "execution_count": 28,
     "metadata": {},
     "output_type": "execute_result"
    },
    {
     "data": {
      "image/png": "[encoded data removed]",
      "text/plain": [
       "<Figure size 640x480 with 1 Axes>"
      ]
     },
     "metadata": {},
     "output_type": "display_data"
    }
   ],
   "source": [
    "r = stats.expon.rvs(size=1000, scale=1/0.5)\n",
    "sns.histplot(r)\n",
    "sns.histplot(to_test)\n",
    "stats.kstest(to_test, r)"
   ]
  },
  {
   "cell_type": "code",
   "execution_count": null,
   "metadata": {},
   "outputs": [],
   "source": [
    "def simulation(L, T, LT, k_bind, k_dissociate, t_end=1, n_steps=100):\n",
    "    r_bind = k_bind * L * T\n",
    "    r_dissociate = k_dissociate * LT\n",
    "\n",
    "    r_total = r_bind + r_dissociate\n",
    "    p_LT = r_bind / r_total\n",
    "    p_L_T = r_dissociate / r_total\n",
    "\n",
    "    t = 0\n",
    "    "
   ]
  },
  {
   "cell_type": "markdown",
   "metadata": {},
   "source": [
    "# Simulate with physiological constants"
   ]
  },
  {
   "cell_type": "code",
   "execution_count": null,
   "metadata": {},
   "outputs": [],
   "source": [
    "k_bind = 0.0146\n",
    "k_dissociate = 35\n",
    "\n",
    "L = 10000\n",
    "T = 7000\n",
    "LT = 0"
   ]
  }
 ],
 "metadata": {
  "kernelspec": {
   "display_name": "stats",
   "language": "python",
   "name": "python3"
  },
  "language_info": {
   "codemirror_mode": {
    "name": "ipython",
    "version": 3
   },
   "file_extension": ".py",
   "mimetype": "text/x-python",
   "name": "python",
   "nbconvert_exporter": "python",
   "pygments_lexer": "ipython3",
   "version": "3.12.2"
  }
 },
 "nbformat": 4,
 "nbformat_minor": 2
}
