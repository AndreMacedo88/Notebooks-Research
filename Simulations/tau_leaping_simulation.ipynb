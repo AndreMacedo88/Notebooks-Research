{
 "cells": [
  {
   "cell_type": "code",
   "execution_count": 1,
   "metadata": {},
   "outputs": [
    {
     "name": "stderr",
     "output_type": "stream",
     "text": [
      "/mnt/weird_vol/miniconda/envs/downstr/lib/python3.9/site-packages/scipy/__init__.py:146: UserWarning: A NumPy version >=1.16.5 and <1.23.0 is required for this version of SciPy (detected version 1.24.3\n",
      "  warnings.warn(f\"A NumPy version >={np_minversion} and <{np_maxversion}\"\n"
     ]
    }
   ],
   "source": [
    "import numpy as np\n",
    "import scipy.stats as stats\n",
    "import matplotlib.pyplot as plt\n",
    "import seaborn as sns\n",
    "from tqdm import tqdm"
   ]
  },
  {
   "cell_type": "markdown",
   "metadata": {},
   "source": [
    "# Engine"
   ]
  },
  {
   "cell_type": "markdown",
   "metadata": {},
   "source": [
    "## Tau leaping algorithm\n",
    "\n",
    "Tau leaping modifies the Gillespie methodology, it sacrifices exact simulation in favour of an approximate simulation that is quicker to compute.\n",
    "\n",
    "1. Initialize - Set initial conditions for the system and set leaping size\n",
    "2. Calculate event rates - for each event types depending on state of the system\n",
    "3. Monte-Carlo - for each event type sample number of events occuring within the leap\n",
    "4. Update - Update system state based on number of events\n",
    "5. Repeat - Repeat steps 2-4 until some stopping criteria is met\n"
   ]
  },
  {
   "cell_type": "markdown",
   "metadata": {},
   "source": [
    "## Poisson distribution\n",
    "\n",
    "The reactions occur as a poisson process - as a result the number of reactions occuring within a given timeframe will follow a poisson distribution.\\\n",
    "The waiting time between reactions follows an exponential distribution (this is used in the Gillespie simulation)."
   ]
  },
  {
   "cell_type": "code",
   "execution_count": 2,
   "metadata": {},
   "outputs": [],
   "source": [
    "def pois_random_variable(rate):\n",
    "    \"\"\"\n",
    "    Drawing will be done through the Inverse Transform sampling Method.\n",
    "    So we want to find a number x for which FX(x) = U; where X is a \n",
    "    random variable (Poisson variable in this case) and U is a \n",
    "    uniform random variable and FX its distribution function \n",
    "    (Poisson distribution in this case). So this means that to find x\n",
    "    (the goal of this whole function) we need to solve for $x = F^{(-1)}_x(U)$.\n",
    "\n",
    "    So the steps are:\n",
    "    - calculate the inverse of the Poisson CDF: $F^{(-1)}_x$\n",
    "        - the inverse of a CDF can also be interpreted as its quantile function.\n",
    "    - draw a uniform random probability U (from the interval [0,1], of course)\n",
    "    - calculate $x = F^{(-1)}_x(U)$\n",
    "\n",
    "    Note that for for the Poisson distribution, the quantile function is not defined \n",
    "    in closed form, so it must be calculated numerically.\n",
    "    \n",
    "    Given this, here we use scipy implementation of the ppf (quantile).\n",
    "\n",
    "    Parameters\n",
    "    ----------\n",
    "    rate : _type_\n",
    "        _description_\n",
    "\n",
    "    Returns\n",
    "    -------\n",
    "    _type_\n",
    "        _description_\n",
    "    \"\"\"\n",
    "    u = np.random.random()\n",
    "    return stats.poisson.ppf(u, rate)"
   ]
  },
  {
   "cell_type": "markdown",
   "metadata": {},
   "source": [
    "## Simulation engine"
   ]
  },
  {
   "cell_type": "code",
   "execution_count": 4,
   "metadata": {},
   "outputs": [],
   "source": [
    "def tau_leaping_simulation(L, T, LT, k_bind, k_dissociate, cycles, steps, leap):\n",
    "    for i in tqdm(range(cycles)):\n",
    "        for j in range(steps):\n",
    "            # Calculate partial reaction rates\n",
    "            r_bind = k_bind * L[i, j] * T[i, j]\n",
    "            r_dissociate = k_dissociate * LT[i, j]\n",
    "\n",
    "            # Calculate number of reactions by type\n",
    "            n_bind = pois_random_variable(rate=r_bind * leap)\n",
    "            n_dissociate = pois_random_variable(rate=r_dissociate * leap)\n",
    "\n",
    "            # Apply limits to prevent negative population\n",
    "            limit_bind = min(L[i,j], T[i,j])\n",
    "            limit_dissociate = LT[i,j]\n",
    "            \n",
    "            n_bind = min(n_bind, limit_bind)\n",
    "            n_dissociate = min(n_dissociate, limit_dissociate)\n",
    "            \n",
    "            # Update populations\n",
    "            L[i, j+1] = L[i, j] + n_dissociate - n_bind\n",
    "            T[i, j+1] = T[i, j] + n_dissociate - n_bind\n",
    "            LT[i, j+1] = LT[i, j] + n_bind - n_dissociate\n",
    "                \n",
    "    return L, T, LT\n"
   ]
  },
  {
   "cell_type": "markdown",
   "metadata": {},
   "source": [
    "# Simulate with physiological constants"
   ]
  },
  {
   "cell_type": "code",
   "execution_count": 5,
   "metadata": {},
   "outputs": [],
   "source": [
    "# Fix random seed for repeatability\n",
    "np.random.seed(1)\n",
    "\n",
    "# Fix model parameters\n",
    "k_bind = 0.0146  # Forward reaction rate\n",
    "k_dissociate = 35  # Backwards reaction rate\n",
    "\n",
    "L0 = 10000  # Initial number of ligands\n",
    "T0 = 7000  # Initial number of receptors\n",
    "LT0 = 0  # Initial number of ligands bound to receptors\n",
    "\n",
    "leap = 0.005 # Size of leaping steps\n",
    "\n",
    "steps = 15000  # Number of reactions per trajectory\n",
    "cycles = 100  # Number of trajectories iterated over\n",
    "\n",
    "# Set up holder arrays\n",
    "t = np.arange(steps + 1) * leap\n",
    "L = np.zeros((cycles, steps + 1))\n",
    "T = np.zeros((cycles, steps + 1))\n",
    "LT = np.zeros((cycles, steps + 1))\n",
    "\n",
    "# Store initial conditions\n",
    "L[:, 0] = L0\n",
    "T[:, 0] = T0\n",
    "LT[:, 0] = LT0"
   ]
  },
  {
   "cell_type": "code",
   "execution_count": 7,
   "metadata": {},
   "outputs": [
    {
     "name": "stderr",
     "output_type": "stream",
     "text": [
      " 64%|██████▍   | 64/100 [01:45<00:56,  1.57s/it]"
     ]
    }
   ],
   "source": [
    "L, T, LT = tau_leaping_simulation(L=L, T=T, LT=LT, k_bind=k_bind, k_dissociate=k_dissociate, cycles=cycles, steps=steps, leap=leap)"
   ]
  },
  {
   "cell_type": "code",
   "execution_count": null,
   "metadata": {},
   "outputs": [],
   "source": []
  }
 ],
 "metadata": {
  "kernelspec": {
   "display_name": "Python 3",
   "language": "python",
   "name": "python3"
  },
  "language_info": {
   "codemirror_mode": {
    "name": "ipython",
    "version": 3
   },
   "file_extension": ".py",
   "mimetype": "text/x-python",
   "name": "python",
   "nbconvert_exporter": "python",
   "pygments_lexer": "ipython3",
   "version": "3.9.5"
  }
 },
 "nbformat": 4,
 "nbformat_minor": 2
}
