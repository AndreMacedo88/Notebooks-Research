{
 "cells": [
  {
   "cell_type": "code",
   "execution_count": 4,
   "metadata": {
    "vscode": {
     "languageId": "r"
    }
   },
   "outputs": [
    {
     "name": "stderr",
     "output_type": "stream",
     "text": [
      "Registered S3 methods overwritten by 'ggplot2':\n",
      "  method         from \n",
      "  [.quosures     rlang\n",
      "  c.quosures     rlang\n",
      "  print.quosures rlang\n",
      "Registered S3 method overwritten by 'rvest':\n",
      "  method            from\n",
      "  read_xml.response xml2\n",
      "-- Attaching packages --------------------------------------- tidyverse 1.2.1 --\n",
      "v tibble  2.1.1       v purrr   0.3.2  \n",
      "v tidyr   0.8.3       v dplyr   0.8.0.1\n",
      "v readr   1.3.1       v stringr 1.4.0  \n",
      "v tibble  2.1.1       v forcats 0.4.0  \n",
      "-- Conflicts ------------------------------------------ tidyverse_conflicts() --\n",
      "x dplyr::filter() masks stats::filter()\n",
      "x dplyr::lag()    masks stats::lag()\n",
      "\n",
      "Attaching package: 'data.table'\n",
      "\n",
      "The following objects are masked from 'package:dplyr':\n",
      "\n",
      "    between, first, last\n",
      "\n",
      "The following object is masked from 'package:purrr':\n",
      "\n",
      "    transpose\n",
      "\n"
     ]
    }
   ],
   "source": [
    "library(ggplot2)\n",
    "library(tidyverse)\n",
    "library(data.table)"
   ]
  },
  {
   "cell_type": "code",
   "execution_count": 5,
   "metadata": {
    "vscode": {
     "languageId": "r"
    }
   },
   "outputs": [],
   "source": [
    "options(repr.plot.width = 2, repr.plot.height = 2, repr.plot.res = 200)\n",
    "theme_set(theme_bw())\n",
    "theme_update(\n",
    "    panel.background=element_blank(),\n",
    "    panel.grid.major = element_blank(), \n",
    "    panel.grid.minor = element_blank(),\n",
    "    )"
   ]
  },
  {
   "cell_type": "markdown",
   "metadata": {},
   "source": [
    "# Poisson"
   ]
  },
  {
   "cell_type": "markdown",
   "metadata": {},
   "source": [
    "A poisson PMF is \n",
    "$\\frac{e^{-\\lambda}\\lambda^{x}}{x!}$"
   ]
  },
  {
   "cell_type": "code",
   "execution_count": 43,
   "metadata": {
    "vscode": {
     "languageId": "r"
    }
   },
   "outputs": [],
   "source": [
    "pois_pmf <- function(x, lambda) {\n",
    "    exp(-lambda)*lambda^(x)/factorial(x)\n",
    "}"
   ]
  },
  {
   "cell_type": "markdown",
   "metadata": {},
   "source": [
    "Using the dpois function:"
   ]
  },
  {
   "cell_type": "code",
   "execution_count": 24,
   "metadata": {
    "vscode": {
     "languageId": "r"
    }
   },
   "outputs": [
    {
     "data": {
      "image/png": "[encoded data removed]",
      "text/plain": [
       "plot without title"
      ]
     },
     "metadata": {},
     "output_type": "display_data"
    }
   ],
   "source": [
    "df = tibble(Probability=dpois(x = 0:12, lambda = 5), Events=0:12)\n",
    "\n",
    "ggplot(data=df, aes(x = Events, y = Probability)) +\n",
    "geom_bar(stat = \"identity\")"
   ]
  },
  {
   "cell_type": "markdown",
   "metadata": {
    "vscode": {
     "languageId": "r"
    }
   },
   "source": [
    "Using the PMF to get the probability of each number of events happening:"
   ]
  },
  {
   "cell_type": "code",
   "execution_count": 33,
   "metadata": {
    "vscode": {
     "languageId": "r"
    }
   },
   "outputs": [
    {
     "data": {
      "image/png": "[encoded data removed]",
      "text/plain": [
       "plot without title"
      ]
     },
     "metadata": {},
     "output_type": "display_data"
    }
   ],
   "source": [
    "events = 0:12\n",
    "probs <- sapply(events, pois_pmf, lambda=5)\n",
    "\n",
    "df = tibble(Probability=probs, Events=events)\n",
    "\n",
    "ggplot(data=df, aes(x = Events, y = Probability)) +\n",
    "geom_bar(stat = \"identity\")"
   ]
  },
  {
   "cell_type": "markdown",
   "metadata": {},
   "source": [
    "Notes:\n",
    "- We can see that PMF take the number events and output the probability of that many events happening given the assumed model (here a poisson model)"
   ]
  },
  {
   "cell_type": "code",
   "execution_count": 73,
   "metadata": {
    "vscode": {
     "languageId": "r"
    }
   },
   "outputs": [
    {
     "data": {
      "image/png": "[encoded data removed]",
      "text/plain": [
       "plot without title"
      ]
     },
     "metadata": {},
     "output_type": "display_data"
    }
   ],
   "source": [
    "options(repr.plot.width = 5, repr.plot.height = 5, repr.plot.res = 200)\n",
    "\n",
    "events = 0:12\n",
    "lambdas = c(1, 3, 5, 10)\n",
    "\n",
    "probs <- sapply(lambdas, function(y) sapply(events, pois_pmf, lambda=y, simplify = TRUE))\n",
    "colnames(probs) <- lambdas\n",
    "rownames(probs) <- events\n",
    "\n",
    "probs <- probs %>% as_tibble(rownames = \"Events\")\n",
    "df <- melt(probs, id.vars = \"Events\",variable.name = \"Lambda\", value.name = \"Probability\")\n",
    "df$Events <- factor(df$Events, levels=events)\n",
    "\n",
    "ggplot(data=df, aes(x = Events, y = Probability)) +\n",
    "geom_bar(stat = \"identity\") +\n",
    "  facet_wrap(vars(Lambda))"
   ]
  },
  {
   "cell_type": "markdown",
   "metadata": {},
   "source": [
    "Notes:\n",
    "- Larger lambda makes distribution more symmetric\n",
    "  - So, when we expect larger number of events, we can also expect a more bell-shaped variance around the mean\n",
    "  - This is especially, but not only, due to counts/events being >= 0."
   ]
  },
  {
   "cell_type": "markdown",
   "metadata": {},
   "source": [
    "# Binomial"
   ]
  },
  {
   "cell_type": "code",
   "execution_count": 2,
   "metadata": {
    "vscode": {
     "languageId": "r"
    }
   },
   "outputs": [
    {
     "data": {
      "text/html": [
       "0.1171875"
      ],
      "text/latex": [
       "0.1171875"
      ],
      "text/markdown": [
       "0.1171875"
      ],
      "text/plain": [
       "[1] 0.1171875"
      ]
     },
     "metadata": {},
     "output_type": "display_data"
    }
   ],
   "source": [
    "dbinom(x = 3, size = 20, prob = 0.5)"
   ]
  },
  {
   "cell_type": "code",
   "execution_count": 7,
   "metadata": {
    "vscode": {
     "languageId": "r"
    }
   },
   "outputs": [
    {
     "data": {
      "image/png": "[encoded data removed]",
      "text/plain": [
       "plot without title"
      ]
     },
     "metadata": {},
     "output_type": "display_data"
    }
   ],
   "source": [
    "df = tibble(Probability=dbinom(x = 0:12, size = 12, prob = 0.5), Events=0:12)\n",
    "\n",
    "ggplot(data=df, aes(x = Events, y = Probability)) +\n",
    "geom_bar(stat = \"identity\")"
   ]
  },
  {
   "cell_type": "code",
   "execution_count": 9,
   "metadata": {
    "vscode": {
     "languageId": "r"
    }
   },
   "outputs": [
    {
     "data": {
      "image/png": "[encoded data removed]",
      "text/plain": [
       "plot without title"
      ]
     },
     "metadata": {},
     "output_type": "display_data"
    }
   ],
   "source": [
    "options(repr.plot.width = 5, repr.plot.height = 5, repr.plot.res = 200)\n",
    "\n",
    "events = 0:12\n",
    "probs_binom = c(0.1, 0.3, 0.6, 0.9)\n",
    "\n",
    "probs <- sapply(probs_binom, function(y) sapply(events, dbinom, prob=y, size=12, simplify = TRUE))\n",
    "colnames(probs) <- probs_binom\n",
    "rownames(probs) <- events\n",
    "\n",
    "probs <- probs %>% as_tibble(rownames = \"Events\")\n",
    "df <- melt(probs, id.vars = \"Events\",variable.name = \"Prob_Success\", value.name = \"Probability\")\n",
    "df$Events <- factor(df$Events, levels=events)\n",
    "\n",
    "ggplot(data=df, aes(x = Events, y = Probability)) +\n",
    "geom_bar(stat = \"identity\") +\n",
    "  facet_wrap(vars(Prob_Success))"
   ]
  },
  {
   "cell_type": "code",
   "execution_count": null,
   "metadata": {
    "vscode": {
     "languageId": "r"
    }
   },
   "outputs": [],
   "source": []
  }
 ],
 "metadata": {
  "kernelspec": {
   "display_name": "R",
   "language": "R",
   "name": "ir"
  },
  "language_info": {
   "codemirror_mode": "r",
   "file_extension": ".r",
   "mimetype": "text/x-r-source",
   "name": "R",
   "pygments_lexer": "r",
   "version": "3.6.1"
  }
 },
 "nbformat": 4,
 "nbformat_minor": 2
}
