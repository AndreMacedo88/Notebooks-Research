{
 "cells": [
  {
   "cell_type": "markdown",
   "metadata": {},
   "source": [
    "# Purpose\n",
    "- To explore the t-test and it's assumptions"
   ]
  },
  {
   "cell_type": "markdown",
   "metadata": {},
   "source": [
    "# Background"
   ]
  },
  {
   "cell_type": "markdown",
   "metadata": {},
   "source": [
    "To perform null-hypothesis significant testing with the t-test we need:\n",
    "- A population parameter to test: $\\mu$\n",
    "- An $H_0$: $\\mu = something$\n",
    "- A test statistic: $t$\n",
    "- A null distribution for the test statistic: $t \\sim t_{df} \\sim t_{n-1}$, where $n$ is the sample size"
   ]
  },
  {
   "cell_type": "markdown",
   "metadata": {},
   "source": [
    "The t-test, then, uses the $t$ statistic. This $t$ is derived from:\n",
    "- starting from $\\bar{X}$, the sample mean, as statistic\n",
    "- since via the central limit theorem, $\\bar{X} \\sim AN(\\mu, \\frac{\\sigma^2}{n})$, we can re-arrange to get a statistic that is distributed as a Normal with 0 mean and 1 variance: $\\frac{\\bar{X} - \\mu}{\\frac{\\sigma}{\\sqrt{n}}} \\sim AN(0,1)$\n",
    "- This would be a Z statistic, but there's an issue: most of the times we can't know the population variance $\\sigma^2$ so we replace it with the sample variance $S^2$ which is: $S^2 = \\frac{\\sum\\limits_{i=1}^{N}(X_i - \\bar{X})^2}{n-1}$\n",
    "- Now, to this statistic $\\frac{\\bar{X} - \\mu}{\\frac{S}{\\sqrt{n}}} \\sim AN(0,1)$ we call $t$ and it's parametrized with degrees of freedom $df$\n",
    "- These degrees of freedom depend only on the sample size $n$ and are equal to $df = n-1$ since for the $t$ statistic we must \"use\" one $df$ to calculate the sample mean $\\bar{X}$ to estimate $S$ (basically $t$ is actually a function of 2 random variables, $S$ and $\\bar{X}$)\n",
    "- The additional randomness given by the 2 random variables makes $t$ follow a similar distribution as $Z$ but with longer tails\n",
    "- We call this distribution, the $t$ distribution and it's the null distribution used for the t-test"
   ]
  },
  {
   "cell_type": "markdown",
   "metadata": {},
   "source": [
    "# Import packages"
   ]
  },
  {
   "cell_type": "code",
   "execution_count": null,
   "metadata": {},
   "outputs": [
    {
     "name": "stdout",
     "output_type": "stream",
     "text": [
      "\u001b[32m\u001b[1mStatus\u001b[22m\u001b[39m `D:\\Utilizador HDD\\Google Drive\\02-Projects\\Notebooks-Research\\Statistics\\Project.toml`\n",
      "  \u001b[90m[a93c6f00] \u001b[39mDataFrames v1.6.1\n",
      "  \u001b[90m[31c24e10] \u001b[39mDistributions v0.25.108\n",
      "  \u001b[90m[91a5bcdd] \u001b[39mPlots v1.40.4\n",
      "  \u001b[90m[f3b207a7] \u001b[39mStatsPlots v0.15.7\n"
     ]
    }
   ],
   "source": [
    "using Pkg\n",
    "Pkg.status()"
   ]
  },
  {
   "cell_type": "code",
   "execution_count": null,
   "metadata": {},
   "outputs": [],
   "source": [
    "using Distributions\n",
    "using StatsPlots\n",
    "using DataFrames\n",
    "using Printf"
   ]
  }
 ],
 "metadata": {
  "kernelspec": {
   "display_name": "Julia 1.10.2",
   "language": "julia",
   "name": "julia-1.10"
  },
  "language_info": {
   "file_extension": ".jl",
   "mimetype": "application/julia",
   "name": "julia",
   "version": "1.10.2"
  }
 },
 "nbformat": 4,
 "nbformat_minor": 2
}
