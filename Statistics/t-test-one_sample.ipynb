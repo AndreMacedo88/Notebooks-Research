{
 "cells": [
  {
   "cell_type": "markdown",
   "metadata": {},
   "source": [
    "# Purpose\n",
    "- To explore the t-test and it's assumptions"
   ]
  },
  {
   "cell_type": "markdown",
   "metadata": {},
   "source": [
    "# Background"
   ]
  },
  {
   "cell_type": "markdown",
   "metadata": {},
   "source": [
    "To perform null-hypothesis significant testing with the t-test we need:\n",
    "- A population parameter to test: $\\mu$\n",
    "- An $H_0$: $\\mu = something$\n",
    "- A test statistic: $t$\n",
    "- A null distribution for the test statistic: $t \\sim t_{df} \\sim t_{n-1}$, where $n$ is the sample size"
   ]
  },
  {
   "cell_type": "markdown",
   "metadata": {},
   "source": [
    "The t-test, then, uses the $t$ statistic. This $t$ is derived from:\n",
    "- starting from $\\bar{X}$, the sample mean, as statistic\n",
    "- since via the central limit theorem, $\\bar{X} \\sim AN(\\mu, \\frac{\\sigma^2}{n})$, we can re-arrange to get a statistic that is distributed as a Normal with 0 mean and 1 variance: $\\frac{\\bar{X} - \\mu}{\\frac{\\sigma}{\\sqrt{n}}} \\sim AN(0,1)$\n",
    "- This would be a Z statistic, but there's an issue: most of the times we can't know the population variance $\\sigma^2$ so we replace it with the sample variance $S^2$ which is: $S^2 = \\frac{\\sum\\limits_{i=1}^{N}(X_i - \\bar{X})^2}{n-1}$\n",
    "- Now, to this statistic $\\frac{\\bar{X} - \\mu}{\\frac{S}{\\sqrt{n}}} \\sim AN(0,1)$ we call $t$ and it's parametrized with the degrees of freedom $df$\n",
    "- These degrees of freedom depend only on the sample size $n$ and are equal to $df = n-1$ instead of just $n$ because for the $t$ statistic we must \"use\" one $df$ to calculate the sample mean $\\bar{X}$ in order to estimate $S$ (basically $t$ is actually a function of 2 random variables, $S$ and $\\bar{X}$)\n",
    "- The additional randomness given by the 2 random variables makes $t$ follow a similar distribution as $Z$ but with longer tails\n",
    "- We call this distribution, the $t$ distribution and it's the null distribution used for the t-test"
   ]
  },
  {
   "cell_type": "markdown",
   "metadata": {},
   "source": [
    "# Import packages"
   ]
  },
  {
   "cell_type": "code",
   "execution_count": 3,
   "metadata": {},
   "outputs": [
    {
     "name": "stdout",
     "output_type": "stream",
     "text": [
      "\u001b[32m\u001b[1mStatus\u001b[22m\u001b[39m `D:\\Utilizador HDD\\Google Drive\\02-Projects\\Notebooks-Research\\Statistics\\Project.toml`\n",
      "  \u001b[90m[a93c6f00] \u001b[39mDataFrames v1.6.1\n",
      "  \u001b[90m[31c24e10] \u001b[39mDistributions v0.25.108\n",
      "  \u001b[90m[09f84164] \u001b[39mHypothesisTests v0.11.0\n",
      "  \u001b[90m[91a5bcdd] \u001b[39mPlots v1.40.4\n",
      "  \u001b[90m[f3b207a7] \u001b[39mStatsPlots v0.15.7\n"
     ]
    }
   ],
   "source": [
    "using Pkg\n",
    "Pkg.status()"
   ]
  },
  {
   "cell_type": "code",
   "execution_count": 4,
   "metadata": {},
   "outputs": [],
   "source": [
    "using Distributions\n",
    "using StatsPlots\n",
    "using DataFrames\n",
    "using Printf\n",
    "using HypothesisTests"
   ]
  },
  {
   "cell_type": "markdown",
   "metadata": {},
   "source": [
    "# t-test"
   ]
  },
  {
   "cell_type": "code",
   "execution_count": 30,
   "metadata": {},
   "outputs": [
    {
     "data": {
      "text/plain": [
       "47.717813722060434"
      ]
     },
     "metadata": {},
     "output_type": "display_data"
    }
   ],
   "source": [
    "μ = 50\n",
    "sample_size = 20\n",
    "\n",
    "model = Normal(45, 10)\n",
    "x = rand(model, sample_size)\n",
    "\n",
    "display(mean(x))"
   ]
  },
  {
   "cell_type": "code",
   "execution_count": 32,
   "metadata": {},
   "outputs": [
    {
     "data": {
      "image/png": "[encoded data removed]",
      "image/svg+xml": [
       "<?xml version=\"1.0\" encoding=\"utf-8\"?>\n",
       "<svg xmlns=\"http://www.w3.org/2000/svg\" xmlns:xlink=\"http://www.w3.org/1999/xlink\" width=\"600\" height=\"400\" viewBox=\"0 0 2400 1600\">\n",
       "<defs>\n",
       "  <clipPath id=\"clip320\">\n",
       "    <rect x=\"0\" y=\"0\" width=\"2400\" height=\"1600\"/>\n",
       "  </clipPath>\n",
       "</defs>\n",
       "<path clip-path=\"url(#clip320)\" d=\"M0 1600 L2400 1600 L2400 0 L0 0  Z\" fill=\"#ffffff\" fill-rule=\"evenodd\" fill-opacity=\"1\"/>\n",
       "<defs>\n",
       "  <clipPath id=\"clip321\">\n",
       "    <rect x=\"480\" y=\"0\" width=\"1681\" height=\"1600\"/>\n",
       "  </clipPath>\n",
       "</defs>\n",
       "<path clip-path=\"url(#clip320)\" d=\"M112.177 1486.45 L2352.76 1486.45 L2352.76 47.2441 L112.177 47.2441  Z\" fill=\"#ffffff\" fill-rule=\"evenodd\" fill-opacity=\"1\"/>\n",
       "<defs>\n",
       "  <clipPath id=\"clip322\">\n",
       "    <rect x=\"112\" y=\"47\" width=\"2242\" height=\"1440\"/>\n",
       "  </clipPath>\n",
       "</defs>\n",
       "<polyline clip-path=\"url(#clip322)\" style=\"stroke:#000000; stroke-linecap:round; stroke-linejoin:round; stroke-width:2; stroke-opacity:0.1; fill:none\" points=\"235.413,1486.45 235.413,47.2441 \"/>\n",
       "<polyline clip-path=\"url(#clip322)\" style=\"stroke:#000000; stroke-linecap:round; stroke-linejoin:round; stroke-width:2; stroke-opacity:0.1; fill:none\" points=\"567.764,1486.45 567.764,47.2441 \"/>\n",
       "<polyline clip-path=\"url(#clip322)\" style=\"stroke:#000000; stroke-linecap:round; stroke-linejoin:round; stroke-width:2; stroke-opacity:0.1; fill:none\" points=\"900.115,1486.45 900.115,47.2441 \"/>\n",
       "<polyline clip-path=\"url(#clip322)\" style=\"stroke:#000000; stroke-linecap:round; stroke-linejoin:round; stroke-width:2; stroke-opacity:0.1; fill:none\" points=\"1232.47,1486.45 1232.47,47.2441 \"/>\n",
       "<polyline clip-path=\"url(#clip322)\" style=\"stroke:#000000; stroke-linecap:round; stroke-linejoin:round; stroke-width:2; stroke-opacity:0.1; fill:none\" points=\"1564.82,1486.45 1564.82,47.2441 \"/>\n",
       "<polyline clip-path=\"url(#clip322)\" style=\"stroke:#000000; stroke-linecap:round; stroke-linejoin:round; stroke-width:2; stroke-opacity:0.1; fill:none\" points=\"1897.17,1486.45 1897.17,47.2441 \"/>\n",
       "<polyline clip-path=\"url(#clip322)\" style=\"stroke:#000000; stroke-linecap:round; stroke-linejoin:round; stroke-width:2; stroke-opacity:0.1; fill:none\" points=\"2229.52,1486.45 2229.52,47.2441 \"/>\n",
       "<polyline clip-path=\"url(#clip320)\" style=\"stroke:#000000; stroke-linecap:round; stroke-linejoin:round; stroke-width:4; stroke-opacity:1; fill:none\" points=\"112.177,1486.45 2352.76,1486.45 \"/>\n",
       "<polyline clip-path=\"url(#clip320)\" style=\"stroke:#000000; stroke-linecap:round; stroke-linejoin:round; stroke-width:4; stroke-opacity:1; fill:none\" points=\"235.413,1486.45 235.413,1467.55 \"/>\n",
       "<polyline clip-path=\"url(#clip320)\" style=\"stroke:#000000; stroke-linecap:round; stroke-linejoin:round; stroke-width:4; stroke-opacity:1; fill:none\" points=\"567.764,1486.45 567.764,1467.55 \"/>\n",
       "<polyline clip-path=\"url(#clip320)\" style=\"stroke:#000000; stroke-linecap:round; stroke-linejoin:round; stroke-width:4; stroke-opacity:1; fill:none\" points=\"900.115,1486.45 900.115,1467.55 \"/>\n",
       "<polyline clip-path=\"url(#clip320)\" style=\"stroke:#000000; stroke-linecap:round; stroke-linejoin:round; stroke-width:4; stroke-opacity:1; fill:none\" points=\"1232.47,1486.45 1232.47,1467.55 \"/>\n",
       "<polyline clip-path=\"url(#clip320)\" style=\"stroke:#000000; stroke-linecap:round; stroke-linejoin:round; stroke-width:4; stroke-opacity:1; fill:none\" points=\"1564.82,1486.45 1564.82,1467.55 \"/>\n",
       "<polyline clip-path=\"url(#clip320)\" style=\"stroke:#000000; stroke-linecap:round; stroke-linejoin:round; stroke-width:4; stroke-opacity:1; fill:none\" points=\"1897.17,1486.45 1897.17,1467.55 \"/>\n",
       "<polyline clip-path=\"url(#clip320)\" style=\"stroke:#000000; stroke-linecap:round; stroke-linejoin:round; stroke-width:4; stroke-opacity:1; fill:none\" points=\"2229.52,1486.45 2229.52,1467.55 \"/>\n",
       "<path clip-path=\"url(#clip320)\" d=\"M224.753 1530.21 Q228.11 1530.93 229.985 1533.2 Q231.883 1535.47 231.883 1538.8 Q231.883 1543.92 228.364 1546.72 Q224.846 1549.52 218.364 1549.52 Q216.189 1549.52 213.874 1549.08 Q211.582 1548.66 209.128 1547.81 L209.128 1543.29 Q211.073 1544.43 213.388 1545.01 Q215.702 1545.58 218.226 1545.58 Q222.624 1545.58 224.915 1543.85 Q227.23 1542.11 227.23 1538.8 Q227.23 1535.75 225.077 1534.03 Q222.948 1532.3 219.128 1532.3 L215.101 1532.3 L215.101 1528.45 L219.314 1528.45 Q222.763 1528.45 224.591 1527.09 Q226.42 1525.7 226.42 1523.11 Q226.42 1520.45 224.522 1519.03 Q222.647 1517.6 219.128 1517.6 Q217.207 1517.6 215.008 1518.01 Q212.809 1518.43 210.17 1519.31 L210.17 1515.14 Q212.832 1514.4 215.147 1514.03 Q217.485 1513.66 219.545 1513.66 Q224.869 1513.66 227.971 1516.09 Q231.073 1518.5 231.073 1522.62 Q231.073 1525.49 229.429 1527.48 Q227.786 1529.45 224.753 1530.21 Z\" fill=\"#000000\" fill-rule=\"nonzero\" fill-opacity=\"1\" /><path clip-path=\"url(#clip320)\" d=\"M240.795 1514.29 L259.151 1514.29 L259.151 1518.22 L245.077 1518.22 L245.077 1526.7 Q246.096 1526.35 247.114 1526.19 Q248.133 1526 249.151 1526 Q254.938 1526 258.318 1529.17 Q261.698 1532.34 261.698 1537.76 Q261.698 1543.34 258.225 1546.44 Q254.753 1549.52 248.434 1549.52 Q246.258 1549.52 243.989 1549.15 Q241.744 1548.78 239.337 1548.04 L239.337 1543.34 Q241.42 1544.47 243.642 1545.03 Q245.864 1545.58 248.341 1545.58 Q252.346 1545.58 254.684 1543.48 Q257.022 1541.37 257.022 1537.76 Q257.022 1534.15 254.684 1532.04 Q252.346 1529.94 248.341 1529.94 Q246.466 1529.94 244.591 1530.35 Q242.739 1530.77 240.795 1531.65 L240.795 1514.29 Z\" fill=\"#000000\" fill-rule=\"nonzero\" fill-opacity=\"1\" /><path clip-path=\"url(#clip320)\" d=\"M555.936 1518.36 L544.13 1536.81 L555.936 1536.81 L555.936 1518.36 M554.709 1514.29 L560.588 1514.29 L560.588 1536.81 L565.519 1536.81 L565.519 1540.7 L560.588 1540.7 L560.588 1548.85 L555.936 1548.85 L555.936 1540.7 L540.334 1540.7 L540.334 1536.19 L554.709 1514.29 Z\" fill=\"#000000\" fill-rule=\"nonzero\" fill-opacity=\"1\" /><path clip-path=\"url(#clip320)\" d=\"M583.25 1517.37 Q579.639 1517.37 577.81 1520.93 Q576.005 1524.47 576.005 1531.6 Q576.005 1538.71 577.81 1542.27 Q579.639 1545.82 583.25 1545.82 Q586.884 1545.82 588.69 1542.27 Q590.519 1538.71 590.519 1531.6 Q590.519 1524.47 588.69 1520.93 Q586.884 1517.37 583.25 1517.37 M583.25 1513.66 Q589.06 1513.66 592.116 1518.27 Q595.195 1522.85 595.195 1531.6 Q595.195 1540.33 592.116 1544.94 Q589.06 1549.52 583.25 1549.52 Q577.44 1549.52 574.361 1544.94 Q571.306 1540.33 571.306 1531.6 Q571.306 1522.85 574.361 1518.27 Q577.44 1513.66 583.25 1513.66 Z\" fill=\"#000000\" fill-rule=\"nonzero\" fill-opacity=\"1\" /><path clip-path=\"url(#clip320)\" d=\"M888.784 1518.36 L876.979 1536.81 L888.784 1536.81 L888.784 1518.36 M887.558 1514.29 L893.437 1514.29 L893.437 1536.81 L898.368 1536.81 L898.368 1540.7 L893.437 1540.7 L893.437 1548.85 L888.784 1548.85 L888.784 1540.7 L873.183 1540.7 L873.183 1536.19 L887.558 1514.29 Z\" fill=\"#000000\" fill-rule=\"nonzero\" fill-opacity=\"1\" /><path clip-path=\"url(#clip320)\" d=\"M906.145 1514.29 L924.502 1514.29 L924.502 1518.22 L910.428 1518.22 L910.428 1526.7 Q911.446 1526.35 912.465 1526.19 Q913.483 1526 914.502 1526 Q920.289 1526 923.668 1529.17 Q927.048 1532.34 927.048 1537.76 Q927.048 1543.34 923.576 1546.44 Q920.104 1549.52 913.784 1549.52 Q911.608 1549.52 909.34 1549.15 Q907.094 1548.78 904.687 1548.04 L904.687 1543.34 Q906.77 1544.47 908.993 1545.03 Q911.215 1545.58 913.692 1545.58 Q917.696 1545.58 920.034 1543.48 Q922.372 1541.37 922.372 1537.76 Q922.372 1534.15 920.034 1532.04 Q917.696 1529.94 913.692 1529.94 Q911.817 1529.94 909.942 1530.35 Q908.09 1530.77 906.145 1531.65 L906.145 1514.29 Z\" fill=\"#000000\" fill-rule=\"nonzero\" fill-opacity=\"1\" /><path clip-path=\"url(#clip320)\" d=\"M1207.17 1514.29 L1225.52 1514.29 L1225.52 1518.22 L1211.45 1518.22 L1211.45 1526.7 Q1212.47 1526.35 1213.49 1526.19 Q1214.5 1526 1215.52 1526 Q1221.31 1526 1224.69 1529.17 Q1228.07 1532.34 1228.07 1537.76 Q1228.07 1543.34 1224.6 1546.44 Q1221.12 1549.52 1214.8 1549.52 Q1212.63 1549.52 1210.36 1549.15 Q1208.11 1548.78 1205.71 1548.04 L1205.71 1543.34 Q1207.79 1544.47 1210.01 1545.03 Q1212.24 1545.58 1214.71 1545.58 Q1218.72 1545.58 1221.05 1543.48 Q1223.39 1541.37 1223.39 1537.76 Q1223.39 1534.15 1221.05 1532.04 Q1218.72 1529.94 1214.71 1529.94 Q1212.84 1529.94 1210.96 1530.35 Q1209.11 1530.77 1207.17 1531.65 L1207.17 1514.29 Z\" fill=\"#000000\" fill-rule=\"nonzero\" fill-opacity=\"1\" /><path clip-path=\"url(#clip320)\" d=\"M1247.28 1517.37 Q1243.67 1517.37 1241.84 1520.93 Q1240.04 1524.47 1240.04 1531.6 Q1240.04 1538.71 1241.84 1542.27 Q1243.67 1545.82 1247.28 1545.82 Q1250.92 1545.82 1252.72 1542.27 Q1254.55 1538.71 1254.55 1531.6 Q1254.55 1524.47 1252.72 1520.93 Q1250.92 1517.37 1247.28 1517.37 M1247.28 1513.66 Q1253.09 1513.66 1256.15 1518.27 Q1259.23 1522.85 1259.23 1531.6 Q1259.23 1540.33 1256.15 1544.94 Q1253.09 1549.52 1247.28 1549.52 Q1241.47 1549.52 1238.39 1544.94 Q1235.34 1540.33 1235.34 1531.6 Q1235.34 1522.85 1238.39 1518.27 Q1241.47 1513.66 1247.28 1513.66 Z\" fill=\"#000000\" fill-rule=\"nonzero\" fill-opacity=\"1\" /><path clip-path=\"url(#clip320)\" d=\"M1540.01 1514.29 L1558.37 1514.29 L1558.37 1518.22 L1544.3 1518.22 L1544.3 1526.7 Q1545.32 1526.35 1546.33 1526.19 Q1547.35 1526 1548.37 1526 Q1554.16 1526 1557.54 1529.17 Q1560.92 1532.34 1560.92 1537.76 Q1560.92 1543.34 1557.45 1546.44 Q1553.97 1549.52 1547.65 1549.52 Q1545.48 1549.52 1543.21 1549.15 Q1540.96 1548.78 1538.56 1548.04 L1538.56 1543.34 Q1540.64 1544.47 1542.86 1545.03 Q1545.08 1545.58 1547.56 1545.58 Q1551.57 1545.58 1553.9 1543.48 Q1556.24 1541.37 1556.24 1537.76 Q1556.24 1534.15 1553.9 1532.04 Q1551.57 1529.94 1547.56 1529.94 Q1545.69 1529.94 1543.81 1530.35 Q1541.96 1530.77 1540.01 1531.65 L1540.01 1514.29 Z\" fill=\"#000000\" fill-rule=\"nonzero\" fill-opacity=\"1\" /><path clip-path=\"url(#clip320)\" d=\"M1570.18 1514.29 L1588.53 1514.29 L1588.53 1518.22 L1574.46 1518.22 L1574.46 1526.7 Q1575.48 1526.35 1576.5 1526.19 Q1577.51 1526 1578.53 1526 Q1584.32 1526 1587.7 1529.17 Q1591.08 1532.34 1591.08 1537.76 Q1591.08 1543.34 1587.61 1546.44 Q1584.13 1549.52 1577.82 1549.52 Q1575.64 1549.52 1573.37 1549.15 Q1571.13 1548.78 1568.72 1548.04 L1568.72 1543.34 Q1570.8 1544.47 1573.02 1545.03 Q1575.25 1545.58 1577.72 1545.58 Q1581.73 1545.58 1584.07 1543.48 Q1586.4 1541.37 1586.4 1537.76 Q1586.4 1534.15 1584.07 1532.04 Q1581.73 1529.94 1577.72 1529.94 Q1575.85 1529.94 1573.97 1530.35 Q1572.12 1530.77 1570.18 1531.65 L1570.18 1514.29 Z\" fill=\"#000000\" fill-rule=\"nonzero\" fill-opacity=\"1\" /><path clip-path=\"url(#clip320)\" d=\"M1882.57 1529.7 Q1879.43 1529.7 1877.57 1531.86 Q1875.75 1534.01 1875.75 1537.76 Q1875.75 1541.49 1877.57 1543.66 Q1879.43 1545.82 1882.57 1545.82 Q1885.72 1545.82 1887.55 1543.66 Q1889.4 1541.49 1889.4 1537.76 Q1889.4 1534.01 1887.55 1531.86 Q1885.72 1529.7 1882.57 1529.7 M1891.86 1515.05 L1891.86 1519.31 Q1890.1 1518.48 1888.29 1518.04 Q1886.51 1517.6 1884.75 1517.6 Q1880.12 1517.6 1877.67 1520.72 Q1875.24 1523.85 1874.89 1530.17 Q1876.25 1528.15 1878.31 1527.09 Q1880.38 1526 1882.85 1526 Q1888.06 1526 1891.07 1529.17 Q1894.1 1532.32 1894.1 1537.76 Q1894.1 1543.08 1890.95 1546.3 Q1887.81 1549.52 1882.57 1549.52 Q1876.58 1549.52 1873.41 1544.94 Q1870.24 1540.33 1870.24 1531.6 Q1870.24 1523.41 1874.13 1518.55 Q1878.01 1513.66 1884.56 1513.66 Q1886.32 1513.66 1888.11 1514.01 Q1889.91 1514.36 1891.86 1515.05 Z\" fill=\"#000000\" fill-rule=\"nonzero\" fill-opacity=\"1\" /><path clip-path=\"url(#clip320)\" d=\"M1912.16 1517.37 Q1908.55 1517.37 1906.72 1520.93 Q1904.91 1524.47 1904.91 1531.6 Q1904.91 1538.71 1906.72 1542.27 Q1908.55 1545.82 1912.16 1545.82 Q1915.79 1545.82 1917.6 1542.27 Q1919.43 1538.71 1919.43 1531.6 Q1919.43 1524.47 1917.6 1520.93 Q1915.79 1517.37 1912.16 1517.37 M1912.16 1513.66 Q1917.97 1513.66 1921.02 1518.27 Q1924.1 1522.85 1924.1 1531.6 Q1924.1 1540.33 1921.02 1544.94 Q1917.97 1549.52 1912.16 1549.52 Q1906.35 1549.52 1903.27 1544.94 Q1900.21 1540.33 1900.21 1531.6 Q1900.21 1522.85 1903.27 1518.27 Q1906.35 1513.66 1912.16 1513.66 Z\" fill=\"#000000\" fill-rule=\"nonzero\" fill-opacity=\"1\" /><path clip-path=\"url(#clip320)\" d=\"M2215.42 1529.7 Q2212.27 1529.7 2210.42 1531.86 Q2208.59 1534.01 2208.59 1537.76 Q2208.59 1541.49 2210.42 1543.66 Q2212.27 1545.82 2215.42 1545.82 Q2218.57 1545.82 2220.4 1543.66 Q2222.25 1541.49 2222.25 1537.76 Q2222.25 1534.01 2220.4 1531.86 Q2218.57 1529.7 2215.42 1529.7 M2224.71 1515.05 L2224.71 1519.31 Q2222.95 1518.48 2221.14 1518.04 Q2219.36 1517.6 2217.6 1517.6 Q2212.97 1517.6 2210.52 1520.72 Q2208.09 1523.85 2207.74 1530.17 Q2209.1 1528.15 2211.16 1527.09 Q2213.22 1526 2215.7 1526 Q2220.91 1526 2223.92 1529.17 Q2226.95 1532.32 2226.95 1537.76 Q2226.95 1543.08 2223.8 1546.3 Q2220.65 1549.52 2215.42 1549.52 Q2209.43 1549.52 2206.26 1544.94 Q2203.09 1540.33 2203.09 1531.6 Q2203.09 1523.41 2206.97 1518.55 Q2210.86 1513.66 2217.41 1513.66 Q2219.17 1513.66 2220.96 1514.01 Q2222.76 1514.36 2224.71 1515.05 Z\" fill=\"#000000\" fill-rule=\"nonzero\" fill-opacity=\"1\" /><path clip-path=\"url(#clip320)\" d=\"M2235.05 1514.29 L2253.41 1514.29 L2253.41 1518.22 L2239.33 1518.22 L2239.33 1526.7 Q2240.35 1526.35 2241.37 1526.19 Q2242.39 1526 2243.41 1526 Q2249.2 1526 2252.58 1529.17 Q2255.96 1532.34 2255.96 1537.76 Q2255.96 1543.34 2252.48 1546.44 Q2249.01 1549.52 2242.69 1549.52 Q2240.52 1549.52 2238.25 1549.15 Q2236 1548.78 2233.59 1548.04 L2233.59 1543.34 Q2235.68 1544.47 2237.9 1545.03 Q2240.12 1545.58 2242.6 1545.58 Q2246.6 1545.58 2248.94 1543.48 Q2251.28 1541.37 2251.28 1537.76 Q2251.28 1534.15 2248.94 1532.04 Q2246.6 1529.94 2242.6 1529.94 Q2240.72 1529.94 2238.85 1530.35 Q2237 1530.77 2235.05 1531.65 L2235.05 1514.29 Z\" fill=\"#000000\" fill-rule=\"nonzero\" fill-opacity=\"1\" /><polyline clip-path=\"url(#clip322)\" style=\"stroke:#000000; stroke-linecap:round; stroke-linejoin:round; stroke-width:2; stroke-opacity:0.1; fill:none\" points=\"112.177,1486.45 2352.76,1486.45 \"/>\n",
       "<polyline clip-path=\"url(#clip322)\" style=\"stroke:#000000; stroke-linecap:round; stroke-linejoin:round; stroke-width:2; stroke-opacity:0.1; fill:none\" points=\"112.177,1246.58 2352.76,1246.58 \"/>\n",
       "<polyline clip-path=\"url(#clip322)\" style=\"stroke:#000000; stroke-linecap:round; stroke-linejoin:round; stroke-width:2; stroke-opacity:0.1; fill:none\" points=\"112.177,1006.71 2352.76,1006.71 \"/>\n",
       "<polyline clip-path=\"url(#clip322)\" style=\"stroke:#000000; stroke-linecap:round; stroke-linejoin:round; stroke-width:2; stroke-opacity:0.1; fill:none\" points=\"112.177,766.846 2352.76,766.846 \"/>\n",
       "<polyline clip-path=\"url(#clip322)\" style=\"stroke:#000000; stroke-linecap:round; stroke-linejoin:round; stroke-width:2; stroke-opacity:0.1; fill:none\" points=\"112.177,526.979 2352.76,526.979 \"/>\n",
       "<polyline clip-path=\"url(#clip322)\" style=\"stroke:#000000; stroke-linecap:round; stroke-linejoin:round; stroke-width:2; stroke-opacity:0.1; fill:none\" points=\"112.177,287.111 2352.76,287.111 \"/>\n",
       "<polyline clip-path=\"url(#clip322)\" style=\"stroke:#000000; stroke-linecap:round; stroke-linejoin:round; stroke-width:2; stroke-opacity:0.1; fill:none\" points=\"112.177,47.2441 2352.76,47.2441 \"/>\n",
       "<polyline clip-path=\"url(#clip320)\" style=\"stroke:#000000; stroke-linecap:round; stroke-linejoin:round; stroke-width:4; stroke-opacity:1; fill:none\" points=\"112.177,1486.45 112.177,47.2441 \"/>\n",
       "<polyline clip-path=\"url(#clip320)\" style=\"stroke:#000000; stroke-linecap:round; stroke-linejoin:round; stroke-width:4; stroke-opacity:1; fill:none\" points=\"112.177,1486.45 131.075,1486.45 \"/>\n",
       "<polyline clip-path=\"url(#clip320)\" style=\"stroke:#000000; stroke-linecap:round; stroke-linejoin:round; stroke-width:4; stroke-opacity:1; fill:none\" points=\"112.177,1246.58 131.075,1246.58 \"/>\n",
       "<polyline clip-path=\"url(#clip320)\" style=\"stroke:#000000; stroke-linecap:round; stroke-linejoin:round; stroke-width:4; stroke-opacity:1; fill:none\" points=\"112.177,1006.71 131.075,1006.71 \"/>\n",
       "<polyline clip-path=\"url(#clip320)\" style=\"stroke:#000000; stroke-linecap:round; stroke-linejoin:round; stroke-width:4; stroke-opacity:1; fill:none\" points=\"112.177,766.846 131.075,766.846 \"/>\n",
       "<polyline clip-path=\"url(#clip320)\" style=\"stroke:#000000; stroke-linecap:round; stroke-linejoin:round; stroke-width:4; stroke-opacity:1; fill:none\" points=\"112.177,526.979 131.075,526.979 \"/>\n",
       "<polyline clip-path=\"url(#clip320)\" style=\"stroke:#000000; stroke-linecap:round; stroke-linejoin:round; stroke-width:4; stroke-opacity:1; fill:none\" points=\"112.177,287.111 131.075,287.111 \"/>\n",
       "<polyline clip-path=\"url(#clip320)\" style=\"stroke:#000000; stroke-linecap:round; stroke-linejoin:round; stroke-width:4; stroke-opacity:1; fill:none\" points=\"112.177,47.2441 131.075,47.2441 \"/>\n",
       "<path clip-path=\"url(#clip320)\" d=\"M64.2328 1472.25 Q60.6217 1472.25 58.793 1475.81 Q56.9875 1479.35 56.9875 1486.48 Q56.9875 1493.59 58.793 1497.15 Q60.6217 1500.7 64.2328 1500.7 Q67.867 1500.7 69.6726 1497.15 Q71.5013 1493.59 71.5013 1486.48 Q71.5013 1479.35 69.6726 1475.81 Q67.867 1472.25 64.2328 1472.25 M64.2328 1468.54 Q70.0429 1468.54 73.0985 1473.15 Q76.1772 1477.73 76.1772 1486.48 Q76.1772 1495.21 73.0985 1499.82 Q70.0429 1504.4 64.2328 1504.4 Q58.4226 1504.4 55.344 1499.82 Q52.2884 1495.21 52.2884 1486.48 Q52.2884 1477.73 55.344 1473.15 Q58.4226 1468.54 64.2328 1468.54 Z\" fill=\"#000000\" fill-rule=\"nonzero\" fill-opacity=\"1\" /><path clip-path=\"url(#clip320)\" d=\"M56.2699 1259.93 L63.9087 1259.93 L63.9087 1233.56 L55.5986 1235.23 L55.5986 1230.97 L63.8624 1229.3 L68.5383 1229.3 L68.5383 1259.93 L76.1772 1259.93 L76.1772 1263.86 L56.2699 1263.86 L56.2699 1259.93 Z\" fill=\"#000000\" fill-rule=\"nonzero\" fill-opacity=\"1\" /><path clip-path=\"url(#clip320)\" d=\"M59.8578 1020.06 L76.1772 1020.06 L76.1772 1023.99 L54.2328 1023.99 L54.2328 1020.06 Q56.8949 1017.3 61.4782 1012.67 Q66.0846 1008.02 67.2652 1006.68 Q69.5105 1004.16 70.3902 1002.42 Q71.2929 1000.66 71.2929 998.97 Q71.2929 996.216 69.3485 994.48 Q67.4272 992.743 64.3254 992.743 Q62.1263 992.743 59.6726 993.507 Q57.2421 994.271 54.4643 995.822 L54.4643 991.1 Q57.2884 989.966 59.7421 989.387 Q62.1958 988.808 64.2328 988.808 Q69.6031 988.808 72.7976 991.493 Q75.992 994.179 75.992 998.669 Q75.992 1000.8 75.1818 1002.72 Q74.3948 1004.62 72.2883 1007.21 Q71.7096 1007.88 68.6078 1011.1 Q65.5059 1014.29 59.8578 1020.06 Z\" fill=\"#000000\" fill-rule=\"nonzero\" fill-opacity=\"1\" /><path clip-path=\"url(#clip320)\" d=\"M69.0476 765.492 Q72.404 766.209 74.279 768.478 Q76.1772 770.746 76.1772 774.08 Q76.1772 779.195 72.6587 781.996 Q69.1402 784.797 62.6587 784.797 Q60.4828 784.797 58.168 784.357 Q55.8764 783.941 53.4227 783.084 L53.4227 778.57 Q55.3671 779.705 57.6819 780.283 Q59.9967 780.862 62.5198 780.862 Q66.918 780.862 69.2096 779.126 Q71.5244 777.39 71.5244 774.08 Q71.5244 771.024 69.3717 769.311 Q67.242 767.575 63.4226 767.575 L59.3949 767.575 L59.3949 763.733 L63.6078 763.733 Q67.0569 763.733 68.8855 762.367 Q70.7142 760.978 70.7142 758.385 Q70.7142 755.723 68.8161 754.311 Q66.9411 752.876 63.4226 752.876 Q61.5013 752.876 59.3023 753.293 Q57.1032 753.709 54.4643 754.589 L54.4643 750.422 Q57.1264 749.682 59.4412 749.311 Q61.7791 748.941 63.8393 748.941 Q69.1633 748.941 72.2652 751.372 Q75.367 753.779 75.367 757.899 Q75.367 760.77 73.7235 762.76 Q72.08 764.728 69.0476 765.492 Z\" fill=\"#000000\" fill-rule=\"nonzero\" fill-opacity=\"1\" /><path clip-path=\"url(#clip320)\" d=\"M66.5939 513.773 L54.7884 532.222 L66.5939 532.222 L66.5939 513.773 M65.367 509.699 L71.2466 509.699 L71.2466 532.222 L76.1772 532.222 L76.1772 536.111 L71.2466 536.111 L71.2466 544.259 L66.5939 544.259 L66.5939 536.111 L50.9921 536.111 L50.9921 531.597 L65.367 509.699 Z\" fill=\"#000000\" fill-rule=\"nonzero\" fill-opacity=\"1\" /><path clip-path=\"url(#clip320)\" d=\"M55.2745 269.831 L73.6309 269.831 L73.6309 273.767 L59.5569 273.767 L59.5569 282.239 Q60.5754 281.892 61.5939 281.729 Q62.6124 281.544 63.6309 281.544 Q69.418 281.544 72.7976 284.716 Q76.1772 287.887 76.1772 293.303 Q76.1772 298.882 72.705 301.984 Q69.2328 305.063 62.9134 305.063 Q60.7374 305.063 58.4689 304.692 Q56.2236 304.322 53.8162 303.581 L53.8162 298.882 Q55.8995 300.016 58.1217 300.572 Q60.3439 301.128 62.8208 301.128 Q66.8254 301.128 69.1633 299.021 Q71.5013 296.915 71.5013 293.303 Q71.5013 289.692 69.1633 287.586 Q66.8254 285.479 62.8208 285.479 Q60.9458 285.479 59.0708 285.896 Q57.2189 286.313 55.2745 287.192 L55.2745 269.831 Z\" fill=\"#000000\" fill-rule=\"nonzero\" fill-opacity=\"1\" /><path clip-path=\"url(#clip320)\" d=\"M64.6495 45.3807 Q61.5013 45.3807 59.6495 47.5334 Q57.8208 49.6862 57.8208 53.4362 Q57.8208 57.163 59.6495 59.3389 Q61.5013 61.4917 64.6495 61.4917 Q67.7976 61.4917 69.6263 59.3389 Q71.4781 57.163 71.4781 53.4362 Q71.4781 49.6862 69.6263 47.5334 Q67.7976 45.3807 64.6495 45.3807 M73.9318 30.728 L73.9318 34.9872 Q72.1726 34.1539 70.367 33.7141 Q68.5846 33.2743 66.8254 33.2743 Q62.1958 33.2743 59.7421 36.3992 Q57.3115 39.5242 56.9643 45.8436 Q58.33 43.8298 60.3902 42.765 Q62.4504 41.677 64.9272 41.677 Q70.1355 41.677 73.1448 44.8483 Q76.1772 47.9964 76.1772 53.4362 Q76.1772 58.7602 73.029 61.9778 Q69.8809 65.1954 64.6495 65.1954 Q58.6541 65.1954 55.4828 60.6121 Q52.3116 56.0056 52.3116 47.2788 Q52.3116 39.0844 56.2004 34.2233 Q60.0893 29.3391 66.6402 29.3391 Q68.3994 29.3391 70.1818 29.6863 Q71.9874 30.0335 73.9318 30.728 Z\" fill=\"#000000\" fill-rule=\"nonzero\" fill-opacity=\"1\" /><path clip-path=\"url(#clip322)\" d=\"M235.413 1006.71 L235.413 1486.45 L567.764 1486.45 L567.764 1006.71 L235.413 1006.71 L235.413 1006.71  Z\" fill=\"#009af9\" fill-rule=\"evenodd\" fill-opacity=\"1\"/>\n",
       "<polyline clip-path=\"url(#clip322)\" style=\"stroke:#000000; stroke-linecap:round; stroke-linejoin:round; stroke-width:4; stroke-opacity:1; fill:none\" points=\"235.413,1006.71 235.413,1486.45 567.764,1486.45 567.764,1006.71 235.413,1006.71 \"/>\n",
       "<path clip-path=\"url(#clip322)\" d=\"M567.764 47.2441 L567.764 1486.45 L900.115 1486.45 L900.115 47.2441 L567.764 47.2441 L567.764 47.2441  Z\" fill=\"#009af9\" fill-rule=\"evenodd\" fill-opacity=\"1\"/>\n",
       "<polyline clip-path=\"url(#clip322)\" style=\"stroke:#000000; stroke-linecap:round; stroke-linejoin:round; stroke-width:4; stroke-opacity:1; fill:none\" points=\"567.764,47.2441 567.764,1486.45 900.115,1486.45 900.115,47.2441 567.764,47.2441 \"/>\n",
       "<path clip-path=\"url(#clip322)\" d=\"M900.115 287.111 L900.115 1486.45 L1232.47 1486.45 L1232.47 287.111 L900.115 287.111 L900.115 287.111  Z\" fill=\"#009af9\" fill-rule=\"evenodd\" fill-opacity=\"1\"/>\n",
       "<polyline clip-path=\"url(#clip322)\" style=\"stroke:#000000; stroke-linecap:round; stroke-linejoin:round; stroke-width:4; stroke-opacity:1; fill:none\" points=\"900.115,287.111 900.115,1486.45 1232.47,1486.45 1232.47,287.111 900.115,287.111 \"/>\n",
       "<path clip-path=\"url(#clip322)\" d=\"M1232.47 526.979 L1232.47 1486.45 L1564.82 1486.45 L1564.82 526.979 L1232.47 526.979 L1232.47 526.979  Z\" fill=\"#009af9\" fill-rule=\"evenodd\" fill-opacity=\"1\"/>\n",
       "<polyline clip-path=\"url(#clip322)\" style=\"stroke:#000000; stroke-linecap:round; stroke-linejoin:round; stroke-width:4; stroke-opacity:1; fill:none\" points=\"1232.47,526.979 1232.47,1486.45 1564.82,1486.45 1564.82,526.979 1232.47,526.979 \"/>\n",
       "<path clip-path=\"url(#clip322)\" d=\"M1564.82 1006.71 L1564.82 1486.45 L1897.17 1486.45 L1897.17 1006.71 L1564.82 1006.71 L1564.82 1006.71  Z\" fill=\"#009af9\" fill-rule=\"evenodd\" fill-opacity=\"1\"/>\n",
       "<polyline clip-path=\"url(#clip322)\" style=\"stroke:#000000; stroke-linecap:round; stroke-linejoin:round; stroke-width:4; stroke-opacity:1; fill:none\" points=\"1564.82,1006.71 1564.82,1486.45 1897.17,1486.45 1897.17,1006.71 1564.82,1006.71 \"/>\n",
       "<path clip-path=\"url(#clip322)\" d=\"M1897.17 1246.58 L1897.17 1486.45 L2229.52 1486.45 L2229.52 1246.58 L1897.17 1246.58 L1897.17 1246.58  Z\" fill=\"#009af9\" fill-rule=\"evenodd\" fill-opacity=\"1\"/>\n",
       "<polyline clip-path=\"url(#clip322)\" style=\"stroke:#000000; stroke-linecap:round; stroke-linejoin:round; stroke-width:4; stroke-opacity:1; fill:none\" points=\"1897.17,1246.58 1897.17,1486.45 2229.52,1486.45 2229.52,1246.58 1897.17,1246.58 \"/>\n",
       "<circle clip-path=\"url(#clip322)\" style=\"fill:#009af9; stroke:none; fill-opacity:0\" cx=\"401.589\" cy=\"1006.71\" r=\"2\"/>\n",
       "<circle clip-path=\"url(#clip322)\" style=\"fill:#009af9; stroke:none; fill-opacity:0\" cx=\"733.94\" cy=\"47.2441\" r=\"2\"/>\n",
       "<circle clip-path=\"url(#clip322)\" style=\"fill:#009af9; stroke:none; fill-opacity:0\" cx=\"1066.29\" cy=\"287.111\" r=\"2\"/>\n",
       "<circle clip-path=\"url(#clip322)\" style=\"fill:#009af9; stroke:none; fill-opacity:0\" cx=\"1398.64\" cy=\"526.979\" r=\"2\"/>\n",
       "<circle clip-path=\"url(#clip322)\" style=\"fill:#009af9; stroke:none; fill-opacity:0\" cx=\"1730.99\" cy=\"1006.71\" r=\"2\"/>\n",
       "<circle clip-path=\"url(#clip322)\" style=\"fill:#009af9; stroke:none; fill-opacity:0\" cx=\"2063.34\" cy=\"1246.58\" r=\"2\"/>\n",
       "<path clip-path=\"url(#clip320)\" d=\"M2001.58 198.898 L2278.07 198.898 L2278.07 95.2176 L2001.58 95.2176  Z\" fill=\"#ffffff\" fill-rule=\"evenodd\" fill-opacity=\"1\"/>\n",
       "<polyline clip-path=\"url(#clip320)\" style=\"stroke:#000000; stroke-linecap:round; stroke-linejoin:round; stroke-width:4; stroke-opacity:1; fill:none\" points=\"2001.58,198.898 2278.07,198.898 2278.07,95.2176 2001.58,95.2176 2001.58,198.898 \"/>\n",
       "<path clip-path=\"url(#clip320)\" d=\"M2026.48 167.794 L2175.85 167.794 L2175.85 126.322 L2026.48 126.322 L2026.48 167.794  Z\" fill=\"#009af9\" fill-rule=\"evenodd\" fill-opacity=\"1\"/>\n",
       "<polyline clip-path=\"url(#clip320)\" style=\"stroke:#000000; stroke-linecap:round; stroke-linejoin:round; stroke-width:4; stroke-opacity:1; fill:none\" points=\"2026.48,167.794 2175.85,167.794 2175.85,126.322 2026.48,126.322 2026.48,167.794 \"/>\n",
       "<path clip-path=\"url(#clip320)\" d=\"M2214.59 166.745 Q2212.78 171.375 2211.07 172.787 Q2209.36 174.199 2206.49 174.199 L2203.08 174.199 L2203.08 170.634 L2205.58 170.634 Q2207.34 170.634 2208.31 169.8 Q2209.29 168.967 2210.47 165.865 L2211.23 163.921 L2200.74 138.412 L2205.26 138.412 L2213.36 158.689 L2221.46 138.412 L2225.98 138.412 L2214.59 166.745 Z\" fill=\"#000000\" fill-rule=\"nonzero\" fill-opacity=\"1\" /><path clip-path=\"url(#clip320)\" d=\"M2233.27 160.402 L2240.91 160.402 L2240.91 134.037 L2232.6 135.703 L2232.6 131.444 L2240.86 129.778 L2245.54 129.778 L2245.54 160.402 L2253.17 160.402 L2253.17 164.338 L2233.27 164.338 L2233.27 160.402 Z\" fill=\"#000000\" fill-rule=\"nonzero\" fill-opacity=\"1\" /></svg>\n"
      ],
      "text/html": [
       "<?xml version=\"1.0\" encoding=\"utf-8\"?>\n",
       "<svg xmlns=\"http://www.w3.org/2000/svg\" xmlns:xlink=\"http://www.w3.org/1999/xlink\" width=\"600\" height=\"400\" viewBox=\"0 0 2400 1600\">\n",
       "<defs>\n",
       "  <clipPath id=\"clip370\">\n",
       "    <rect x=\"0\" y=\"0\" width=\"2400\" height=\"1600\"/>\n",
       "  </clipPath>\n",
       "</defs>\n",
       "<path clip-path=\"url(#clip370)\" d=\"M0 1600 L2400 1600 L2400 0 L0 0  Z\" fill=\"#ffffff\" fill-rule=\"evenodd\" fill-opacity=\"1\"/>\n",
       "<defs>\n",
       "  <clipPath id=\"clip371\">\n",
       "    <rect x=\"480\" y=\"0\" width=\"1681\" height=\"1600\"/>\n",
       "  </clipPath>\n",
       "</defs>\n",
       "<path clip-path=\"url(#clip370)\" d=\"M112.177 1486.45 L2352.76 1486.45 L2352.76 47.2441 L112.177 47.2441  Z\" fill=\"#ffffff\" fill-rule=\"evenodd\" fill-opacity=\"1\"/>\n",
       "<defs>\n",
       "  <clipPath id=\"clip372\">\n",
       "    <rect x=\"112\" y=\"47\" width=\"2242\" height=\"1440\"/>\n",
       "  </clipPath>\n",
       "</defs>\n",
       "<polyline clip-path=\"url(#clip372)\" style=\"stroke:#000000; stroke-linecap:round; stroke-linejoin:round; stroke-width:2; stroke-opacity:0.1; fill:none\" points=\"235.413,1486.45 235.413,47.2441 \"/>\n",
       "<polyline clip-path=\"url(#clip372)\" style=\"stroke:#000000; stroke-linecap:round; stroke-linejoin:round; stroke-width:2; stroke-opacity:0.1; fill:none\" points=\"567.764,1486.45 567.764,47.2441 \"/>\n",
       "<polyline clip-path=\"url(#clip372)\" style=\"stroke:#000000; stroke-linecap:round; stroke-linejoin:round; stroke-width:2; stroke-opacity:0.1; fill:none\" points=\"900.115,1486.45 900.115,47.2441 \"/>\n",
       "<polyline clip-path=\"url(#clip372)\" style=\"stroke:#000000; stroke-linecap:round; stroke-linejoin:round; stroke-width:2; stroke-opacity:0.1; fill:none\" points=\"1232.47,1486.45 1232.47,47.2441 \"/>\n",
       "<polyline clip-path=\"url(#clip372)\" style=\"stroke:#000000; stroke-linecap:round; stroke-linejoin:round; stroke-width:2; stroke-opacity:0.1; fill:none\" points=\"1564.82,1486.45 1564.82,47.2441 \"/>\n",
       "<polyline clip-path=\"url(#clip372)\" style=\"stroke:#000000; stroke-linecap:round; stroke-linejoin:round; stroke-width:2; stroke-opacity:0.1; fill:none\" points=\"1897.17,1486.45 1897.17,47.2441 \"/>\n",
       "<polyline clip-path=\"url(#clip372)\" style=\"stroke:#000000; stroke-linecap:round; stroke-linejoin:round; stroke-width:2; stroke-opacity:0.1; fill:none\" points=\"2229.52,1486.45 2229.52,47.2441 \"/>\n",
       "<polyline clip-path=\"url(#clip370)\" style=\"stroke:#000000; stroke-linecap:round; stroke-linejoin:round; stroke-width:4; stroke-opacity:1; fill:none\" points=\"112.177,1486.45 2352.76,1486.45 \"/>\n",
       "<polyline clip-path=\"url(#clip370)\" style=\"stroke:#000000; stroke-linecap:round; stroke-linejoin:round; stroke-width:4; stroke-opacity:1; fill:none\" points=\"235.413,1486.45 235.413,1467.55 \"/>\n",
       "<polyline clip-path=\"url(#clip370)\" style=\"stroke:#000000; stroke-linecap:round; stroke-linejoin:round; stroke-width:4; stroke-opacity:1; fill:none\" points=\"567.764,1486.45 567.764,1467.55 \"/>\n",
       "<polyline clip-path=\"url(#clip370)\" style=\"stroke:#000000; stroke-linecap:round; stroke-linejoin:round; stroke-width:4; stroke-opacity:1; fill:none\" points=\"900.115,1486.45 900.115,1467.55 \"/>\n",
       "<polyline clip-path=\"url(#clip370)\" style=\"stroke:#000000; stroke-linecap:round; stroke-linejoin:round; stroke-width:4; stroke-opacity:1; fill:none\" points=\"1232.47,1486.45 1232.47,1467.55 \"/>\n",
       "<polyline clip-path=\"url(#clip370)\" style=\"stroke:#000000; stroke-linecap:round; stroke-linejoin:round; stroke-width:4; stroke-opacity:1; fill:none\" points=\"1564.82,1486.45 1564.82,1467.55 \"/>\n",
       "<polyline clip-path=\"url(#clip370)\" style=\"stroke:#000000; stroke-linecap:round; stroke-linejoin:round; stroke-width:4; stroke-opacity:1; fill:none\" points=\"1897.17,1486.45 1897.17,1467.55 \"/>\n",
       "<polyline clip-path=\"url(#clip370)\" style=\"stroke:#000000; stroke-linecap:round; stroke-linejoin:round; stroke-width:4; stroke-opacity:1; fill:none\" points=\"2229.52,1486.45 2229.52,1467.55 \"/>\n",
       "<path clip-path=\"url(#clip370)\" d=\"M224.753 1530.21 Q228.11 1530.93 229.985 1533.2 Q231.883 1535.47 231.883 1538.8 Q231.883 1543.92 228.364 1546.72 Q224.846 1549.52 218.364 1549.52 Q216.189 1549.52 213.874 1549.08 Q211.582 1548.66 209.128 1547.81 L209.128 1543.29 Q211.073 1544.43 213.388 1545.01 Q215.702 1545.58 218.226 1545.58 Q222.624 1545.58 224.915 1543.85 Q227.23 1542.11 227.23 1538.8 Q227.23 1535.75 225.077 1534.03 Q222.948 1532.3 219.128 1532.3 L215.101 1532.3 L215.101 1528.45 L219.314 1528.45 Q222.763 1528.45 224.591 1527.09 Q226.42 1525.7 226.42 1523.11 Q226.42 1520.45 224.522 1519.03 Q222.647 1517.6 219.128 1517.6 Q217.207 1517.6 215.008 1518.01 Q212.809 1518.43 210.17 1519.31 L210.17 1515.14 Q212.832 1514.4 215.147 1514.03 Q217.485 1513.66 219.545 1513.66 Q224.869 1513.66 227.971 1516.09 Q231.073 1518.5 231.073 1522.62 Q231.073 1525.49 229.429 1527.48 Q227.786 1529.45 224.753 1530.21 Z\" fill=\"#000000\" fill-rule=\"nonzero\" fill-opacity=\"1\" /><path clip-path=\"url(#clip370)\" d=\"M240.795 1514.29 L259.151 1514.29 L259.151 1518.22 L245.077 1518.22 L245.077 1526.7 Q246.096 1526.35 247.114 1526.19 Q248.133 1526 249.151 1526 Q254.938 1526 258.318 1529.17 Q261.698 1532.34 261.698 1537.76 Q261.698 1543.34 258.225 1546.44 Q254.753 1549.52 248.434 1549.52 Q246.258 1549.52 243.989 1549.15 Q241.744 1548.78 239.337 1548.04 L239.337 1543.34 Q241.42 1544.47 243.642 1545.03 Q245.864 1545.58 248.341 1545.58 Q252.346 1545.58 254.684 1543.48 Q257.022 1541.37 257.022 1537.76 Q257.022 1534.15 254.684 1532.04 Q252.346 1529.94 248.341 1529.94 Q246.466 1529.94 244.591 1530.35 Q242.739 1530.77 240.795 1531.65 L240.795 1514.29 Z\" fill=\"#000000\" fill-rule=\"nonzero\" fill-opacity=\"1\" /><path clip-path=\"url(#clip370)\" d=\"M555.936 1518.36 L544.13 1536.81 L555.936 1536.81 L555.936 1518.36 M554.709 1514.29 L560.588 1514.29 L560.588 1536.81 L565.519 1536.81 L565.519 1540.7 L560.588 1540.7 L560.588 1548.85 L555.936 1548.85 L555.936 1540.7 L540.334 1540.7 L540.334 1536.19 L554.709 1514.29 Z\" fill=\"#000000\" fill-rule=\"nonzero\" fill-opacity=\"1\" /><path clip-path=\"url(#clip370)\" d=\"M583.25 1517.37 Q579.639 1517.37 577.81 1520.93 Q576.005 1524.47 576.005 1531.6 Q576.005 1538.71 577.81 1542.27 Q579.639 1545.82 583.25 1545.82 Q586.884 1545.82 588.69 1542.27 Q590.519 1538.71 590.519 1531.6 Q590.519 1524.47 588.69 1520.93 Q586.884 1517.37 583.25 1517.37 M583.25 1513.66 Q589.06 1513.66 592.116 1518.27 Q595.195 1522.85 595.195 1531.6 Q595.195 1540.33 592.116 1544.94 Q589.06 1549.52 583.25 1549.52 Q577.44 1549.52 574.361 1544.94 Q571.306 1540.33 571.306 1531.6 Q571.306 1522.85 574.361 1518.27 Q577.44 1513.66 583.25 1513.66 Z\" fill=\"#000000\" fill-rule=\"nonzero\" fill-opacity=\"1\" /><path clip-path=\"url(#clip370)\" d=\"M888.784 1518.36 L876.979 1536.81 L888.784 1536.81 L888.784 1518.36 M887.558 1514.29 L893.437 1514.29 L893.437 1536.81 L898.368 1536.81 L898.368 1540.7 L893.437 1540.7 L893.437 1548.85 L888.784 1548.85 L888.784 1540.7 L873.183 1540.7 L873.183 1536.19 L887.558 1514.29 Z\" fill=\"#000000\" fill-rule=\"nonzero\" fill-opacity=\"1\" /><path clip-path=\"url(#clip370)\" d=\"M906.145 1514.29 L924.502 1514.29 L924.502 1518.22 L910.428 1518.22 L910.428 1526.7 Q911.446 1526.35 912.465 1526.19 Q913.483 1526 914.502 1526 Q920.289 1526 923.668 1529.17 Q927.048 1532.34 927.048 1537.76 Q927.048 1543.34 923.576 1546.44 Q920.104 1549.52 913.784 1549.52 Q911.608 1549.52 909.34 1549.15 Q907.094 1548.78 904.687 1548.04 L904.687 1543.34 Q906.77 1544.47 908.993 1545.03 Q911.215 1545.58 913.692 1545.58 Q917.696 1545.58 920.034 1543.48 Q922.372 1541.37 922.372 1537.76 Q922.372 1534.15 920.034 1532.04 Q917.696 1529.94 913.692 1529.94 Q911.817 1529.94 909.942 1530.35 Q908.09 1530.77 906.145 1531.65 L906.145 1514.29 Z\" fill=\"#000000\" fill-rule=\"nonzero\" fill-opacity=\"1\" /><path clip-path=\"url(#clip370)\" d=\"M1207.17 1514.29 L1225.52 1514.29 L1225.52 1518.22 L1211.45 1518.22 L1211.45 1526.7 Q1212.47 1526.35 1213.49 1526.19 Q1214.5 1526 1215.52 1526 Q1221.31 1526 1224.69 1529.17 Q1228.07 1532.34 1228.07 1537.76 Q1228.07 1543.34 1224.6 1546.44 Q1221.12 1549.52 1214.8 1549.52 Q1212.63 1549.52 1210.36 1549.15 Q1208.11 1548.78 1205.71 1548.04 L1205.71 1543.34 Q1207.79 1544.47 1210.01 1545.03 Q1212.24 1545.58 1214.71 1545.58 Q1218.72 1545.58 1221.05 1543.48 Q1223.39 1541.37 1223.39 1537.76 Q1223.39 1534.15 1221.05 1532.04 Q1218.72 1529.94 1214.71 1529.94 Q1212.84 1529.94 1210.96 1530.35 Q1209.11 1530.77 1207.17 1531.65 L1207.17 1514.29 Z\" fill=\"#000000\" fill-rule=\"nonzero\" fill-opacity=\"1\" /><path clip-path=\"url(#clip370)\" d=\"M1247.28 1517.37 Q1243.67 1517.37 1241.84 1520.93 Q1240.04 1524.47 1240.04 1531.6 Q1240.04 1538.71 1241.84 1542.27 Q1243.67 1545.82 1247.28 1545.82 Q1250.92 1545.82 1252.72 1542.27 Q1254.55 1538.71 1254.55 1531.6 Q1254.55 1524.47 1252.72 1520.93 Q1250.92 1517.37 1247.28 1517.37 M1247.28 1513.66 Q1253.09 1513.66 1256.15 1518.27 Q1259.23 1522.85 1259.23 1531.6 Q1259.23 1540.33 1256.15 1544.94 Q1253.09 1549.52 1247.28 1549.52 Q1241.47 1549.52 1238.39 1544.94 Q1235.34 1540.33 1235.34 1531.6 Q1235.34 1522.85 1238.39 1518.27 Q1241.47 1513.66 1247.28 1513.66 Z\" fill=\"#000000\" fill-rule=\"nonzero\" fill-opacity=\"1\" /><path clip-path=\"url(#clip370)\" d=\"M1540.01 1514.29 L1558.37 1514.29 L1558.37 1518.22 L1544.3 1518.22 L1544.3 1526.7 Q1545.32 1526.35 1546.33 1526.19 Q1547.35 1526 1548.37 1526 Q1554.16 1526 1557.54 1529.17 Q1560.92 1532.34 1560.92 1537.76 Q1560.92 1543.34 1557.45 1546.44 Q1553.97 1549.52 1547.65 1549.52 Q1545.48 1549.52 1543.21 1549.15 Q1540.96 1548.78 1538.56 1548.04 L1538.56 1543.34 Q1540.64 1544.47 1542.86 1545.03 Q1545.08 1545.58 1547.56 1545.58 Q1551.57 1545.58 1553.9 1543.48 Q1556.24 1541.37 1556.24 1537.76 Q1556.24 1534.15 1553.9 1532.04 Q1551.57 1529.94 1547.56 1529.94 Q1545.69 1529.94 1543.81 1530.35 Q1541.96 1530.77 1540.01 1531.65 L1540.01 1514.29 Z\" fill=\"#000000\" fill-rule=\"nonzero\" fill-opacity=\"1\" /><path clip-path=\"url(#clip370)\" d=\"M1570.18 1514.29 L1588.53 1514.29 L1588.53 1518.22 L1574.46 1518.22 L1574.46 1526.7 Q1575.48 1526.35 1576.5 1526.19 Q1577.51 1526 1578.53 1526 Q1584.32 1526 1587.7 1529.17 Q1591.08 1532.34 1591.08 1537.76 Q1591.08 1543.34 1587.61 1546.44 Q1584.13 1549.52 1577.82 1549.52 Q1575.64 1549.52 1573.37 1549.15 Q1571.13 1548.78 1568.72 1548.04 L1568.72 1543.34 Q1570.8 1544.47 1573.02 1545.03 Q1575.25 1545.58 1577.72 1545.58 Q1581.73 1545.58 1584.07 1543.48 Q1586.4 1541.37 1586.4 1537.76 Q1586.4 1534.15 1584.07 1532.04 Q1581.73 1529.94 1577.72 1529.94 Q1575.85 1529.94 1573.97 1530.35 Q1572.12 1530.77 1570.18 1531.65 L1570.18 1514.29 Z\" fill=\"#000000\" fill-rule=\"nonzero\" fill-opacity=\"1\" /><path clip-path=\"url(#clip370)\" d=\"M1882.57 1529.7 Q1879.43 1529.7 1877.57 1531.86 Q1875.75 1534.01 1875.75 1537.76 Q1875.75 1541.49 1877.57 1543.66 Q1879.43 1545.82 1882.57 1545.82 Q1885.72 1545.82 1887.55 1543.66 Q1889.4 1541.49 1889.4 1537.76 Q1889.4 1534.01 1887.55 1531.86 Q1885.72 1529.7 1882.57 1529.7 M1891.86 1515.05 L1891.86 1519.31 Q1890.1 1518.48 1888.29 1518.04 Q1886.51 1517.6 1884.75 1517.6 Q1880.12 1517.6 1877.67 1520.72 Q1875.24 1523.85 1874.89 1530.17 Q1876.25 1528.15 1878.31 1527.09 Q1880.38 1526 1882.85 1526 Q1888.06 1526 1891.07 1529.17 Q1894.1 1532.32 1894.1 1537.76 Q1894.1 1543.08 1890.95 1546.3 Q1887.81 1549.52 1882.57 1549.52 Q1876.58 1549.52 1873.41 1544.94 Q1870.24 1540.33 1870.24 1531.6 Q1870.24 1523.41 1874.13 1518.55 Q1878.01 1513.66 1884.56 1513.66 Q1886.32 1513.66 1888.11 1514.01 Q1889.91 1514.36 1891.86 1515.05 Z\" fill=\"#000000\" fill-rule=\"nonzero\" fill-opacity=\"1\" /><path clip-path=\"url(#clip370)\" d=\"M1912.16 1517.37 Q1908.55 1517.37 1906.72 1520.93 Q1904.91 1524.47 1904.91 1531.6 Q1904.91 1538.71 1906.72 1542.27 Q1908.55 1545.82 1912.16 1545.82 Q1915.79 1545.82 1917.6 1542.27 Q1919.43 1538.71 1919.43 1531.6 Q1919.43 1524.47 1917.6 1520.93 Q1915.79 1517.37 1912.16 1517.37 M1912.16 1513.66 Q1917.97 1513.66 1921.02 1518.27 Q1924.1 1522.85 1924.1 1531.6 Q1924.1 1540.33 1921.02 1544.94 Q1917.97 1549.52 1912.16 1549.52 Q1906.35 1549.52 1903.27 1544.94 Q1900.21 1540.33 1900.21 1531.6 Q1900.21 1522.85 1903.27 1518.27 Q1906.35 1513.66 1912.16 1513.66 Z\" fill=\"#000000\" fill-rule=\"nonzero\" fill-opacity=\"1\" /><path clip-path=\"url(#clip370)\" d=\"M2215.42 1529.7 Q2212.27 1529.7 2210.42 1531.86 Q2208.59 1534.01 2208.59 1537.76 Q2208.59 1541.49 2210.42 1543.66 Q2212.27 1545.82 2215.42 1545.82 Q2218.57 1545.82 2220.4 1543.66 Q2222.25 1541.49 2222.25 1537.76 Q2222.25 1534.01 2220.4 1531.86 Q2218.57 1529.7 2215.42 1529.7 M2224.71 1515.05 L2224.71 1519.31 Q2222.95 1518.48 2221.14 1518.04 Q2219.36 1517.6 2217.6 1517.6 Q2212.97 1517.6 2210.52 1520.72 Q2208.09 1523.85 2207.74 1530.17 Q2209.1 1528.15 2211.16 1527.09 Q2213.22 1526 2215.7 1526 Q2220.91 1526 2223.92 1529.17 Q2226.95 1532.32 2226.95 1537.76 Q2226.95 1543.08 2223.8 1546.3 Q2220.65 1549.52 2215.42 1549.52 Q2209.43 1549.52 2206.26 1544.94 Q2203.09 1540.33 2203.09 1531.6 Q2203.09 1523.41 2206.97 1518.55 Q2210.86 1513.66 2217.41 1513.66 Q2219.17 1513.66 2220.96 1514.01 Q2222.76 1514.36 2224.71 1515.05 Z\" fill=\"#000000\" fill-rule=\"nonzero\" fill-opacity=\"1\" /><path clip-path=\"url(#clip370)\" d=\"M2235.05 1514.29 L2253.41 1514.29 L2253.41 1518.22 L2239.33 1518.22 L2239.33 1526.7 Q2240.35 1526.35 2241.37 1526.19 Q2242.39 1526 2243.41 1526 Q2249.2 1526 2252.58 1529.17 Q2255.96 1532.34 2255.96 1537.76 Q2255.96 1543.34 2252.48 1546.44 Q2249.01 1549.52 2242.69 1549.52 Q2240.52 1549.52 2238.25 1549.15 Q2236 1548.78 2233.59 1548.04 L2233.59 1543.34 Q2235.68 1544.47 2237.9 1545.03 Q2240.12 1545.58 2242.6 1545.58 Q2246.6 1545.58 2248.94 1543.48 Q2251.28 1541.37 2251.28 1537.76 Q2251.28 1534.15 2248.94 1532.04 Q2246.6 1529.94 2242.6 1529.94 Q2240.72 1529.94 2238.85 1530.35 Q2237 1530.77 2235.05 1531.65 L2235.05 1514.29 Z\" fill=\"#000000\" fill-rule=\"nonzero\" fill-opacity=\"1\" /><polyline clip-path=\"url(#clip372)\" style=\"stroke:#000000; stroke-linecap:round; stroke-linejoin:round; stroke-width:2; stroke-opacity:0.1; fill:none\" points=\"112.177,1486.45 2352.76,1486.45 \"/>\n",
       "<polyline clip-path=\"url(#clip372)\" style=\"stroke:#000000; stroke-linecap:round; stroke-linejoin:round; stroke-width:2; stroke-opacity:0.1; fill:none\" points=\"112.177,1246.58 2352.76,1246.58 \"/>\n",
       "<polyline clip-path=\"url(#clip372)\" style=\"stroke:#000000; stroke-linecap:round; stroke-linejoin:round; stroke-width:2; stroke-opacity:0.1; fill:none\" points=\"112.177,1006.71 2352.76,1006.71 \"/>\n",
       "<polyline clip-path=\"url(#clip372)\" style=\"stroke:#000000; stroke-linecap:round; stroke-linejoin:round; stroke-width:2; stroke-opacity:0.1; fill:none\" points=\"112.177,766.846 2352.76,766.846 \"/>\n",
       "<polyline clip-path=\"url(#clip372)\" style=\"stroke:#000000; stroke-linecap:round; stroke-linejoin:round; stroke-width:2; stroke-opacity:0.1; fill:none\" points=\"112.177,526.979 2352.76,526.979 \"/>\n",
       "<polyline clip-path=\"url(#clip372)\" style=\"stroke:#000000; stroke-linecap:round; stroke-linejoin:round; stroke-width:2; stroke-opacity:0.1; fill:none\" points=\"112.177,287.111 2352.76,287.111 \"/>\n",
       "<polyline clip-path=\"url(#clip372)\" style=\"stroke:#000000; stroke-linecap:round; stroke-linejoin:round; stroke-width:2; stroke-opacity:0.1; fill:none\" points=\"112.177,47.2441 2352.76,47.2441 \"/>\n",
       "<polyline clip-path=\"url(#clip370)\" style=\"stroke:#000000; stroke-linecap:round; stroke-linejoin:round; stroke-width:4; stroke-opacity:1; fill:none\" points=\"112.177,1486.45 112.177,47.2441 \"/>\n",
       "<polyline clip-path=\"url(#clip370)\" style=\"stroke:#000000; stroke-linecap:round; stroke-linejoin:round; stroke-width:4; stroke-opacity:1; fill:none\" points=\"112.177,1486.45 131.075,1486.45 \"/>\n",
       "<polyline clip-path=\"url(#clip370)\" style=\"stroke:#000000; stroke-linecap:round; stroke-linejoin:round; stroke-width:4; stroke-opacity:1; fill:none\" points=\"112.177,1246.58 131.075,1246.58 \"/>\n",
       "<polyline clip-path=\"url(#clip370)\" style=\"stroke:#000000; stroke-linecap:round; stroke-linejoin:round; stroke-width:4; stroke-opacity:1; fill:none\" points=\"112.177,1006.71 131.075,1006.71 \"/>\n",
       "<polyline clip-path=\"url(#clip370)\" style=\"stroke:#000000; stroke-linecap:round; stroke-linejoin:round; stroke-width:4; stroke-opacity:1; fill:none\" points=\"112.177,766.846 131.075,766.846 \"/>\n",
       "<polyline clip-path=\"url(#clip370)\" style=\"stroke:#000000; stroke-linecap:round; stroke-linejoin:round; stroke-width:4; stroke-opacity:1; fill:none\" points=\"112.177,526.979 131.075,526.979 \"/>\n",
       "<polyline clip-path=\"url(#clip370)\" style=\"stroke:#000000; stroke-linecap:round; stroke-linejoin:round; stroke-width:4; stroke-opacity:1; fill:none\" points=\"112.177,287.111 131.075,287.111 \"/>\n",
       "<polyline clip-path=\"url(#clip370)\" style=\"stroke:#000000; stroke-linecap:round; stroke-linejoin:round; stroke-width:4; stroke-opacity:1; fill:none\" points=\"112.177,47.2441 131.075,47.2441 \"/>\n",
       "<path clip-path=\"url(#clip370)\" d=\"M64.2328 1472.25 Q60.6217 1472.25 58.793 1475.81 Q56.9875 1479.35 56.9875 1486.48 Q56.9875 1493.59 58.793 1497.15 Q60.6217 1500.7 64.2328 1500.7 Q67.867 1500.7 69.6726 1497.15 Q71.5013 1493.59 71.5013 1486.48 Q71.5013 1479.35 69.6726 1475.81 Q67.867 1472.25 64.2328 1472.25 M64.2328 1468.54 Q70.0429 1468.54 73.0985 1473.15 Q76.1772 1477.73 76.1772 1486.48 Q76.1772 1495.21 73.0985 1499.82 Q70.0429 1504.4 64.2328 1504.4 Q58.4226 1504.4 55.344 1499.82 Q52.2884 1495.21 52.2884 1486.48 Q52.2884 1477.73 55.344 1473.15 Q58.4226 1468.54 64.2328 1468.54 Z\" fill=\"#000000\" fill-rule=\"nonzero\" fill-opacity=\"1\" /><path clip-path=\"url(#clip370)\" d=\"M56.2699 1259.93 L63.9087 1259.93 L63.9087 1233.56 L55.5986 1235.23 L55.5986 1230.97 L63.8624 1229.3 L68.5383 1229.3 L68.5383 1259.93 L76.1772 1259.93 L76.1772 1263.86 L56.2699 1263.86 L56.2699 1259.93 Z\" fill=\"#000000\" fill-rule=\"nonzero\" fill-opacity=\"1\" /><path clip-path=\"url(#clip370)\" d=\"M59.8578 1020.06 L76.1772 1020.06 L76.1772 1023.99 L54.2328 1023.99 L54.2328 1020.06 Q56.8949 1017.3 61.4782 1012.67 Q66.0846 1008.02 67.2652 1006.68 Q69.5105 1004.16 70.3902 1002.42 Q71.2929 1000.66 71.2929 998.97 Q71.2929 996.216 69.3485 994.48 Q67.4272 992.743 64.3254 992.743 Q62.1263 992.743 59.6726 993.507 Q57.2421 994.271 54.4643 995.822 L54.4643 991.1 Q57.2884 989.966 59.7421 989.387 Q62.1958 988.808 64.2328 988.808 Q69.6031 988.808 72.7976 991.493 Q75.992 994.179 75.992 998.669 Q75.992 1000.8 75.1818 1002.72 Q74.3948 1004.62 72.2883 1007.21 Q71.7096 1007.88 68.6078 1011.1 Q65.5059 1014.29 59.8578 1020.06 Z\" fill=\"#000000\" fill-rule=\"nonzero\" fill-opacity=\"1\" /><path clip-path=\"url(#clip370)\" d=\"M69.0476 765.492 Q72.404 766.209 74.279 768.478 Q76.1772 770.746 76.1772 774.08 Q76.1772 779.195 72.6587 781.996 Q69.1402 784.797 62.6587 784.797 Q60.4828 784.797 58.168 784.357 Q55.8764 783.941 53.4227 783.084 L53.4227 778.57 Q55.3671 779.705 57.6819 780.283 Q59.9967 780.862 62.5198 780.862 Q66.918 780.862 69.2096 779.126 Q71.5244 777.39 71.5244 774.08 Q71.5244 771.024 69.3717 769.311 Q67.242 767.575 63.4226 767.575 L59.3949 767.575 L59.3949 763.733 L63.6078 763.733 Q67.0569 763.733 68.8855 762.367 Q70.7142 760.978 70.7142 758.385 Q70.7142 755.723 68.8161 754.311 Q66.9411 752.876 63.4226 752.876 Q61.5013 752.876 59.3023 753.293 Q57.1032 753.709 54.4643 754.589 L54.4643 750.422 Q57.1264 749.682 59.4412 749.311 Q61.7791 748.941 63.8393 748.941 Q69.1633 748.941 72.2652 751.372 Q75.367 753.779 75.367 757.899 Q75.367 760.77 73.7235 762.76 Q72.08 764.728 69.0476 765.492 Z\" fill=\"#000000\" fill-rule=\"nonzero\" fill-opacity=\"1\" /><path clip-path=\"url(#clip370)\" d=\"M66.5939 513.773 L54.7884 532.222 L66.5939 532.222 L66.5939 513.773 M65.367 509.699 L71.2466 509.699 L71.2466 532.222 L76.1772 532.222 L76.1772 536.111 L71.2466 536.111 L71.2466 544.259 L66.5939 544.259 L66.5939 536.111 L50.9921 536.111 L50.9921 531.597 L65.367 509.699 Z\" fill=\"#000000\" fill-rule=\"nonzero\" fill-opacity=\"1\" /><path clip-path=\"url(#clip370)\" d=\"M55.2745 269.831 L73.6309 269.831 L73.6309 273.767 L59.5569 273.767 L59.5569 282.239 Q60.5754 281.892 61.5939 281.729 Q62.6124 281.544 63.6309 281.544 Q69.418 281.544 72.7976 284.716 Q76.1772 287.887 76.1772 293.303 Q76.1772 298.882 72.705 301.984 Q69.2328 305.063 62.9134 305.063 Q60.7374 305.063 58.4689 304.692 Q56.2236 304.322 53.8162 303.581 L53.8162 298.882 Q55.8995 300.016 58.1217 300.572 Q60.3439 301.128 62.8208 301.128 Q66.8254 301.128 69.1633 299.021 Q71.5013 296.915 71.5013 293.303 Q71.5013 289.692 69.1633 287.586 Q66.8254 285.479 62.8208 285.479 Q60.9458 285.479 59.0708 285.896 Q57.2189 286.313 55.2745 287.192 L55.2745 269.831 Z\" fill=\"#000000\" fill-rule=\"nonzero\" fill-opacity=\"1\" /><path clip-path=\"url(#clip370)\" d=\"M64.6495 45.3807 Q61.5013 45.3807 59.6495 47.5334 Q57.8208 49.6862 57.8208 53.4362 Q57.8208 57.163 59.6495 59.3389 Q61.5013 61.4917 64.6495 61.4917 Q67.7976 61.4917 69.6263 59.3389 Q71.4781 57.163 71.4781 53.4362 Q71.4781 49.6862 69.6263 47.5334 Q67.7976 45.3807 64.6495 45.3807 M73.9318 30.728 L73.9318 34.9872 Q72.1726 34.1539 70.367 33.7141 Q68.5846 33.2743 66.8254 33.2743 Q62.1958 33.2743 59.7421 36.3992 Q57.3115 39.5242 56.9643 45.8436 Q58.33 43.8298 60.3902 42.765 Q62.4504 41.677 64.9272 41.677 Q70.1355 41.677 73.1448 44.8483 Q76.1772 47.9964 76.1772 53.4362 Q76.1772 58.7602 73.029 61.9778 Q69.8809 65.1954 64.6495 65.1954 Q58.6541 65.1954 55.4828 60.6121 Q52.3116 56.0056 52.3116 47.2788 Q52.3116 39.0844 56.2004 34.2233 Q60.0893 29.3391 66.6402 29.3391 Q68.3994 29.3391 70.1818 29.6863 Q71.9874 30.0335 73.9318 30.728 Z\" fill=\"#000000\" fill-rule=\"nonzero\" fill-opacity=\"1\" /><path clip-path=\"url(#clip372)\" d=\"M235.413 1006.71 L235.413 1486.45 L567.764 1486.45 L567.764 1006.71 L235.413 1006.71 L235.413 1006.71  Z\" fill=\"#009af9\" fill-rule=\"evenodd\" fill-opacity=\"1\"/>\n",
       "<polyline clip-path=\"url(#clip372)\" style=\"stroke:#000000; stroke-linecap:round; stroke-linejoin:round; stroke-width:4; stroke-opacity:1; fill:none\" points=\"235.413,1006.71 235.413,1486.45 567.764,1486.45 567.764,1006.71 235.413,1006.71 \"/>\n",
       "<path clip-path=\"url(#clip372)\" d=\"M567.764 47.2441 L567.764 1486.45 L900.115 1486.45 L900.115 47.2441 L567.764 47.2441 L567.764 47.2441  Z\" fill=\"#009af9\" fill-rule=\"evenodd\" fill-opacity=\"1\"/>\n",
       "<polyline clip-path=\"url(#clip372)\" style=\"stroke:#000000; stroke-linecap:round; stroke-linejoin:round; stroke-width:4; stroke-opacity:1; fill:none\" points=\"567.764,47.2441 567.764,1486.45 900.115,1486.45 900.115,47.2441 567.764,47.2441 \"/>\n",
       "<path clip-path=\"url(#clip372)\" d=\"M900.115 287.111 L900.115 1486.45 L1232.47 1486.45 L1232.47 287.111 L900.115 287.111 L900.115 287.111  Z\" fill=\"#009af9\" fill-rule=\"evenodd\" fill-opacity=\"1\"/>\n",
       "<polyline clip-path=\"url(#clip372)\" style=\"stroke:#000000; stroke-linecap:round; stroke-linejoin:round; stroke-width:4; stroke-opacity:1; fill:none\" points=\"900.115,287.111 900.115,1486.45 1232.47,1486.45 1232.47,287.111 900.115,287.111 \"/>\n",
       "<path clip-path=\"url(#clip372)\" d=\"M1232.47 526.979 L1232.47 1486.45 L1564.82 1486.45 L1564.82 526.979 L1232.47 526.979 L1232.47 526.979  Z\" fill=\"#009af9\" fill-rule=\"evenodd\" fill-opacity=\"1\"/>\n",
       "<polyline clip-path=\"url(#clip372)\" style=\"stroke:#000000; stroke-linecap:round; stroke-linejoin:round; stroke-width:4; stroke-opacity:1; fill:none\" points=\"1232.47,526.979 1232.47,1486.45 1564.82,1486.45 1564.82,526.979 1232.47,526.979 \"/>\n",
       "<path clip-path=\"url(#clip372)\" d=\"M1564.82 1006.71 L1564.82 1486.45 L1897.17 1486.45 L1897.17 1006.71 L1564.82 1006.71 L1564.82 1006.71  Z\" fill=\"#009af9\" fill-rule=\"evenodd\" fill-opacity=\"1\"/>\n",
       "<polyline clip-path=\"url(#clip372)\" style=\"stroke:#000000; stroke-linecap:round; stroke-linejoin:round; stroke-width:4; stroke-opacity:1; fill:none\" points=\"1564.82,1006.71 1564.82,1486.45 1897.17,1486.45 1897.17,1006.71 1564.82,1006.71 \"/>\n",
       "<path clip-path=\"url(#clip372)\" d=\"M1897.17 1246.58 L1897.17 1486.45 L2229.52 1486.45 L2229.52 1246.58 L1897.17 1246.58 L1897.17 1246.58  Z\" fill=\"#009af9\" fill-rule=\"evenodd\" fill-opacity=\"1\"/>\n",
       "<polyline clip-path=\"url(#clip372)\" style=\"stroke:#000000; stroke-linecap:round; stroke-linejoin:round; stroke-width:4; stroke-opacity:1; fill:none\" points=\"1897.17,1246.58 1897.17,1486.45 2229.52,1486.45 2229.52,1246.58 1897.17,1246.58 \"/>\n",
       "<circle clip-path=\"url(#clip372)\" style=\"fill:#009af9; stroke:none; fill-opacity:0\" cx=\"401.589\" cy=\"1006.71\" r=\"2\"/>\n",
       "<circle clip-path=\"url(#clip372)\" style=\"fill:#009af9; stroke:none; fill-opacity:0\" cx=\"733.94\" cy=\"47.2441\" r=\"2\"/>\n",
       "<circle clip-path=\"url(#clip372)\" style=\"fill:#009af9; stroke:none; fill-opacity:0\" cx=\"1066.29\" cy=\"287.111\" r=\"2\"/>\n",
       "<circle clip-path=\"url(#clip372)\" style=\"fill:#009af9; stroke:none; fill-opacity:0\" cx=\"1398.64\" cy=\"526.979\" r=\"2\"/>\n",
       "<circle clip-path=\"url(#clip372)\" style=\"fill:#009af9; stroke:none; fill-opacity:0\" cx=\"1730.99\" cy=\"1006.71\" r=\"2\"/>\n",
       "<circle clip-path=\"url(#clip372)\" style=\"fill:#009af9; stroke:none; fill-opacity:0\" cx=\"2063.34\" cy=\"1246.58\" r=\"2\"/>\n",
       "<path clip-path=\"url(#clip370)\" d=\"M2001.58 198.898 L2278.07 198.898 L2278.07 95.2176 L2001.58 95.2176  Z\" fill=\"#ffffff\" fill-rule=\"evenodd\" fill-opacity=\"1\"/>\n",
       "<polyline clip-path=\"url(#clip370)\" style=\"stroke:#000000; stroke-linecap:round; stroke-linejoin:round; stroke-width:4; stroke-opacity:1; fill:none\" points=\"2001.58,198.898 2278.07,198.898 2278.07,95.2176 2001.58,95.2176 2001.58,198.898 \"/>\n",
       "<path clip-path=\"url(#clip370)\" d=\"M2026.48 167.794 L2175.85 167.794 L2175.85 126.322 L2026.48 126.322 L2026.48 167.794  Z\" fill=\"#009af9\" fill-rule=\"evenodd\" fill-opacity=\"1\"/>\n",
       "<polyline clip-path=\"url(#clip370)\" style=\"stroke:#000000; stroke-linecap:round; stroke-linejoin:round; stroke-width:4; stroke-opacity:1; fill:none\" points=\"2026.48,167.794 2175.85,167.794 2175.85,126.322 2026.48,126.322 2026.48,167.794 \"/>\n",
       "<path clip-path=\"url(#clip370)\" d=\"M2214.59 166.745 Q2212.78 171.375 2211.07 172.787 Q2209.36 174.199 2206.49 174.199 L2203.08 174.199 L2203.08 170.634 L2205.58 170.634 Q2207.34 170.634 2208.31 169.8 Q2209.29 168.967 2210.47 165.865 L2211.23 163.921 L2200.74 138.412 L2205.26 138.412 L2213.36 158.689 L2221.46 138.412 L2225.98 138.412 L2214.59 166.745 Z\" fill=\"#000000\" fill-rule=\"nonzero\" fill-opacity=\"1\" /><path clip-path=\"url(#clip370)\" d=\"M2233.27 160.402 L2240.91 160.402 L2240.91 134.037 L2232.6 135.703 L2232.6 131.444 L2240.86 129.778 L2245.54 129.778 L2245.54 160.402 L2253.17 160.402 L2253.17 164.338 L2233.27 164.338 L2233.27 160.402 Z\" fill=\"#000000\" fill-rule=\"nonzero\" fill-opacity=\"1\" /></svg>\n"
      ]
     },
     "metadata": {},
     "output_type": "display_data"
    }
   ],
   "source": [
    "histogram(x, bins=10)"
   ]
  },
  {
   "cell_type": "markdown",
   "metadata": {},
   "source": [
    "# By package"
   ]
  },
  {
   "cell_type": "code",
   "execution_count": 31,
   "metadata": {},
   "outputs": [
    {
     "data": {
      "text/plain": [
       "\"t-test via a package\""
      ]
     },
     "metadata": {},
     "output_type": "display_data"
    },
    {
     "data": {
      "text/plain": [
       "One sample t-test\n",
       "-----------------\n",
       "Population details:\n",
       "    parameter of interest:   Mean\n",
       "    value under h_0:         0\n",
       "    point estimate:          47.7178\n",
       "    95% confidence interval: (44.37, 51.07)\n",
       "\n",
       "Test summary:\n",
       "    outcome with 95% confidence: reject h_0\n",
       "    two-sided p-value:           <1e-16\n",
       "\n",
       "Details:\n",
       "    number of observations:   20\n",
       "    t-statistic:              29.814438626449885\n",
       "    degrees of freedom:       19\n",
       "    empirical standard error: 1.6004934494969014\n"
      ]
     },
     "metadata": {},
     "output_type": "display_data"
    }
   ],
   "source": [
    "display(\"t-test via a package\")\n",
    "ttest = OneSampleTTest(x)\n",
    "display(ttest)"
   ]
  },
  {
   "cell_type": "markdown",
   "metadata": {},
   "source": [
    "# By Hand"
   ]
  },
  {
   "cell_type": "code",
   "execution_count": null,
   "metadata": {},
   "outputs": [],
   "source": [
    "n = sample_size\n",
    "̄X = sum(x) / n\n",
    "S² = \n"
   ]
  }
 ],
 "metadata": {
  "kernelspec": {
   "display_name": "Julia 1.10.2",
   "language": "julia",
   "name": "julia-1.10"
  },
  "language_info": {
   "file_extension": ".jl",
   "mimetype": "application/julia",
   "name": "julia",
   "version": "1.10.2"
  }
 },
 "nbformat": 4,
 "nbformat_minor": 2
}
