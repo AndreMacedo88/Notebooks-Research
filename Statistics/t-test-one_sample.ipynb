{
 "cells": [
  {
   "cell_type": "markdown",
   "metadata": {},
   "source": [
    "# Purpose\n",
    "- To explore the t-test and it's assumptions"
   ]
  },
  {
   "cell_type": "markdown",
   "metadata": {},
   "source": [
    "# Background"
   ]
  },
  {
   "cell_type": "markdown",
   "metadata": {},
   "source": [
    "The t-test uses the t statistic. This t is derived from:\n",
    "- using $\\bar{X}$, the sample mean, as statistic\n",
    "- since via the central limit theorem, $\\bar{X} \\sim AN(\\mu, \\frac{\\sigma^2}{n})$, we can re-arrange to get a statistic that is distributed as a Normal with 0 mean and 1 variance: $\\frac{\\bar{X} - \\mu}{\\frac{\\sigma}{\\sqrt{n}}} \\sim AN(0,1)$\n",
    "- This would be a Z statistic, but there's an issue: most of the times we can't know the population variance $\\sigma^2$ so we replace it with the sample variance S which is: \n",
    "\n",
    "\n",
    "TODO: check the rest at: https://www.youtube.com/watch?v=pXuFeRCMTAo&list=PLEDdkzD9hUd7JJ8LH7wp8JOw5CMIb-_Do&index=5"
   ]
  },
  {
   "cell_type": "markdown",
   "metadata": {},
   "source": [
    "# Import packages"
   ]
  },
  {
   "cell_type": "code",
   "execution_count": null,
   "metadata": {},
   "outputs": [
    {
     "name": "stdout",
     "output_type": "stream",
     "text": [
      "\u001b[32m\u001b[1mStatus\u001b[22m\u001b[39m `D:\\Utilizador HDD\\Google Drive\\02-Projects\\Notebooks-Research\\Statistics\\Project.toml`\n",
      "  \u001b[90m[a93c6f00] \u001b[39mDataFrames v1.6.1\n",
      "  \u001b[90m[31c24e10] \u001b[39mDistributions v0.25.108\n",
      "  \u001b[90m[91a5bcdd] \u001b[39mPlots v1.40.4\n",
      "  \u001b[90m[f3b207a7] \u001b[39mStatsPlots v0.15.7\n"
     ]
    }
   ],
   "source": [
    "using Pkg\n",
    "Pkg.status()"
   ]
  },
  {
   "cell_type": "code",
   "execution_count": null,
   "metadata": {},
   "outputs": [],
   "source": [
    "using Distributions\n",
    "using StatsPlots\n",
    "using DataFrames\n",
    "using Printf"
   ]
  }
 ],
 "metadata": {
  "kernelspec": {
   "display_name": "Julia 1.10.2",
   "language": "julia",
   "name": "julia-1.10"
  },
  "language_info": {
   "file_extension": ".jl",
   "mimetype": "application/julia",
   "name": "julia",
   "version": "1.10.2"
  }
 },
 "nbformat": 4,
 "nbformat_minor": 2
}
