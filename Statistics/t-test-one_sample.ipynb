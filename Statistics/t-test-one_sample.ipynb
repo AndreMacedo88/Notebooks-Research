{
 "cells": [
  {
   "cell_type": "markdown",
   "metadata": {},
   "source": [
    "# Purpose\n",
    "- To explore the t-test and it's assumptions"
   ]
  },
  {
   "cell_type": "markdown",
   "metadata": {},
   "source": [
    "# Background"
   ]
  },
  {
   "cell_type": "markdown",
   "metadata": {},
   "source": [
    "To perform null-hypothesis significant testing with the t-test we need:\n",
    "- A population parameter to test: $\\mu$\n",
    "- An $H_0$: $\\mu = something$\n",
    "- A test statistic: $t$\n",
    "- A null distribution for the test statistic: $t \\sim t_{df} \\sim t_{n-1}$, where $n$ is the sample size"
   ]
  },
  {
   "cell_type": "markdown",
   "metadata": {},
   "source": [
    "The t-test, then, uses the $t$ statistic. This $t$ is derived from:\n",
    "- starting from $\\bar{X}$, the sample mean, as statistic\n",
    "- since via the central limit theorem, $\\bar{X} \\sim AN(\\mu, \\frac{\\sigma^2}{n})$, we can re-arrange to get a statistic that is distributed as a Normal with 0 mean and 1 variance: $\\frac{\\bar{X} - \\mu}{\\frac{\\sigma}{\\sqrt{n}}} \\sim AN(0,1)$\n",
    "- This would be a Z statistic, but there's an issue: most of the times we can't know the population variance $\\sigma^2$ so we replace it with the sample variance $S^2$ which is: $S^2 = \\frac{\\sum\\limits_{i=1}^{N}(X_i - \\bar{X})^2}{n-1}$\n",
    "- Now, to this statistic $\\frac{\\bar{X} - \\mu}{\\frac{S}{\\sqrt{n}}} \\sim AN(0,1)$ we call $t$ and it's parametrized with the degrees of freedom $df$\n",
    "- These degrees of freedom depend only on the sample size $n$ and are equal to $df = n-1$ instead of just $n$ because for the $t$ statistic we must \"use\" one $df$ to calculate the sample mean $\\bar{X}$ in order to estimate $S$ (basically $t$ is actually a function of 2 random variables, $S$ and $\\bar{X}$)\n",
    "- The additional randomness given by the 2 random variables makes $t$ follow a similar distribution as $Z$ but with longer tails\n",
    "- We call this distribution, the $t$ distribution and it's the null distribution used for the t-test"
   ]
  },
  {
   "cell_type": "markdown",
   "metadata": {},
   "source": [
    "# Import packages"
   ]
  },
  {
   "cell_type": "code",
   "execution_count": 1,
   "metadata": {},
   "outputs": [
    {
     "name": "stdout",
     "output_type": "stream",
     "text": [
      "\u001b[32m\u001b[1mStatus\u001b[22m\u001b[39m `D:\\Utilizador HDD\\Google Drive\\02-Projects\\Notebooks-Research\\Statistics\\Project.toml`\n",
      "  \u001b[90m[a93c6f00] \u001b[39mDataFrames v1.6.1\n",
      "  \u001b[90m[31c24e10] \u001b[39mDistributions v0.25.108\n",
      "  \u001b[90m[09f84164] \u001b[39mHypothesisTests v0.11.0\n",
      "  \u001b[90m[91a5bcdd] \u001b[39mPlots v1.40.4\n",
      "  \u001b[90m[f3b207a7] \u001b[39mStatsPlots v0.15.7\n"
     ]
    }
   ],
   "source": [
    "using Pkg\n",
    "Pkg.status()"
   ]
  },
  {
   "cell_type": "code",
   "execution_count": 4,
   "metadata": {},
   "outputs": [],
   "source": [
    "using Random\n",
    "using Distributions\n",
    "using StatsPlots\n",
    "using DataFrames\n",
    "using Printf\n",
    "using HypothesisTests"
   ]
  },
  {
   "cell_type": "markdown",
   "metadata": {},
   "source": [
    "# t-test"
   ]
  },
  {
   "cell_type": "code",
   "execution_count": 8,
   "metadata": {},
   "outputs": [
    {
     "data": {
      "text/plain": [
       "43.71734560485239"
      ]
     },
     "metadata": {},
     "output_type": "display_data"
    }
   ],
   "source": [
    "Random.seed!(1)\n",
    "\n",
    "μ = 50\n",
    "sample_size = 20\n",
    "\n",
    "model = Normal(45, 10)\n",
    "x = rand(model, sample_size)\n",
    "\n",
    "display(mean(x))"
   ]
  },
  {
   "cell_type": "code",
   "execution_count": 9,
   "metadata": {},
   "outputs": [
    {
     "data": {
      "image/png": "[encoded data removed]",
      "image/svg+xml": [
       "<?xml version=\"1.0\" encoding=\"utf-8\"?>\n",
       "<svg xmlns=\"http://www.w3.org/2000/svg\" xmlns:xlink=\"http://www.w3.org/1999/xlink\" width=\"600\" height=\"400\" viewBox=\"0 0 2400 1600\">\n",
       "<defs>\n",
       "  <clipPath id=\"clip620\">\n",
       "    <rect x=\"0\" y=\"0\" width=\"2400\" height=\"1600\"/>\n",
       "  </clipPath>\n",
       "</defs>\n",
       "<path clip-path=\"url(#clip620)\" d=\"M0 1600 L2400 1600 L2400 0 L0 0  Z\" fill=\"#ffffff\" fill-rule=\"evenodd\" fill-opacity=\"1\"/>\n",
       "<defs>\n",
       "  <clipPath id=\"clip621\">\n",
       "    <rect x=\"480\" y=\"0\" width=\"1681\" height=\"1600\"/>\n",
       "  </clipPath>\n",
       "</defs>\n",
       "<path clip-path=\"url(#clip620)\" d=\"M112.177 1486.45 L2352.76 1486.45 L2352.76 47.2441 L112.177 47.2441  Z\" fill=\"#ffffff\" fill-rule=\"evenodd\" fill-opacity=\"1\"/>\n",
       "<defs>\n",
       "  <clipPath id=\"clip622\">\n",
       "    <rect x=\"112\" y=\"47\" width=\"2242\" height=\"1440\"/>\n",
       "  </clipPath>\n",
       "</defs>\n",
       "<polyline clip-path=\"url(#clip622)\" style=\"stroke:#000000; stroke-linecap:round; stroke-linejoin:round; stroke-width:2; stroke-opacity:0.1; fill:none\" points=\"434.824,1486.45 434.824,47.2441 \"/>\n",
       "<polyline clip-path=\"url(#clip622)\" style=\"stroke:#000000; stroke-linecap:round; stroke-linejoin:round; stroke-width:2; stroke-opacity:0.1; fill:none\" points=\"833.645,1486.45 833.645,47.2441 \"/>\n",
       "<polyline clip-path=\"url(#clip622)\" style=\"stroke:#000000; stroke-linecap:round; stroke-linejoin:round; stroke-width:2; stroke-opacity:0.1; fill:none\" points=\"1232.47,1486.45 1232.47,47.2441 \"/>\n",
       "<polyline clip-path=\"url(#clip622)\" style=\"stroke:#000000; stroke-linecap:round; stroke-linejoin:round; stroke-width:2; stroke-opacity:0.1; fill:none\" points=\"1631.29,1486.45 1631.29,47.2441 \"/>\n",
       "<polyline clip-path=\"url(#clip622)\" style=\"stroke:#000000; stroke-linecap:round; stroke-linejoin:round; stroke-width:2; stroke-opacity:0.1; fill:none\" points=\"2030.11,1486.45 2030.11,47.2441 \"/>\n",
       "<polyline clip-path=\"url(#clip620)\" style=\"stroke:#000000; stroke-linecap:round; stroke-linejoin:round; stroke-width:4; stroke-opacity:1; fill:none\" points=\"112.177,1486.45 2352.76,1486.45 \"/>\n",
       "<polyline clip-path=\"url(#clip620)\" style=\"stroke:#000000; stroke-linecap:round; stroke-linejoin:round; stroke-width:4; stroke-opacity:1; fill:none\" points=\"434.824,1486.45 434.824,1467.55 \"/>\n",
       "<polyline clip-path=\"url(#clip620)\" style=\"stroke:#000000; stroke-linecap:round; stroke-linejoin:round; stroke-width:4; stroke-opacity:1; fill:none\" points=\"833.645,1486.45 833.645,1467.55 \"/>\n",
       "<polyline clip-path=\"url(#clip620)\" style=\"stroke:#000000; stroke-linecap:round; stroke-linejoin:round; stroke-width:4; stroke-opacity:1; fill:none\" points=\"1232.47,1486.45 1232.47,1467.55 \"/>\n",
       "<polyline clip-path=\"url(#clip620)\" style=\"stroke:#000000; stroke-linecap:round; stroke-linejoin:round; stroke-width:4; stroke-opacity:1; fill:none\" points=\"1631.29,1486.45 1631.29,1467.55 \"/>\n",
       "<polyline clip-path=\"url(#clip620)\" style=\"stroke:#000000; stroke-linecap:round; stroke-linejoin:round; stroke-width:4; stroke-opacity:1; fill:none\" points=\"2030.11,1486.45 2030.11,1467.55 \"/>\n",
       "<path clip-path=\"url(#clip620)\" d=\"M413.597 1544.91 L429.916 1544.91 L429.916 1548.85 L407.972 1548.85 L407.972 1544.91 Q410.634 1542.16 415.217 1537.53 Q419.824 1532.88 421.004 1531.53 Q423.25 1529.01 424.129 1527.27 Q425.032 1525.51 425.032 1523.82 Q425.032 1521.07 423.088 1519.33 Q421.166 1517.6 418.065 1517.6 Q415.865 1517.6 413.412 1518.36 Q410.981 1519.13 408.203 1520.68 L408.203 1515.95 Q411.028 1514.82 413.481 1514.24 Q415.935 1513.66 417.972 1513.66 Q423.342 1513.66 426.537 1516.35 Q429.731 1519.03 429.731 1523.52 Q429.731 1525.65 428.921 1527.57 Q428.134 1529.47 426.027 1532.07 Q425.449 1532.74 422.347 1535.95 Q419.245 1539.15 413.597 1544.91 Z\" fill=\"#000000\" fill-rule=\"nonzero\" fill-opacity=\"1\" /><path clip-path=\"url(#clip620)\" d=\"M449.731 1517.37 Q446.12 1517.37 444.291 1520.93 Q442.486 1524.47 442.486 1531.6 Q442.486 1538.71 444.291 1542.27 Q446.12 1545.82 449.731 1545.82 Q453.365 1545.82 455.171 1542.27 Q457 1538.71 457 1531.6 Q457 1524.47 455.171 1520.93 Q453.365 1517.37 449.731 1517.37 M449.731 1513.66 Q455.541 1513.66 458.597 1518.27 Q461.675 1522.85 461.675 1531.6 Q461.675 1540.33 458.597 1544.94 Q455.541 1549.52 449.731 1549.52 Q443.921 1549.52 440.842 1544.94 Q437.787 1540.33 437.787 1531.6 Q437.787 1522.85 440.842 1518.27 Q443.921 1513.66 449.731 1513.66 Z\" fill=\"#000000\" fill-rule=\"nonzero\" fill-opacity=\"1\" /><path clip-path=\"url(#clip620)\" d=\"M822.488 1530.21 Q825.844 1530.93 827.719 1533.2 Q829.617 1535.47 829.617 1538.8 Q829.617 1543.92 826.099 1546.72 Q822.58 1549.52 816.099 1549.52 Q813.923 1549.52 811.608 1549.08 Q809.317 1548.66 806.863 1547.81 L806.863 1543.29 Q808.807 1544.43 811.122 1545.01 Q813.437 1545.58 815.96 1545.58 Q820.358 1545.58 822.65 1543.85 Q824.965 1542.11 824.965 1538.8 Q824.965 1535.75 822.812 1534.03 Q820.682 1532.3 816.863 1532.3 L812.835 1532.3 L812.835 1528.45 L817.048 1528.45 Q820.497 1528.45 822.326 1527.09 Q824.154 1525.7 824.154 1523.11 Q824.154 1520.45 822.256 1519.03 Q820.381 1517.6 816.863 1517.6 Q814.942 1517.6 812.742 1518.01 Q810.543 1518.43 807.905 1519.31 L807.905 1515.14 Q810.567 1514.4 812.881 1514.03 Q815.219 1513.66 817.279 1513.66 Q822.604 1513.66 825.705 1516.09 Q828.807 1518.5 828.807 1522.62 Q828.807 1525.49 827.164 1527.48 Q825.52 1529.45 822.488 1530.21 Z\" fill=\"#000000\" fill-rule=\"nonzero\" fill-opacity=\"1\" /><path clip-path=\"url(#clip620)\" d=\"M848.483 1517.37 Q844.872 1517.37 843.043 1520.93 Q841.238 1524.47 841.238 1531.6 Q841.238 1538.71 843.043 1542.27 Q844.872 1545.82 848.483 1545.82 Q852.117 1545.82 853.923 1542.27 Q855.751 1538.71 855.751 1531.6 Q855.751 1524.47 853.923 1520.93 Q852.117 1517.37 848.483 1517.37 M848.483 1513.66 Q854.293 1513.66 857.349 1518.27 Q860.427 1522.85 860.427 1531.6 Q860.427 1540.33 857.349 1544.94 Q854.293 1549.52 848.483 1549.52 Q842.673 1549.52 839.594 1544.94 Q836.539 1540.33 836.539 1531.6 Q836.539 1522.85 839.594 1518.27 Q842.673 1513.66 848.483 1513.66 Z\" fill=\"#000000\" fill-rule=\"nonzero\" fill-opacity=\"1\" /><path clip-path=\"url(#clip620)\" d=\"M1220.64 1518.36 L1208.83 1536.81 L1220.64 1536.81 L1220.64 1518.36 M1219.41 1514.29 L1225.29 1514.29 L1225.29 1536.81 L1230.22 1536.81 L1230.22 1540.7 L1225.29 1540.7 L1225.29 1548.85 L1220.64 1548.85 L1220.64 1540.7 L1205.04 1540.7 L1205.04 1536.19 L1219.41 1514.29 Z\" fill=\"#000000\" fill-rule=\"nonzero\" fill-opacity=\"1\" /><path clip-path=\"url(#clip620)\" d=\"M1247.95 1517.37 Q1244.34 1517.37 1242.51 1520.93 Q1240.71 1524.47 1240.71 1531.6 Q1240.71 1538.71 1242.51 1542.27 Q1244.34 1545.82 1247.95 1545.82 Q1251.59 1545.82 1253.39 1542.27 Q1255.22 1538.71 1255.22 1531.6 Q1255.22 1524.47 1253.39 1520.93 Q1251.59 1517.37 1247.95 1517.37 M1247.95 1513.66 Q1253.76 1513.66 1256.82 1518.27 Q1259.9 1522.85 1259.9 1531.6 Q1259.9 1540.33 1256.82 1544.94 Q1253.76 1549.52 1247.95 1549.52 Q1242.14 1549.52 1239.06 1544.94 Q1236.01 1540.33 1236.01 1531.6 Q1236.01 1522.85 1239.06 1518.27 Q1242.14 1513.66 1247.95 1513.66 Z\" fill=\"#000000\" fill-rule=\"nonzero\" fill-opacity=\"1\" /><path clip-path=\"url(#clip620)\" d=\"M1605.99 1514.29 L1624.34 1514.29 L1624.34 1518.22 L1610.27 1518.22 L1610.27 1526.7 Q1611.29 1526.35 1612.31 1526.19 Q1613.33 1526 1614.34 1526 Q1620.13 1526 1623.51 1529.17 Q1626.89 1532.34 1626.89 1537.76 Q1626.89 1543.34 1623.42 1546.44 Q1619.95 1549.52 1613.63 1549.52 Q1611.45 1549.52 1609.18 1549.15 Q1606.94 1548.78 1604.53 1548.04 L1604.53 1543.34 Q1606.61 1544.47 1608.83 1545.03 Q1611.06 1545.58 1613.53 1545.58 Q1617.54 1545.58 1619.88 1543.48 Q1622.21 1541.37 1622.21 1537.76 Q1622.21 1534.15 1619.88 1532.04 Q1617.54 1529.94 1613.53 1529.94 Q1611.66 1529.94 1609.78 1530.35 Q1607.93 1530.77 1605.99 1531.65 L1605.99 1514.29 Z\" fill=\"#000000\" fill-rule=\"nonzero\" fill-opacity=\"1\" /><path clip-path=\"url(#clip620)\" d=\"M1646.1 1517.37 Q1642.49 1517.37 1640.66 1520.93 Q1638.86 1524.47 1638.86 1531.6 Q1638.86 1538.71 1640.66 1542.27 Q1642.49 1545.82 1646.1 1545.82 Q1649.74 1545.82 1651.54 1542.27 Q1653.37 1538.71 1653.37 1531.6 Q1653.37 1524.47 1651.54 1520.93 Q1649.74 1517.37 1646.1 1517.37 M1646.1 1513.66 Q1651.91 1513.66 1654.97 1518.27 Q1658.05 1522.85 1658.05 1531.6 Q1658.05 1540.33 1654.97 1544.94 Q1651.91 1549.52 1646.1 1549.52 Q1640.29 1549.52 1637.21 1544.94 Q1634.16 1540.33 1634.16 1531.6 Q1634.16 1522.85 1637.21 1518.27 Q1640.29 1513.66 1646.1 1513.66 Z\" fill=\"#000000\" fill-rule=\"nonzero\" fill-opacity=\"1\" /><path clip-path=\"url(#clip620)\" d=\"M2015.51 1529.7 Q2012.37 1529.7 2010.51 1531.86 Q2008.69 1534.01 2008.69 1537.76 Q2008.69 1541.49 2010.51 1543.66 Q2012.37 1545.82 2015.51 1545.82 Q2018.66 1545.82 2020.49 1543.66 Q2022.34 1541.49 2022.34 1537.76 Q2022.34 1534.01 2020.49 1531.86 Q2018.66 1529.7 2015.51 1529.7 M2024.8 1515.05 L2024.8 1519.31 Q2023.04 1518.48 2021.23 1518.04 Q2019.45 1517.6 2017.69 1517.6 Q2013.06 1517.6 2010.61 1520.72 Q2008.18 1523.85 2007.83 1530.17 Q2009.2 1528.15 2011.26 1527.09 Q2013.32 1526 2015.79 1526 Q2021 1526 2024.01 1529.17 Q2027.04 1532.32 2027.04 1537.76 Q2027.04 1543.08 2023.89 1546.3 Q2020.75 1549.52 2015.51 1549.52 Q2009.52 1549.52 2006.35 1544.94 Q2003.18 1540.33 2003.18 1531.6 Q2003.18 1523.41 2007.07 1518.55 Q2010.95 1513.66 2017.51 1513.66 Q2019.26 1513.66 2021.05 1514.01 Q2022.85 1514.36 2024.8 1515.05 Z\" fill=\"#000000\" fill-rule=\"nonzero\" fill-opacity=\"1\" /><path clip-path=\"url(#clip620)\" d=\"M2045.1 1517.37 Q2041.49 1517.37 2039.66 1520.93 Q2037.85 1524.47 2037.85 1531.6 Q2037.85 1538.71 2039.66 1542.27 Q2041.49 1545.82 2045.1 1545.82 Q2048.73 1545.82 2050.54 1542.27 Q2052.37 1538.71 2052.37 1531.6 Q2052.37 1524.47 2050.54 1520.93 Q2048.73 1517.37 2045.1 1517.37 M2045.1 1513.66 Q2050.91 1513.66 2053.96 1518.27 Q2057.04 1522.85 2057.04 1531.6 Q2057.04 1540.33 2053.96 1544.94 Q2050.91 1549.52 2045.1 1549.52 Q2039.29 1549.52 2036.21 1544.94 Q2033.15 1540.33 2033.15 1531.6 Q2033.15 1522.85 2036.21 1518.27 Q2039.29 1513.66 2045.1 1513.66 Z\" fill=\"#000000\" fill-rule=\"nonzero\" fill-opacity=\"1\" /><polyline clip-path=\"url(#clip622)\" style=\"stroke:#000000; stroke-linecap:round; stroke-linejoin:round; stroke-width:2; stroke-opacity:0.1; fill:none\" points=\"112.177,1486.45 2352.76,1486.45 \"/>\n",
       "<polyline clip-path=\"url(#clip622)\" style=\"stroke:#000000; stroke-linecap:round; stroke-linejoin:round; stroke-width:2; stroke-opacity:0.1; fill:none\" points=\"112.177,1126.65 2352.76,1126.65 \"/>\n",
       "<polyline clip-path=\"url(#clip622)\" style=\"stroke:#000000; stroke-linecap:round; stroke-linejoin:round; stroke-width:2; stroke-opacity:0.1; fill:none\" points=\"112.177,766.846 2352.76,766.846 \"/>\n",
       "<polyline clip-path=\"url(#clip622)\" style=\"stroke:#000000; stroke-linecap:round; stroke-linejoin:round; stroke-width:2; stroke-opacity:0.1; fill:none\" points=\"112.177,407.045 2352.76,407.045 \"/>\n",
       "<polyline clip-path=\"url(#clip622)\" style=\"stroke:#000000; stroke-linecap:round; stroke-linejoin:round; stroke-width:2; stroke-opacity:0.1; fill:none\" points=\"112.177,47.2441 2352.76,47.2441 \"/>\n",
       "<polyline clip-path=\"url(#clip620)\" style=\"stroke:#000000; stroke-linecap:round; stroke-linejoin:round; stroke-width:4; stroke-opacity:1; fill:none\" points=\"112.177,1486.45 112.177,47.2441 \"/>\n",
       "<polyline clip-path=\"url(#clip620)\" style=\"stroke:#000000; stroke-linecap:round; stroke-linejoin:round; stroke-width:4; stroke-opacity:1; fill:none\" points=\"112.177,1486.45 131.075,1486.45 \"/>\n",
       "<polyline clip-path=\"url(#clip620)\" style=\"stroke:#000000; stroke-linecap:round; stroke-linejoin:round; stroke-width:4; stroke-opacity:1; fill:none\" points=\"112.177,1126.65 131.075,1126.65 \"/>\n",
       "<polyline clip-path=\"url(#clip620)\" style=\"stroke:#000000; stroke-linecap:round; stroke-linejoin:round; stroke-width:4; stroke-opacity:1; fill:none\" points=\"112.177,766.846 131.075,766.846 \"/>\n",
       "<polyline clip-path=\"url(#clip620)\" style=\"stroke:#000000; stroke-linecap:round; stroke-linejoin:round; stroke-width:4; stroke-opacity:1; fill:none\" points=\"112.177,407.045 131.075,407.045 \"/>\n",
       "<polyline clip-path=\"url(#clip620)\" style=\"stroke:#000000; stroke-linecap:round; stroke-linejoin:round; stroke-width:4; stroke-opacity:1; fill:none\" points=\"112.177,47.2441 131.075,47.2441 \"/>\n",
       "<path clip-path=\"url(#clip620)\" d=\"M64.2328 1472.25 Q60.6217 1472.25 58.793 1475.81 Q56.9875 1479.35 56.9875 1486.48 Q56.9875 1493.59 58.793 1497.15 Q60.6217 1500.7 64.2328 1500.7 Q67.867 1500.7 69.6726 1497.15 Q71.5013 1493.59 71.5013 1486.48 Q71.5013 1479.35 69.6726 1475.81 Q67.867 1472.25 64.2328 1472.25 M64.2328 1468.54 Q70.0429 1468.54 73.0985 1473.15 Q76.1772 1477.73 76.1772 1486.48 Q76.1772 1495.21 73.0985 1499.82 Q70.0429 1504.4 64.2328 1504.4 Q58.4226 1504.4 55.344 1499.82 Q52.2884 1495.21 52.2884 1486.48 Q52.2884 1477.73 55.344 1473.15 Q58.4226 1468.54 64.2328 1468.54 Z\" fill=\"#000000\" fill-rule=\"nonzero\" fill-opacity=\"1\" /><path clip-path=\"url(#clip620)\" d=\"M59.8578 1139.99 L76.1772 1139.99 L76.1772 1143.93 L54.2328 1143.93 L54.2328 1139.99 Q56.8949 1137.24 61.4782 1132.61 Q66.0846 1127.95 67.2652 1126.61 Q69.5105 1124.09 70.3902 1122.35 Q71.2929 1120.59 71.2929 1118.9 Q71.2929 1116.15 69.3485 1114.41 Q67.4272 1112.68 64.3254 1112.68 Q62.1263 1112.68 59.6726 1113.44 Q57.2421 1114.2 54.4643 1115.76 L54.4643 1111.03 Q57.2884 1109.9 59.7421 1109.32 Q62.1958 1108.74 64.2328 1108.74 Q69.6031 1108.74 72.7976 1111.43 Q75.992 1114.11 75.992 1118.6 Q75.992 1120.73 75.1818 1122.65 Q74.3948 1124.55 72.2883 1127.14 Q71.7096 1127.82 68.6078 1131.03 Q65.5059 1134.23 59.8578 1139.99 Z\" fill=\"#000000\" fill-rule=\"nonzero\" fill-opacity=\"1\" /><path clip-path=\"url(#clip620)\" d=\"M66.5939 753.64 L54.7884 772.089 L66.5939 772.089 L66.5939 753.64 M65.367 749.566 L71.2466 749.566 L71.2466 772.089 L76.1772 772.089 L76.1772 775.978 L71.2466 775.978 L71.2466 784.126 L66.5939 784.126 L66.5939 775.978 L50.9921 775.978 L50.9921 771.464 L65.367 749.566 Z\" fill=\"#000000\" fill-rule=\"nonzero\" fill-opacity=\"1\" /><path clip-path=\"url(#clip620)\" d=\"M64.6495 405.182 Q61.5013 405.182 59.6495 407.334 Q57.8208 409.487 57.8208 413.237 Q57.8208 416.964 59.6495 419.14 Q61.5013 421.293 64.6495 421.293 Q67.7976 421.293 69.6263 419.14 Q71.4781 416.964 71.4781 413.237 Q71.4781 409.487 69.6263 407.334 Q67.7976 405.182 64.6495 405.182 M73.9318 390.529 L73.9318 394.788 Q72.1726 393.955 70.367 393.515 Q68.5846 393.075 66.8254 393.075 Q62.1958 393.075 59.7421 396.2 Q57.3115 399.325 56.9643 405.645 Q58.33 403.631 60.3902 402.566 Q62.4504 401.478 64.9272 401.478 Q70.1355 401.478 73.1448 404.649 Q76.1772 407.797 76.1772 413.237 Q76.1772 418.561 73.029 421.779 Q69.8809 424.996 64.6495 424.996 Q58.6541 424.996 55.4828 420.413 Q52.3116 415.807 52.3116 407.08 Q52.3116 398.885 56.2004 394.024 Q60.0893 389.14 66.6402 389.14 Q68.3994 389.14 70.1818 389.487 Q71.9874 389.834 73.9318 390.529 Z\" fill=\"#000000\" fill-rule=\"nonzero\" fill-opacity=\"1\" /><path clip-path=\"url(#clip620)\" d=\"M64.3254 48.1121 Q60.9921 48.1121 59.0708 49.8945 Q57.1726 51.6769 57.1726 54.8019 Q57.1726 57.9269 59.0708 59.7093 Q60.9921 61.4917 64.3254 61.4917 Q67.6587 61.4917 69.58 59.7093 Q71.5013 57.9038 71.5013 54.8019 Q71.5013 51.6769 69.58 49.8945 Q67.6819 48.1121 64.3254 48.1121 M59.6495 46.1214 Q56.6402 45.3807 54.9504 43.3205 Q53.2838 41.2603 53.2838 38.2974 Q53.2838 34.1539 56.2236 31.7465 Q59.1865 29.3391 64.3254 29.3391 Q69.4874 29.3391 72.4272 31.7465 Q75.367 34.1539 75.367 38.2974 Q75.367 41.2603 73.6772 43.3205 Q72.0105 45.3807 69.0244 46.1214 Q72.404 46.9084 74.279 49.2001 Q76.1772 51.4918 76.1772 54.8019 Q76.1772 59.825 73.0985 62.5102 Q70.0429 65.1954 64.3254 65.1954 Q58.6078 65.1954 55.5291 62.5102 Q52.4736 59.825 52.4736 54.8019 Q52.4736 51.4918 54.3717 49.2001 Q56.2699 46.9084 59.6495 46.1214 M57.9365 38.7372 Q57.9365 41.4224 59.6032 42.927 Q61.293 44.4316 64.3254 44.4316 Q67.3346 44.4316 69.0244 42.927 Q70.7374 41.4224 70.7374 38.7372 Q70.7374 36.052 69.0244 34.5474 Q67.3346 33.0428 64.3254 33.0428 Q61.293 33.0428 59.6032 34.5474 Q57.9365 36.052 57.9365 38.7372 Z\" fill=\"#000000\" fill-rule=\"nonzero\" fill-opacity=\"1\" /><path clip-path=\"url(#clip622)\" d=\"M235.413 1306.55 L235.413 1486.45 L434.824 1486.45 L434.824 1306.55 L235.413 1306.55 L235.413 1306.55  Z\" fill=\"#009af9\" fill-rule=\"evenodd\" fill-opacity=\"1\"/>\n",
       "<polyline clip-path=\"url(#clip622)\" style=\"stroke:#000000; stroke-linecap:round; stroke-linejoin:round; stroke-width:4; stroke-opacity:1; fill:none\" points=\"235.413,1306.55 235.413,1486.45 434.824,1486.45 434.824,1306.55 235.413,1306.55 \"/>\n",
       "<path clip-path=\"url(#clip622)\" d=\"M434.824 1486.45 L434.824 1486.45 L634.234 1486.45 L634.234 1486.45 L434.824 1486.45 L434.824 1486.45  Z\" fill=\"#009af9\" fill-rule=\"evenodd\" fill-opacity=\"1\"/>\n",
       "<polyline clip-path=\"url(#clip622)\" style=\"stroke:#000000; stroke-linecap:round; stroke-linejoin:round; stroke-width:4; stroke-opacity:1; fill:none\" points=\"434.824,1486.45 434.824,1486.45 634.234,1486.45 434.824,1486.45 \"/>\n",
       "<path clip-path=\"url(#clip622)\" d=\"M634.234 946.746 L634.234 1486.45 L833.645 1486.45 L833.645 946.746 L634.234 946.746 L634.234 946.746  Z\" fill=\"#009af9\" fill-rule=\"evenodd\" fill-opacity=\"1\"/>\n",
       "<polyline clip-path=\"url(#clip622)\" style=\"stroke:#000000; stroke-linecap:round; stroke-linejoin:round; stroke-width:4; stroke-opacity:1; fill:none\" points=\"634.234,946.746 634.234,1486.45 833.645,1486.45 833.645,946.746 634.234,946.746 \"/>\n",
       "<path clip-path=\"url(#clip622)\" d=\"M833.645 1486.45 L833.645 1486.45 L1033.06 1486.45 L1033.06 1486.45 L833.645 1486.45 L833.645 1486.45  Z\" fill=\"#009af9\" fill-rule=\"evenodd\" fill-opacity=\"1\"/>\n",
       "<polyline clip-path=\"url(#clip622)\" style=\"stroke:#000000; stroke-linecap:round; stroke-linejoin:round; stroke-width:4; stroke-opacity:1; fill:none\" points=\"833.645,1486.45 833.645,1486.45 1033.06,1486.45 833.645,1486.45 \"/>\n",
       "<path clip-path=\"url(#clip622)\" d=\"M1033.06 946.746 L1033.06 1486.45 L1232.47 1486.45 L1232.47 946.746 L1033.06 946.746 L1033.06 946.746  Z\" fill=\"#009af9\" fill-rule=\"evenodd\" fill-opacity=\"1\"/>\n",
       "<polyline clip-path=\"url(#clip622)\" style=\"stroke:#000000; stroke-linecap:round; stroke-linejoin:round; stroke-width:4; stroke-opacity:1; fill:none\" points=\"1033.06,946.746 1033.06,1486.45 1232.47,1486.45 1232.47,946.746 1033.06,946.746 \"/>\n",
       "<path clip-path=\"url(#clip622)\" d=\"M1232.47 1486.45 L1232.47 1486.45 L1431.88 1486.45 L1431.88 1486.45 L1232.47 1486.45 L1232.47 1486.45  Z\" fill=\"#009af9\" fill-rule=\"evenodd\" fill-opacity=\"1\"/>\n",
       "<polyline clip-path=\"url(#clip622)\" style=\"stroke:#000000; stroke-linecap:round; stroke-linejoin:round; stroke-width:4; stroke-opacity:1; fill:none\" points=\"1232.47,1486.45 1232.47,1486.45 1431.88,1486.45 1232.47,1486.45 \"/>\n",
       "<path clip-path=\"url(#clip622)\" d=\"M1431.88 47.2441 L1431.88 1486.45 L1631.29 1486.45 L1631.29 47.2441 L1431.88 47.2441 L1431.88 47.2441  Z\" fill=\"#009af9\" fill-rule=\"evenodd\" fill-opacity=\"1\"/>\n",
       "<polyline clip-path=\"url(#clip622)\" style=\"stroke:#000000; stroke-linecap:round; stroke-linejoin:round; stroke-width:4; stroke-opacity:1; fill:none\" points=\"1431.88,47.2441 1431.88,1486.45 1631.29,1486.45 1631.29,47.2441 1431.88,47.2441 \"/>\n",
       "<path clip-path=\"url(#clip622)\" d=\"M1631.29 1126.65 L1631.29 1486.45 L1830.7 1486.45 L1830.7 1126.65 L1631.29 1126.65 L1631.29 1126.65  Z\" fill=\"#009af9\" fill-rule=\"evenodd\" fill-opacity=\"1\"/>\n",
       "<polyline clip-path=\"url(#clip622)\" style=\"stroke:#000000; stroke-linecap:round; stroke-linejoin:round; stroke-width:4; stroke-opacity:1; fill:none\" points=\"1631.29,1126.65 1631.29,1486.45 1830.7,1486.45 1830.7,1126.65 1631.29,1126.65 \"/>\n",
       "<path clip-path=\"url(#clip622)\" d=\"M1830.7 1126.65 L1830.7 1486.45 L2030.11 1486.45 L2030.11 1126.65 L1830.7 1126.65 L1830.7 1126.65  Z\" fill=\"#009af9\" fill-rule=\"evenodd\" fill-opacity=\"1\"/>\n",
       "<polyline clip-path=\"url(#clip622)\" style=\"stroke:#000000; stroke-linecap:round; stroke-linejoin:round; stroke-width:4; stroke-opacity:1; fill:none\" points=\"1830.7,1126.65 1830.7,1486.45 2030.11,1486.45 2030.11,1126.65 1830.7,1126.65 \"/>\n",
       "<path clip-path=\"url(#clip622)\" d=\"M2030.11 1306.55 L2030.11 1486.45 L2229.52 1486.45 L2229.52 1306.55 L2030.11 1306.55 L2030.11 1306.55  Z\" fill=\"#009af9\" fill-rule=\"evenodd\" fill-opacity=\"1\"/>\n",
       "<polyline clip-path=\"url(#clip622)\" style=\"stroke:#000000; stroke-linecap:round; stroke-linejoin:round; stroke-width:4; stroke-opacity:1; fill:none\" points=\"2030.11,1306.55 2030.11,1486.45 2229.52,1486.45 2229.52,1306.55 2030.11,1306.55 \"/>\n",
       "<circle clip-path=\"url(#clip622)\" style=\"fill:#009af9; stroke:none; fill-opacity:0\" cx=\"335.118\" cy=\"1306.55\" r=\"2\"/>\n",
       "<circle clip-path=\"url(#clip622)\" style=\"fill:#009af9; stroke:none; fill-opacity:0\" cx=\"534.529\" cy=\"1486.45\" r=\"2\"/>\n",
       "<circle clip-path=\"url(#clip622)\" style=\"fill:#009af9; stroke:none; fill-opacity:0\" cx=\"733.94\" cy=\"946.746\" r=\"2\"/>\n",
       "<circle clip-path=\"url(#clip622)\" style=\"fill:#009af9; stroke:none; fill-opacity:0\" cx=\"933.35\" cy=\"1486.45\" r=\"2\"/>\n",
       "<circle clip-path=\"url(#clip622)\" style=\"fill:#009af9; stroke:none; fill-opacity:0\" cx=\"1132.76\" cy=\"946.746\" r=\"2\"/>\n",
       "<circle clip-path=\"url(#clip622)\" style=\"fill:#009af9; stroke:none; fill-opacity:0\" cx=\"1332.17\" cy=\"1486.45\" r=\"2\"/>\n",
       "<circle clip-path=\"url(#clip622)\" style=\"fill:#009af9; stroke:none; fill-opacity:0\" cx=\"1531.58\" cy=\"47.2441\" r=\"2\"/>\n",
       "<circle clip-path=\"url(#clip622)\" style=\"fill:#009af9; stroke:none; fill-opacity:0\" cx=\"1730.99\" cy=\"1126.65\" r=\"2\"/>\n",
       "<circle clip-path=\"url(#clip622)\" style=\"fill:#009af9; stroke:none; fill-opacity:0\" cx=\"1930.4\" cy=\"1126.65\" r=\"2\"/>\n",
       "<circle clip-path=\"url(#clip622)\" style=\"fill:#009af9; stroke:none; fill-opacity:0\" cx=\"2129.81\" cy=\"1306.55\" r=\"2\"/>\n",
       "<path clip-path=\"url(#clip620)\" d=\"M2001.58 198.898 L2278.07 198.898 L2278.07 95.2176 L2001.58 95.2176  Z\" fill=\"#ffffff\" fill-rule=\"evenodd\" fill-opacity=\"1\"/>\n",
       "<polyline clip-path=\"url(#clip620)\" style=\"stroke:#000000; stroke-linecap:round; stroke-linejoin:round; stroke-width:4; stroke-opacity:1; fill:none\" points=\"2001.58,198.898 2278.07,198.898 2278.07,95.2176 2001.58,95.2176 2001.58,198.898 \"/>\n",
       "<path clip-path=\"url(#clip620)\" d=\"M2026.48 167.794 L2175.85 167.794 L2175.85 126.322 L2026.48 126.322 L2026.48 167.794  Z\" fill=\"#009af9\" fill-rule=\"evenodd\" fill-opacity=\"1\"/>\n",
       "<polyline clip-path=\"url(#clip620)\" style=\"stroke:#000000; stroke-linecap:round; stroke-linejoin:round; stroke-width:4; stroke-opacity:1; fill:none\" points=\"2026.48,167.794 2175.85,167.794 2175.85,126.322 2026.48,126.322 2026.48,167.794 \"/>\n",
       "<path clip-path=\"url(#clip620)\" d=\"M2214.59 166.745 Q2212.78 171.375 2211.07 172.787 Q2209.36 174.199 2206.49 174.199 L2203.08 174.199 L2203.08 170.634 L2205.58 170.634 Q2207.34 170.634 2208.31 169.8 Q2209.29 168.967 2210.47 165.865 L2211.23 163.921 L2200.74 138.412 L2205.26 138.412 L2213.36 158.689 L2221.46 138.412 L2225.98 138.412 L2214.59 166.745 Z\" fill=\"#000000\" fill-rule=\"nonzero\" fill-opacity=\"1\" /><path clip-path=\"url(#clip620)\" d=\"M2233.27 160.402 L2240.91 160.402 L2240.91 134.037 L2232.6 135.703 L2232.6 131.444 L2240.86 129.778 L2245.54 129.778 L2245.54 160.402 L2253.17 160.402 L2253.17 164.338 L2233.27 164.338 L2233.27 160.402 Z\" fill=\"#000000\" fill-rule=\"nonzero\" fill-opacity=\"1\" /></svg>\n"
      ],
      "text/html": [
       "<?xml version=\"1.0\" encoding=\"utf-8\"?>\n",
       "<svg xmlns=\"http://www.w3.org/2000/svg\" xmlns:xlink=\"http://www.w3.org/1999/xlink\" width=\"600\" height=\"400\" viewBox=\"0 0 2400 1600\">\n",
       "<defs>\n",
       "  <clipPath id=\"clip670\">\n",
       "    <rect x=\"0\" y=\"0\" width=\"2400\" height=\"1600\"/>\n",
       "  </clipPath>\n",
       "</defs>\n",
       "<path clip-path=\"url(#clip670)\" d=\"M0 1600 L2400 1600 L2400 0 L0 0  Z\" fill=\"#ffffff\" fill-rule=\"evenodd\" fill-opacity=\"1\"/>\n",
       "<defs>\n",
       "  <clipPath id=\"clip671\">\n",
       "    <rect x=\"480\" y=\"0\" width=\"1681\" height=\"1600\"/>\n",
       "  </clipPath>\n",
       "</defs>\n",
       "<path clip-path=\"url(#clip670)\" d=\"M112.177 1486.45 L2352.76 1486.45 L2352.76 47.2441 L112.177 47.2441  Z\" fill=\"#ffffff\" fill-rule=\"evenodd\" fill-opacity=\"1\"/>\n",
       "<defs>\n",
       "  <clipPath id=\"clip672\">\n",
       "    <rect x=\"112\" y=\"47\" width=\"2242\" height=\"1440\"/>\n",
       "  </clipPath>\n",
       "</defs>\n",
       "<polyline clip-path=\"url(#clip672)\" style=\"stroke:#000000; stroke-linecap:round; stroke-linejoin:round; stroke-width:2; stroke-opacity:0.1; fill:none\" points=\"434.824,1486.45 434.824,47.2441 \"/>\n",
       "<polyline clip-path=\"url(#clip672)\" style=\"stroke:#000000; stroke-linecap:round; stroke-linejoin:round; stroke-width:2; stroke-opacity:0.1; fill:none\" points=\"833.645,1486.45 833.645,47.2441 \"/>\n",
       "<polyline clip-path=\"url(#clip672)\" style=\"stroke:#000000; stroke-linecap:round; stroke-linejoin:round; stroke-width:2; stroke-opacity:0.1; fill:none\" points=\"1232.47,1486.45 1232.47,47.2441 \"/>\n",
       "<polyline clip-path=\"url(#clip672)\" style=\"stroke:#000000; stroke-linecap:round; stroke-linejoin:round; stroke-width:2; stroke-opacity:0.1; fill:none\" points=\"1631.29,1486.45 1631.29,47.2441 \"/>\n",
       "<polyline clip-path=\"url(#clip672)\" style=\"stroke:#000000; stroke-linecap:round; stroke-linejoin:round; stroke-width:2; stroke-opacity:0.1; fill:none\" points=\"2030.11,1486.45 2030.11,47.2441 \"/>\n",
       "<polyline clip-path=\"url(#clip670)\" style=\"stroke:#000000; stroke-linecap:round; stroke-linejoin:round; stroke-width:4; stroke-opacity:1; fill:none\" points=\"112.177,1486.45 2352.76,1486.45 \"/>\n",
       "<polyline clip-path=\"url(#clip670)\" style=\"stroke:#000000; stroke-linecap:round; stroke-linejoin:round; stroke-width:4; stroke-opacity:1; fill:none\" points=\"434.824,1486.45 434.824,1467.55 \"/>\n",
       "<polyline clip-path=\"url(#clip670)\" style=\"stroke:#000000; stroke-linecap:round; stroke-linejoin:round; stroke-width:4; stroke-opacity:1; fill:none\" points=\"833.645,1486.45 833.645,1467.55 \"/>\n",
       "<polyline clip-path=\"url(#clip670)\" style=\"stroke:#000000; stroke-linecap:round; stroke-linejoin:round; stroke-width:4; stroke-opacity:1; fill:none\" points=\"1232.47,1486.45 1232.47,1467.55 \"/>\n",
       "<polyline clip-path=\"url(#clip670)\" style=\"stroke:#000000; stroke-linecap:round; stroke-linejoin:round; stroke-width:4; stroke-opacity:1; fill:none\" points=\"1631.29,1486.45 1631.29,1467.55 \"/>\n",
       "<polyline clip-path=\"url(#clip670)\" style=\"stroke:#000000; stroke-linecap:round; stroke-linejoin:round; stroke-width:4; stroke-opacity:1; fill:none\" points=\"2030.11,1486.45 2030.11,1467.55 \"/>\n",
       "<path clip-path=\"url(#clip670)\" d=\"M413.597 1544.91 L429.916 1544.91 L429.916 1548.85 L407.972 1548.85 L407.972 1544.91 Q410.634 1542.16 415.217 1537.53 Q419.824 1532.88 421.004 1531.53 Q423.25 1529.01 424.129 1527.27 Q425.032 1525.51 425.032 1523.82 Q425.032 1521.07 423.088 1519.33 Q421.166 1517.6 418.065 1517.6 Q415.865 1517.6 413.412 1518.36 Q410.981 1519.13 408.203 1520.68 L408.203 1515.95 Q411.028 1514.82 413.481 1514.24 Q415.935 1513.66 417.972 1513.66 Q423.342 1513.66 426.537 1516.35 Q429.731 1519.03 429.731 1523.52 Q429.731 1525.65 428.921 1527.57 Q428.134 1529.47 426.027 1532.07 Q425.449 1532.74 422.347 1535.95 Q419.245 1539.15 413.597 1544.91 Z\" fill=\"#000000\" fill-rule=\"nonzero\" fill-opacity=\"1\" /><path clip-path=\"url(#clip670)\" d=\"M449.731 1517.37 Q446.12 1517.37 444.291 1520.93 Q442.486 1524.47 442.486 1531.6 Q442.486 1538.71 444.291 1542.27 Q446.12 1545.82 449.731 1545.82 Q453.365 1545.82 455.171 1542.27 Q457 1538.71 457 1531.6 Q457 1524.47 455.171 1520.93 Q453.365 1517.37 449.731 1517.37 M449.731 1513.66 Q455.541 1513.66 458.597 1518.27 Q461.675 1522.85 461.675 1531.6 Q461.675 1540.33 458.597 1544.94 Q455.541 1549.52 449.731 1549.52 Q443.921 1549.52 440.842 1544.94 Q437.787 1540.33 437.787 1531.6 Q437.787 1522.85 440.842 1518.27 Q443.921 1513.66 449.731 1513.66 Z\" fill=\"#000000\" fill-rule=\"nonzero\" fill-opacity=\"1\" /><path clip-path=\"url(#clip670)\" d=\"M822.488 1530.21 Q825.844 1530.93 827.719 1533.2 Q829.617 1535.47 829.617 1538.8 Q829.617 1543.92 826.099 1546.72 Q822.58 1549.52 816.099 1549.52 Q813.923 1549.52 811.608 1549.08 Q809.317 1548.66 806.863 1547.81 L806.863 1543.29 Q808.807 1544.43 811.122 1545.01 Q813.437 1545.58 815.96 1545.58 Q820.358 1545.58 822.65 1543.85 Q824.965 1542.11 824.965 1538.8 Q824.965 1535.75 822.812 1534.03 Q820.682 1532.3 816.863 1532.3 L812.835 1532.3 L812.835 1528.45 L817.048 1528.45 Q820.497 1528.45 822.326 1527.09 Q824.154 1525.7 824.154 1523.11 Q824.154 1520.45 822.256 1519.03 Q820.381 1517.6 816.863 1517.6 Q814.942 1517.6 812.742 1518.01 Q810.543 1518.43 807.905 1519.31 L807.905 1515.14 Q810.567 1514.4 812.881 1514.03 Q815.219 1513.66 817.279 1513.66 Q822.604 1513.66 825.705 1516.09 Q828.807 1518.5 828.807 1522.62 Q828.807 1525.49 827.164 1527.48 Q825.52 1529.45 822.488 1530.21 Z\" fill=\"#000000\" fill-rule=\"nonzero\" fill-opacity=\"1\" /><path clip-path=\"url(#clip670)\" d=\"M848.483 1517.37 Q844.872 1517.37 843.043 1520.93 Q841.238 1524.47 841.238 1531.6 Q841.238 1538.71 843.043 1542.27 Q844.872 1545.82 848.483 1545.82 Q852.117 1545.82 853.923 1542.27 Q855.751 1538.71 855.751 1531.6 Q855.751 1524.47 853.923 1520.93 Q852.117 1517.37 848.483 1517.37 M848.483 1513.66 Q854.293 1513.66 857.349 1518.27 Q860.427 1522.85 860.427 1531.6 Q860.427 1540.33 857.349 1544.94 Q854.293 1549.52 848.483 1549.52 Q842.673 1549.52 839.594 1544.94 Q836.539 1540.33 836.539 1531.6 Q836.539 1522.85 839.594 1518.27 Q842.673 1513.66 848.483 1513.66 Z\" fill=\"#000000\" fill-rule=\"nonzero\" fill-opacity=\"1\" /><path clip-path=\"url(#clip670)\" d=\"M1220.64 1518.36 L1208.83 1536.81 L1220.64 1536.81 L1220.64 1518.36 M1219.41 1514.29 L1225.29 1514.29 L1225.29 1536.81 L1230.22 1536.81 L1230.22 1540.7 L1225.29 1540.7 L1225.29 1548.85 L1220.64 1548.85 L1220.64 1540.7 L1205.04 1540.7 L1205.04 1536.19 L1219.41 1514.29 Z\" fill=\"#000000\" fill-rule=\"nonzero\" fill-opacity=\"1\" /><path clip-path=\"url(#clip670)\" d=\"M1247.95 1517.37 Q1244.34 1517.37 1242.51 1520.93 Q1240.71 1524.47 1240.71 1531.6 Q1240.71 1538.71 1242.51 1542.27 Q1244.34 1545.82 1247.95 1545.82 Q1251.59 1545.82 1253.39 1542.27 Q1255.22 1538.71 1255.22 1531.6 Q1255.22 1524.47 1253.39 1520.93 Q1251.59 1517.37 1247.95 1517.37 M1247.95 1513.66 Q1253.76 1513.66 1256.82 1518.27 Q1259.9 1522.85 1259.9 1531.6 Q1259.9 1540.33 1256.82 1544.94 Q1253.76 1549.52 1247.95 1549.52 Q1242.14 1549.52 1239.06 1544.94 Q1236.01 1540.33 1236.01 1531.6 Q1236.01 1522.85 1239.06 1518.27 Q1242.14 1513.66 1247.95 1513.66 Z\" fill=\"#000000\" fill-rule=\"nonzero\" fill-opacity=\"1\" /><path clip-path=\"url(#clip670)\" d=\"M1605.99 1514.29 L1624.34 1514.29 L1624.34 1518.22 L1610.27 1518.22 L1610.27 1526.7 Q1611.29 1526.35 1612.31 1526.19 Q1613.33 1526 1614.34 1526 Q1620.13 1526 1623.51 1529.17 Q1626.89 1532.34 1626.89 1537.76 Q1626.89 1543.34 1623.42 1546.44 Q1619.95 1549.52 1613.63 1549.52 Q1611.45 1549.52 1609.18 1549.15 Q1606.94 1548.78 1604.53 1548.04 L1604.53 1543.34 Q1606.61 1544.47 1608.83 1545.03 Q1611.06 1545.58 1613.53 1545.58 Q1617.54 1545.58 1619.88 1543.48 Q1622.21 1541.37 1622.21 1537.76 Q1622.21 1534.15 1619.88 1532.04 Q1617.54 1529.94 1613.53 1529.94 Q1611.66 1529.94 1609.78 1530.35 Q1607.93 1530.77 1605.99 1531.65 L1605.99 1514.29 Z\" fill=\"#000000\" fill-rule=\"nonzero\" fill-opacity=\"1\" /><path clip-path=\"url(#clip670)\" d=\"M1646.1 1517.37 Q1642.49 1517.37 1640.66 1520.93 Q1638.86 1524.47 1638.86 1531.6 Q1638.86 1538.71 1640.66 1542.27 Q1642.49 1545.82 1646.1 1545.82 Q1649.74 1545.82 1651.54 1542.27 Q1653.37 1538.71 1653.37 1531.6 Q1653.37 1524.47 1651.54 1520.93 Q1649.74 1517.37 1646.1 1517.37 M1646.1 1513.66 Q1651.91 1513.66 1654.97 1518.27 Q1658.05 1522.85 1658.05 1531.6 Q1658.05 1540.33 1654.97 1544.94 Q1651.91 1549.52 1646.1 1549.52 Q1640.29 1549.52 1637.21 1544.94 Q1634.16 1540.33 1634.16 1531.6 Q1634.16 1522.85 1637.21 1518.27 Q1640.29 1513.66 1646.1 1513.66 Z\" fill=\"#000000\" fill-rule=\"nonzero\" fill-opacity=\"1\" /><path clip-path=\"url(#clip670)\" d=\"M2015.51 1529.7 Q2012.37 1529.7 2010.51 1531.86 Q2008.69 1534.01 2008.69 1537.76 Q2008.69 1541.49 2010.51 1543.66 Q2012.37 1545.82 2015.51 1545.82 Q2018.66 1545.82 2020.49 1543.66 Q2022.34 1541.49 2022.34 1537.76 Q2022.34 1534.01 2020.49 1531.86 Q2018.66 1529.7 2015.51 1529.7 M2024.8 1515.05 L2024.8 1519.31 Q2023.04 1518.48 2021.23 1518.04 Q2019.45 1517.6 2017.69 1517.6 Q2013.06 1517.6 2010.61 1520.72 Q2008.18 1523.85 2007.83 1530.17 Q2009.2 1528.15 2011.26 1527.09 Q2013.32 1526 2015.79 1526 Q2021 1526 2024.01 1529.17 Q2027.04 1532.32 2027.04 1537.76 Q2027.04 1543.08 2023.89 1546.3 Q2020.75 1549.52 2015.51 1549.52 Q2009.52 1549.52 2006.35 1544.94 Q2003.18 1540.33 2003.18 1531.6 Q2003.18 1523.41 2007.07 1518.55 Q2010.95 1513.66 2017.51 1513.66 Q2019.26 1513.66 2021.05 1514.01 Q2022.85 1514.36 2024.8 1515.05 Z\" fill=\"#000000\" fill-rule=\"nonzero\" fill-opacity=\"1\" /><path clip-path=\"url(#clip670)\" d=\"M2045.1 1517.37 Q2041.49 1517.37 2039.66 1520.93 Q2037.85 1524.47 2037.85 1531.6 Q2037.85 1538.71 2039.66 1542.27 Q2041.49 1545.82 2045.1 1545.82 Q2048.73 1545.82 2050.54 1542.27 Q2052.37 1538.71 2052.37 1531.6 Q2052.37 1524.47 2050.54 1520.93 Q2048.73 1517.37 2045.1 1517.37 M2045.1 1513.66 Q2050.91 1513.66 2053.96 1518.27 Q2057.04 1522.85 2057.04 1531.6 Q2057.04 1540.33 2053.96 1544.94 Q2050.91 1549.52 2045.1 1549.52 Q2039.29 1549.52 2036.21 1544.94 Q2033.15 1540.33 2033.15 1531.6 Q2033.15 1522.85 2036.21 1518.27 Q2039.29 1513.66 2045.1 1513.66 Z\" fill=\"#000000\" fill-rule=\"nonzero\" fill-opacity=\"1\" /><polyline clip-path=\"url(#clip672)\" style=\"stroke:#000000; stroke-linecap:round; stroke-linejoin:round; stroke-width:2; stroke-opacity:0.1; fill:none\" points=\"112.177,1486.45 2352.76,1486.45 \"/>\n",
       "<polyline clip-path=\"url(#clip672)\" style=\"stroke:#000000; stroke-linecap:round; stroke-linejoin:round; stroke-width:2; stroke-opacity:0.1; fill:none\" points=\"112.177,1126.65 2352.76,1126.65 \"/>\n",
       "<polyline clip-path=\"url(#clip672)\" style=\"stroke:#000000; stroke-linecap:round; stroke-linejoin:round; stroke-width:2; stroke-opacity:0.1; fill:none\" points=\"112.177,766.846 2352.76,766.846 \"/>\n",
       "<polyline clip-path=\"url(#clip672)\" style=\"stroke:#000000; stroke-linecap:round; stroke-linejoin:round; stroke-width:2; stroke-opacity:0.1; fill:none\" points=\"112.177,407.045 2352.76,407.045 \"/>\n",
       "<polyline clip-path=\"url(#clip672)\" style=\"stroke:#000000; stroke-linecap:round; stroke-linejoin:round; stroke-width:2; stroke-opacity:0.1; fill:none\" points=\"112.177,47.2441 2352.76,47.2441 \"/>\n",
       "<polyline clip-path=\"url(#clip670)\" style=\"stroke:#000000; stroke-linecap:round; stroke-linejoin:round; stroke-width:4; stroke-opacity:1; fill:none\" points=\"112.177,1486.45 112.177,47.2441 \"/>\n",
       "<polyline clip-path=\"url(#clip670)\" style=\"stroke:#000000; stroke-linecap:round; stroke-linejoin:round; stroke-width:4; stroke-opacity:1; fill:none\" points=\"112.177,1486.45 131.075,1486.45 \"/>\n",
       "<polyline clip-path=\"url(#clip670)\" style=\"stroke:#000000; stroke-linecap:round; stroke-linejoin:round; stroke-width:4; stroke-opacity:1; fill:none\" points=\"112.177,1126.65 131.075,1126.65 \"/>\n",
       "<polyline clip-path=\"url(#clip670)\" style=\"stroke:#000000; stroke-linecap:round; stroke-linejoin:round; stroke-width:4; stroke-opacity:1; fill:none\" points=\"112.177,766.846 131.075,766.846 \"/>\n",
       "<polyline clip-path=\"url(#clip670)\" style=\"stroke:#000000; stroke-linecap:round; stroke-linejoin:round; stroke-width:4; stroke-opacity:1; fill:none\" points=\"112.177,407.045 131.075,407.045 \"/>\n",
       "<polyline clip-path=\"url(#clip670)\" style=\"stroke:#000000; stroke-linecap:round; stroke-linejoin:round; stroke-width:4; stroke-opacity:1; fill:none\" points=\"112.177,47.2441 131.075,47.2441 \"/>\n",
       "<path clip-path=\"url(#clip670)\" d=\"M64.2328 1472.25 Q60.6217 1472.25 58.793 1475.81 Q56.9875 1479.35 56.9875 1486.48 Q56.9875 1493.59 58.793 1497.15 Q60.6217 1500.7 64.2328 1500.7 Q67.867 1500.7 69.6726 1497.15 Q71.5013 1493.59 71.5013 1486.48 Q71.5013 1479.35 69.6726 1475.81 Q67.867 1472.25 64.2328 1472.25 M64.2328 1468.54 Q70.0429 1468.54 73.0985 1473.15 Q76.1772 1477.73 76.1772 1486.48 Q76.1772 1495.21 73.0985 1499.82 Q70.0429 1504.4 64.2328 1504.4 Q58.4226 1504.4 55.344 1499.82 Q52.2884 1495.21 52.2884 1486.48 Q52.2884 1477.73 55.344 1473.15 Q58.4226 1468.54 64.2328 1468.54 Z\" fill=\"#000000\" fill-rule=\"nonzero\" fill-opacity=\"1\" /><path clip-path=\"url(#clip670)\" d=\"M59.8578 1139.99 L76.1772 1139.99 L76.1772 1143.93 L54.2328 1143.93 L54.2328 1139.99 Q56.8949 1137.24 61.4782 1132.61 Q66.0846 1127.95 67.2652 1126.61 Q69.5105 1124.09 70.3902 1122.35 Q71.2929 1120.59 71.2929 1118.9 Q71.2929 1116.15 69.3485 1114.41 Q67.4272 1112.68 64.3254 1112.68 Q62.1263 1112.68 59.6726 1113.44 Q57.2421 1114.2 54.4643 1115.76 L54.4643 1111.03 Q57.2884 1109.9 59.7421 1109.32 Q62.1958 1108.74 64.2328 1108.74 Q69.6031 1108.74 72.7976 1111.43 Q75.992 1114.11 75.992 1118.6 Q75.992 1120.73 75.1818 1122.65 Q74.3948 1124.55 72.2883 1127.14 Q71.7096 1127.82 68.6078 1131.03 Q65.5059 1134.23 59.8578 1139.99 Z\" fill=\"#000000\" fill-rule=\"nonzero\" fill-opacity=\"1\" /><path clip-path=\"url(#clip670)\" d=\"M66.5939 753.64 L54.7884 772.089 L66.5939 772.089 L66.5939 753.64 M65.367 749.566 L71.2466 749.566 L71.2466 772.089 L76.1772 772.089 L76.1772 775.978 L71.2466 775.978 L71.2466 784.126 L66.5939 784.126 L66.5939 775.978 L50.9921 775.978 L50.9921 771.464 L65.367 749.566 Z\" fill=\"#000000\" fill-rule=\"nonzero\" fill-opacity=\"1\" /><path clip-path=\"url(#clip670)\" d=\"M64.6495 405.182 Q61.5013 405.182 59.6495 407.334 Q57.8208 409.487 57.8208 413.237 Q57.8208 416.964 59.6495 419.14 Q61.5013 421.293 64.6495 421.293 Q67.7976 421.293 69.6263 419.14 Q71.4781 416.964 71.4781 413.237 Q71.4781 409.487 69.6263 407.334 Q67.7976 405.182 64.6495 405.182 M73.9318 390.529 L73.9318 394.788 Q72.1726 393.955 70.367 393.515 Q68.5846 393.075 66.8254 393.075 Q62.1958 393.075 59.7421 396.2 Q57.3115 399.325 56.9643 405.645 Q58.33 403.631 60.3902 402.566 Q62.4504 401.478 64.9272 401.478 Q70.1355 401.478 73.1448 404.649 Q76.1772 407.797 76.1772 413.237 Q76.1772 418.561 73.029 421.779 Q69.8809 424.996 64.6495 424.996 Q58.6541 424.996 55.4828 420.413 Q52.3116 415.807 52.3116 407.08 Q52.3116 398.885 56.2004 394.024 Q60.0893 389.14 66.6402 389.14 Q68.3994 389.14 70.1818 389.487 Q71.9874 389.834 73.9318 390.529 Z\" fill=\"#000000\" fill-rule=\"nonzero\" fill-opacity=\"1\" /><path clip-path=\"url(#clip670)\" d=\"M64.3254 48.1121 Q60.9921 48.1121 59.0708 49.8945 Q57.1726 51.6769 57.1726 54.8019 Q57.1726 57.9269 59.0708 59.7093 Q60.9921 61.4917 64.3254 61.4917 Q67.6587 61.4917 69.58 59.7093 Q71.5013 57.9038 71.5013 54.8019 Q71.5013 51.6769 69.58 49.8945 Q67.6819 48.1121 64.3254 48.1121 M59.6495 46.1214 Q56.6402 45.3807 54.9504 43.3205 Q53.2838 41.2603 53.2838 38.2974 Q53.2838 34.1539 56.2236 31.7465 Q59.1865 29.3391 64.3254 29.3391 Q69.4874 29.3391 72.4272 31.7465 Q75.367 34.1539 75.367 38.2974 Q75.367 41.2603 73.6772 43.3205 Q72.0105 45.3807 69.0244 46.1214 Q72.404 46.9084 74.279 49.2001 Q76.1772 51.4918 76.1772 54.8019 Q76.1772 59.825 73.0985 62.5102 Q70.0429 65.1954 64.3254 65.1954 Q58.6078 65.1954 55.5291 62.5102 Q52.4736 59.825 52.4736 54.8019 Q52.4736 51.4918 54.3717 49.2001 Q56.2699 46.9084 59.6495 46.1214 M57.9365 38.7372 Q57.9365 41.4224 59.6032 42.927 Q61.293 44.4316 64.3254 44.4316 Q67.3346 44.4316 69.0244 42.927 Q70.7374 41.4224 70.7374 38.7372 Q70.7374 36.052 69.0244 34.5474 Q67.3346 33.0428 64.3254 33.0428 Q61.293 33.0428 59.6032 34.5474 Q57.9365 36.052 57.9365 38.7372 Z\" fill=\"#000000\" fill-rule=\"nonzero\" fill-opacity=\"1\" /><path clip-path=\"url(#clip672)\" d=\"M235.413 1306.55 L235.413 1486.45 L434.824 1486.45 L434.824 1306.55 L235.413 1306.55 L235.413 1306.55  Z\" fill=\"#009af9\" fill-rule=\"evenodd\" fill-opacity=\"1\"/>\n",
       "<polyline clip-path=\"url(#clip672)\" style=\"stroke:#000000; stroke-linecap:round; stroke-linejoin:round; stroke-width:4; stroke-opacity:1; fill:none\" points=\"235.413,1306.55 235.413,1486.45 434.824,1486.45 434.824,1306.55 235.413,1306.55 \"/>\n",
       "<path clip-path=\"url(#clip672)\" d=\"M434.824 1486.45 L434.824 1486.45 L634.234 1486.45 L634.234 1486.45 L434.824 1486.45 L434.824 1486.45  Z\" fill=\"#009af9\" fill-rule=\"evenodd\" fill-opacity=\"1\"/>\n",
       "<polyline clip-path=\"url(#clip672)\" style=\"stroke:#000000; stroke-linecap:round; stroke-linejoin:round; stroke-width:4; stroke-opacity:1; fill:none\" points=\"434.824,1486.45 434.824,1486.45 634.234,1486.45 434.824,1486.45 \"/>\n",
       "<path clip-path=\"url(#clip672)\" d=\"M634.234 946.746 L634.234 1486.45 L833.645 1486.45 L833.645 946.746 L634.234 946.746 L634.234 946.746  Z\" fill=\"#009af9\" fill-rule=\"evenodd\" fill-opacity=\"1\"/>\n",
       "<polyline clip-path=\"url(#clip672)\" style=\"stroke:#000000; stroke-linecap:round; stroke-linejoin:round; stroke-width:4; stroke-opacity:1; fill:none\" points=\"634.234,946.746 634.234,1486.45 833.645,1486.45 833.645,946.746 634.234,946.746 \"/>\n",
       "<path clip-path=\"url(#clip672)\" d=\"M833.645 1486.45 L833.645 1486.45 L1033.06 1486.45 L1033.06 1486.45 L833.645 1486.45 L833.645 1486.45  Z\" fill=\"#009af9\" fill-rule=\"evenodd\" fill-opacity=\"1\"/>\n",
       "<polyline clip-path=\"url(#clip672)\" style=\"stroke:#000000; stroke-linecap:round; stroke-linejoin:round; stroke-width:4; stroke-opacity:1; fill:none\" points=\"833.645,1486.45 833.645,1486.45 1033.06,1486.45 833.645,1486.45 \"/>\n",
       "<path clip-path=\"url(#clip672)\" d=\"M1033.06 946.746 L1033.06 1486.45 L1232.47 1486.45 L1232.47 946.746 L1033.06 946.746 L1033.06 946.746  Z\" fill=\"#009af9\" fill-rule=\"evenodd\" fill-opacity=\"1\"/>\n",
       "<polyline clip-path=\"url(#clip672)\" style=\"stroke:#000000; stroke-linecap:round; stroke-linejoin:round; stroke-width:4; stroke-opacity:1; fill:none\" points=\"1033.06,946.746 1033.06,1486.45 1232.47,1486.45 1232.47,946.746 1033.06,946.746 \"/>\n",
       "<path clip-path=\"url(#clip672)\" d=\"M1232.47 1486.45 L1232.47 1486.45 L1431.88 1486.45 L1431.88 1486.45 L1232.47 1486.45 L1232.47 1486.45  Z\" fill=\"#009af9\" fill-rule=\"evenodd\" fill-opacity=\"1\"/>\n",
       "<polyline clip-path=\"url(#clip672)\" style=\"stroke:#000000; stroke-linecap:round; stroke-linejoin:round; stroke-width:4; stroke-opacity:1; fill:none\" points=\"1232.47,1486.45 1232.47,1486.45 1431.88,1486.45 1232.47,1486.45 \"/>\n",
       "<path clip-path=\"url(#clip672)\" d=\"M1431.88 47.2441 L1431.88 1486.45 L1631.29 1486.45 L1631.29 47.2441 L1431.88 47.2441 L1431.88 47.2441  Z\" fill=\"#009af9\" fill-rule=\"evenodd\" fill-opacity=\"1\"/>\n",
       "<polyline clip-path=\"url(#clip672)\" style=\"stroke:#000000; stroke-linecap:round; stroke-linejoin:round; stroke-width:4; stroke-opacity:1; fill:none\" points=\"1431.88,47.2441 1431.88,1486.45 1631.29,1486.45 1631.29,47.2441 1431.88,47.2441 \"/>\n",
       "<path clip-path=\"url(#clip672)\" d=\"M1631.29 1126.65 L1631.29 1486.45 L1830.7 1486.45 L1830.7 1126.65 L1631.29 1126.65 L1631.29 1126.65  Z\" fill=\"#009af9\" fill-rule=\"evenodd\" fill-opacity=\"1\"/>\n",
       "<polyline clip-path=\"url(#clip672)\" style=\"stroke:#000000; stroke-linecap:round; stroke-linejoin:round; stroke-width:4; stroke-opacity:1; fill:none\" points=\"1631.29,1126.65 1631.29,1486.45 1830.7,1486.45 1830.7,1126.65 1631.29,1126.65 \"/>\n",
       "<path clip-path=\"url(#clip672)\" d=\"M1830.7 1126.65 L1830.7 1486.45 L2030.11 1486.45 L2030.11 1126.65 L1830.7 1126.65 L1830.7 1126.65  Z\" fill=\"#009af9\" fill-rule=\"evenodd\" fill-opacity=\"1\"/>\n",
       "<polyline clip-path=\"url(#clip672)\" style=\"stroke:#000000; stroke-linecap:round; stroke-linejoin:round; stroke-width:4; stroke-opacity:1; fill:none\" points=\"1830.7,1126.65 1830.7,1486.45 2030.11,1486.45 2030.11,1126.65 1830.7,1126.65 \"/>\n",
       "<path clip-path=\"url(#clip672)\" d=\"M2030.11 1306.55 L2030.11 1486.45 L2229.52 1486.45 L2229.52 1306.55 L2030.11 1306.55 L2030.11 1306.55  Z\" fill=\"#009af9\" fill-rule=\"evenodd\" fill-opacity=\"1\"/>\n",
       "<polyline clip-path=\"url(#clip672)\" style=\"stroke:#000000; stroke-linecap:round; stroke-linejoin:round; stroke-width:4; stroke-opacity:1; fill:none\" points=\"2030.11,1306.55 2030.11,1486.45 2229.52,1486.45 2229.52,1306.55 2030.11,1306.55 \"/>\n",
       "<circle clip-path=\"url(#clip672)\" style=\"fill:#009af9; stroke:none; fill-opacity:0\" cx=\"335.118\" cy=\"1306.55\" r=\"2\"/>\n",
       "<circle clip-path=\"url(#clip672)\" style=\"fill:#009af9; stroke:none; fill-opacity:0\" cx=\"534.529\" cy=\"1486.45\" r=\"2\"/>\n",
       "<circle clip-path=\"url(#clip672)\" style=\"fill:#009af9; stroke:none; fill-opacity:0\" cx=\"733.94\" cy=\"946.746\" r=\"2\"/>\n",
       "<circle clip-path=\"url(#clip672)\" style=\"fill:#009af9; stroke:none; fill-opacity:0\" cx=\"933.35\" cy=\"1486.45\" r=\"2\"/>\n",
       "<circle clip-path=\"url(#clip672)\" style=\"fill:#009af9; stroke:none; fill-opacity:0\" cx=\"1132.76\" cy=\"946.746\" r=\"2\"/>\n",
       "<circle clip-path=\"url(#clip672)\" style=\"fill:#009af9; stroke:none; fill-opacity:0\" cx=\"1332.17\" cy=\"1486.45\" r=\"2\"/>\n",
       "<circle clip-path=\"url(#clip672)\" style=\"fill:#009af9; stroke:none; fill-opacity:0\" cx=\"1531.58\" cy=\"47.2441\" r=\"2\"/>\n",
       "<circle clip-path=\"url(#clip672)\" style=\"fill:#009af9; stroke:none; fill-opacity:0\" cx=\"1730.99\" cy=\"1126.65\" r=\"2\"/>\n",
       "<circle clip-path=\"url(#clip672)\" style=\"fill:#009af9; stroke:none; fill-opacity:0\" cx=\"1930.4\" cy=\"1126.65\" r=\"2\"/>\n",
       "<circle clip-path=\"url(#clip672)\" style=\"fill:#009af9; stroke:none; fill-opacity:0\" cx=\"2129.81\" cy=\"1306.55\" r=\"2\"/>\n",
       "<path clip-path=\"url(#clip670)\" d=\"M2001.58 198.898 L2278.07 198.898 L2278.07 95.2176 L2001.58 95.2176  Z\" fill=\"#ffffff\" fill-rule=\"evenodd\" fill-opacity=\"1\"/>\n",
       "<polyline clip-path=\"url(#clip670)\" style=\"stroke:#000000; stroke-linecap:round; stroke-linejoin:round; stroke-width:4; stroke-opacity:1; fill:none\" points=\"2001.58,198.898 2278.07,198.898 2278.07,95.2176 2001.58,95.2176 2001.58,198.898 \"/>\n",
       "<path clip-path=\"url(#clip670)\" d=\"M2026.48 167.794 L2175.85 167.794 L2175.85 126.322 L2026.48 126.322 L2026.48 167.794  Z\" fill=\"#009af9\" fill-rule=\"evenodd\" fill-opacity=\"1\"/>\n",
       "<polyline clip-path=\"url(#clip670)\" style=\"stroke:#000000; stroke-linecap:round; stroke-linejoin:round; stroke-width:4; stroke-opacity:1; fill:none\" points=\"2026.48,167.794 2175.85,167.794 2175.85,126.322 2026.48,126.322 2026.48,167.794 \"/>\n",
       "<path clip-path=\"url(#clip670)\" d=\"M2214.59 166.745 Q2212.78 171.375 2211.07 172.787 Q2209.36 174.199 2206.49 174.199 L2203.08 174.199 L2203.08 170.634 L2205.58 170.634 Q2207.34 170.634 2208.31 169.8 Q2209.29 168.967 2210.47 165.865 L2211.23 163.921 L2200.74 138.412 L2205.26 138.412 L2213.36 158.689 L2221.46 138.412 L2225.98 138.412 L2214.59 166.745 Z\" fill=\"#000000\" fill-rule=\"nonzero\" fill-opacity=\"1\" /><path clip-path=\"url(#clip670)\" d=\"M2233.27 160.402 L2240.91 160.402 L2240.91 134.037 L2232.6 135.703 L2232.6 131.444 L2240.86 129.778 L2245.54 129.778 L2245.54 160.402 L2253.17 160.402 L2253.17 164.338 L2233.27 164.338 L2233.27 160.402 Z\" fill=\"#000000\" fill-rule=\"nonzero\" fill-opacity=\"1\" /></svg>\n"
      ]
     },
     "metadata": {},
     "output_type": "display_data"
    }
   ],
   "source": [
    "histogram(x, bins=10)"
   ]
  },
  {
   "cell_type": "markdown",
   "metadata": {},
   "source": [
    "# By package"
   ]
  },
  {
   "cell_type": "code",
   "execution_count": 20,
   "metadata": {},
   "outputs": [
    {
     "data": {
      "text/plain": [
       "\"t-test via a package\""
      ]
     },
     "metadata": {},
     "output_type": "display_data"
    },
    {
     "data": {
      "text/plain": [
       "One sample t-test\n",
       "-----------------\n",
       "Population details:\n",
       "    parameter of interest:   Mean\n",
       "    value under h_0:         50\n",
       "    point estimate:          43.7173\n",
       "    95% confidence interval: (38.48, 48.96)\n",
       "\n",
       "Test summary:\n",
       "    outcome with 95% confidence: reject h_0\n",
       "    two-sided p-value:           0.0213\n",
       "\n",
       "Details:\n",
       "    number of observations:   20\n",
       "    t-statistic:              -2.5097130000252785\n",
       "    degrees of freedom:       19\n",
       "    empirical standard error: 2.5033357977921495\n"
      ]
     },
     "metadata": {},
     "output_type": "display_data"
    }
   ],
   "source": [
    "display(\"t-test via a package\")\n",
    "ttest = OneSampleTTest(x, μ)\n",
    "display(ttest)"
   ]
  },
  {
   "cell_type": "markdown",
   "metadata": {},
   "source": [
    "# By Hand"
   ]
  },
  {
   "cell_type": "markdown",
   "metadata": {},
   "source": [
    "## Calculate the t-statistic"
   ]
  },
  {
   "cell_type": "code",
   "execution_count": 17,
   "metadata": {},
   "outputs": [
    {
     "data": {
      "text/plain": [
       "-2.5097130000252785"
      ]
     },
     "metadata": {},
     "output_type": "display_data"
    }
   ],
   "source": [
    "n = sample_size\n",
    "X̄ = sum(x) / n\n",
    "S² = (sum((x .- X̄).^2)) / (n - 1)\n",
    "S = √S²\n",
    "\n",
    "t = (X̄ - μ) / (S / √n)\n",
    "t"
   ]
  },
  {
   "cell_type": "code",
   "execution_count": 22,
   "metadata": {},
   "outputs": [
    {
     "data": {
      "text/plain": [
       "TDist{Float64}(ν=19.0)"
      ]
     },
     "metadata": {},
     "output_type": "display_data"
    }
   ],
   "source": [
    "df = n-1\n",
    "\n",
    "model = TDist(df)\n",
    "model\n",
    "\n",
    "#TODO: evaluate the cumulative distribution until t"
   ]
  },
  {
   "cell_type": "code",
   "execution_count": null,
   "metadata": {},
   "outputs": [],
   "source": []
  }
 ],
 "metadata": {
  "kernelspec": {
   "display_name": "Julia 1.10.2",
   "language": "julia",
   "name": "julia-1.10"
  },
  "language_info": {
   "file_extension": ".jl",
   "mimetype": "application/julia",
   "name": "julia",
   "version": "1.10.2"
  }
 },
 "nbformat": 4,
 "nbformat_minor": 2
}
